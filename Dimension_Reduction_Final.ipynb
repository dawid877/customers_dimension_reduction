{
 "cells": [
  {
   "cell_type": "markdown",
   "id": "b26deb46-2faf-49b3-963b-120527c928fe",
   "metadata": {},
   "source": [
    "## Let's explore the dataset and its variables types"
   ]
  },
  {
   "cell_type": "code",
   "execution_count": 1,
   "id": "add29d95-bbb4-4c19-b8c5-ef30e2a14148",
   "metadata": {},
   "outputs": [],
   "source": [
    "# Let's load the dataset"
   ]
  },
  {
   "cell_type": "code",
   "execution_count": 2,
   "id": "dbe2f144-97ee-4100-8b8c-8b0a89f498ac",
   "metadata": {},
   "outputs": [],
   "source": [
    "commerce <- read.csv('customer_data.csv')"
   ]
  },
  {
   "cell_type": "code",
   "execution_count": 3,
   "id": "162dfecc-474c-402a-9fe1-8152ea056fcf",
   "metadata": {},
   "outputs": [],
   "source": [
    "# I found this dataset on Kaggle. Here's the description of it (copied-pasted from Kaggle).\n",
    "# \" Customer Analysis is a detailed analysis of a company’s customers. It helps a business to\n",
    "# better understand its customers and makes it easier for them to modify products according\n",
    "# to the specific needs, behaviours and concerns of different types of customers. Customer\n",
    "# analysis helps a business to modify its product based on its target customers from different\n",
    "# types of customer segments. For example, instead of spending money to market a new\n",
    "# product to every customer in the company’s database, a company can analyze which\n",
    "# customer segment is most likely to buy the product and then market the product only on that\n",
    "# particular segment.\""
   ]
  },
  {
   "cell_type": "code",
   "execution_count": 4,
   "id": "446369e7-ee05-4696-9ba9-b54c86b04cfe",
   "metadata": {},
   "outputs": [
    {
     "data": {
      "text/html": [
       "<table class=\"dataframe\">\n",
       "<caption>A data.frame: 6 × 29</caption>\n",
       "<thead>\n",
       "\t<tr><th></th><th scope=col>ID</th><th scope=col>Year_Birth</th><th scope=col>Education</th><th scope=col>Marital_Status</th><th scope=col>Income</th><th scope=col>Kidhome</th><th scope=col>Teenhome</th><th scope=col>Dt_Customer</th><th scope=col>Recency</th><th scope=col>MntWines</th><th scope=col>⋯</th><th scope=col>NumWebVisitsMonth</th><th scope=col>AcceptedCmp3</th><th scope=col>AcceptedCmp4</th><th scope=col>AcceptedCmp5</th><th scope=col>AcceptedCmp1</th><th scope=col>AcceptedCmp2</th><th scope=col>Complain</th><th scope=col>Z_CostContact</th><th scope=col>Z_Revenue</th><th scope=col>Response</th></tr>\n",
       "\t<tr><th></th><th scope=col>&lt;int&gt;</th><th scope=col>&lt;int&gt;</th><th scope=col>&lt;chr&gt;</th><th scope=col>&lt;chr&gt;</th><th scope=col>&lt;int&gt;</th><th scope=col>&lt;int&gt;</th><th scope=col>&lt;int&gt;</th><th scope=col>&lt;chr&gt;</th><th scope=col>&lt;int&gt;</th><th scope=col>&lt;int&gt;</th><th scope=col>⋯</th><th scope=col>&lt;int&gt;</th><th scope=col>&lt;int&gt;</th><th scope=col>&lt;int&gt;</th><th scope=col>&lt;int&gt;</th><th scope=col>&lt;int&gt;</th><th scope=col>&lt;int&gt;</th><th scope=col>&lt;int&gt;</th><th scope=col>&lt;int&gt;</th><th scope=col>&lt;int&gt;</th><th scope=col>&lt;int&gt;</th></tr>\n",
       "</thead>\n",
       "<tbody>\n",
       "\t<tr><th scope=row>1</th><td>5524</td><td>1957</td><td>Graduation</td><td>Single  </td><td>58138</td><td>0</td><td>0</td><td>04/09/12</td><td>58</td><td>635</td><td>⋯</td><td>7</td><td>0</td><td>0</td><td>0</td><td>0</td><td>0</td><td>0</td><td>3</td><td>11</td><td>1</td></tr>\n",
       "\t<tr><th scope=row>2</th><td>2174</td><td>1954</td><td>Graduation</td><td>Single  </td><td>46344</td><td>1</td><td>1</td><td>08/03/14</td><td>38</td><td> 11</td><td>⋯</td><td>5</td><td>0</td><td>0</td><td>0</td><td>0</td><td>0</td><td>0</td><td>3</td><td>11</td><td>0</td></tr>\n",
       "\t<tr><th scope=row>3</th><td>4141</td><td>1965</td><td>Graduation</td><td>Together</td><td>71613</td><td>0</td><td>0</td><td>21/08/13</td><td>26</td><td>426</td><td>⋯</td><td>4</td><td>0</td><td>0</td><td>0</td><td>0</td><td>0</td><td>0</td><td>3</td><td>11</td><td>0</td></tr>\n",
       "\t<tr><th scope=row>4</th><td>6182</td><td>1984</td><td>Graduation</td><td>Together</td><td>26646</td><td>1</td><td>0</td><td>10/02/14</td><td>26</td><td> 11</td><td>⋯</td><td>6</td><td>0</td><td>0</td><td>0</td><td>0</td><td>0</td><td>0</td><td>3</td><td>11</td><td>0</td></tr>\n",
       "\t<tr><th scope=row>5</th><td>5324</td><td>1981</td><td>PhD       </td><td>Married </td><td>58293</td><td>1</td><td>0</td><td>19/01/14</td><td>94</td><td>173</td><td>⋯</td><td>5</td><td>0</td><td>0</td><td>0</td><td>0</td><td>0</td><td>0</td><td>3</td><td>11</td><td>0</td></tr>\n",
       "\t<tr><th scope=row>6</th><td>7446</td><td>1967</td><td>Master    </td><td>Together</td><td>62513</td><td>0</td><td>1</td><td>09/09/13</td><td>16</td><td>520</td><td>⋯</td><td>6</td><td>0</td><td>0</td><td>0</td><td>0</td><td>0</td><td>0</td><td>3</td><td>11</td><td>0</td></tr>\n",
       "</tbody>\n",
       "</table>\n"
      ],
      "text/latex": [
       "A data.frame: 6 × 29\n",
       "\\begin{tabular}{r|lllllllllllllllllllll}\n",
       "  & ID & Year\\_Birth & Education & Marital\\_Status & Income & Kidhome & Teenhome & Dt\\_Customer & Recency & MntWines & ⋯ & NumWebVisitsMonth & AcceptedCmp3 & AcceptedCmp4 & AcceptedCmp5 & AcceptedCmp1 & AcceptedCmp2 & Complain & Z\\_CostContact & Z\\_Revenue & Response\\\\\n",
       "  & <int> & <int> & <chr> & <chr> & <int> & <int> & <int> & <chr> & <int> & <int> & ⋯ & <int> & <int> & <int> & <int> & <int> & <int> & <int> & <int> & <int> & <int>\\\\\n",
       "\\hline\n",
       "\t1 & 5524 & 1957 & Graduation & Single   & 58138 & 0 & 0 & 04/09/12 & 58 & 635 & ⋯ & 7 & 0 & 0 & 0 & 0 & 0 & 0 & 3 & 11 & 1\\\\\n",
       "\t2 & 2174 & 1954 & Graduation & Single   & 46344 & 1 & 1 & 08/03/14 & 38 &  11 & ⋯ & 5 & 0 & 0 & 0 & 0 & 0 & 0 & 3 & 11 & 0\\\\\n",
       "\t3 & 4141 & 1965 & Graduation & Together & 71613 & 0 & 0 & 21/08/13 & 26 & 426 & ⋯ & 4 & 0 & 0 & 0 & 0 & 0 & 0 & 3 & 11 & 0\\\\\n",
       "\t4 & 6182 & 1984 & Graduation & Together & 26646 & 1 & 0 & 10/02/14 & 26 &  11 & ⋯ & 6 & 0 & 0 & 0 & 0 & 0 & 0 & 3 & 11 & 0\\\\\n",
       "\t5 & 5324 & 1981 & PhD        & Married  & 58293 & 1 & 0 & 19/01/14 & 94 & 173 & ⋯ & 5 & 0 & 0 & 0 & 0 & 0 & 0 & 3 & 11 & 0\\\\\n",
       "\t6 & 7446 & 1967 & Master     & Together & 62513 & 0 & 1 & 09/09/13 & 16 & 520 & ⋯ & 6 & 0 & 0 & 0 & 0 & 0 & 0 & 3 & 11 & 0\\\\\n",
       "\\end{tabular}\n"
      ],
      "text/markdown": [
       "\n",
       "A data.frame: 6 × 29\n",
       "\n",
       "| <!--/--> | ID &lt;int&gt; | Year_Birth &lt;int&gt; | Education &lt;chr&gt; | Marital_Status &lt;chr&gt; | Income &lt;int&gt; | Kidhome &lt;int&gt; | Teenhome &lt;int&gt; | Dt_Customer &lt;chr&gt; | Recency &lt;int&gt; | MntWines &lt;int&gt; | ⋯ ⋯ | NumWebVisitsMonth &lt;int&gt; | AcceptedCmp3 &lt;int&gt; | AcceptedCmp4 &lt;int&gt; | AcceptedCmp5 &lt;int&gt; | AcceptedCmp1 &lt;int&gt; | AcceptedCmp2 &lt;int&gt; | Complain &lt;int&gt; | Z_CostContact &lt;int&gt; | Z_Revenue &lt;int&gt; | Response &lt;int&gt; |\n",
       "|---|---|---|---|---|---|---|---|---|---|---|---|---|---|---|---|---|---|---|---|---|---|\n",
       "| 1 | 5524 | 1957 | Graduation | Single   | 58138 | 0 | 0 | 04/09/12 | 58 | 635 | ⋯ | 7 | 0 | 0 | 0 | 0 | 0 | 0 | 3 | 11 | 1 |\n",
       "| 2 | 2174 | 1954 | Graduation | Single   | 46344 | 1 | 1 | 08/03/14 | 38 |  11 | ⋯ | 5 | 0 | 0 | 0 | 0 | 0 | 0 | 3 | 11 | 0 |\n",
       "| 3 | 4141 | 1965 | Graduation | Together | 71613 | 0 | 0 | 21/08/13 | 26 | 426 | ⋯ | 4 | 0 | 0 | 0 | 0 | 0 | 0 | 3 | 11 | 0 |\n",
       "| 4 | 6182 | 1984 | Graduation | Together | 26646 | 1 | 0 | 10/02/14 | 26 |  11 | ⋯ | 6 | 0 | 0 | 0 | 0 | 0 | 0 | 3 | 11 | 0 |\n",
       "| 5 | 5324 | 1981 | PhD        | Married  | 58293 | 1 | 0 | 19/01/14 | 94 | 173 | ⋯ | 5 | 0 | 0 | 0 | 0 | 0 | 0 | 3 | 11 | 0 |\n",
       "| 6 | 7446 | 1967 | Master     | Together | 62513 | 0 | 1 | 09/09/13 | 16 | 520 | ⋯ | 6 | 0 | 0 | 0 | 0 | 0 | 0 | 3 | 11 | 0 |\n",
       "\n"
      ],
      "text/plain": [
       "  ID   Year_Birth Education  Marital_Status Income Kidhome Teenhome Dt_Customer\n",
       "1 5524 1957       Graduation Single         58138  0       0        04/09/12   \n",
       "2 2174 1954       Graduation Single         46344  1       1        08/03/14   \n",
       "3 4141 1965       Graduation Together       71613  0       0        21/08/13   \n",
       "4 6182 1984       Graduation Together       26646  1       0        10/02/14   \n",
       "5 5324 1981       PhD        Married        58293  1       0        19/01/14   \n",
       "6 7446 1967       Master     Together       62513  0       1        09/09/13   \n",
       "  Recency MntWines ⋯ NumWebVisitsMonth AcceptedCmp3 AcceptedCmp4 AcceptedCmp5\n",
       "1 58      635      ⋯ 7                 0            0            0           \n",
       "2 38       11      ⋯ 5                 0            0            0           \n",
       "3 26      426      ⋯ 4                 0            0            0           \n",
       "4 26       11      ⋯ 6                 0            0            0           \n",
       "5 94      173      ⋯ 5                 0            0            0           \n",
       "6 16      520      ⋯ 6                 0            0            0           \n",
       "  AcceptedCmp1 AcceptedCmp2 Complain Z_CostContact Z_Revenue Response\n",
       "1 0            0            0        3             11        1       \n",
       "2 0            0            0        3             11        0       \n",
       "3 0            0            0        3             11        0       \n",
       "4 0            0            0        3             11        0       \n",
       "5 0            0            0        3             11        0       \n",
       "6 0            0            0        3             11        0       "
      ]
     },
     "metadata": {},
     "output_type": "display_data"
    }
   ],
   "source": [
    "head(commerce)"
   ]
  },
  {
   "cell_type": "code",
   "execution_count": 5,
   "id": "b09d541f-9f0e-4ff4-a765-e285d761826b",
   "metadata": {},
   "outputs": [
    {
     "name": "stdout",
     "output_type": "stream",
     "text": [
      "'data.frame':\t2240 obs. of  29 variables:\n",
      " $ ID                 : int  5524 2174 4141 6182 5324 7446 965 6177 4855 5899 ...\n",
      " $ Year_Birth         : int  1957 1954 1965 1984 1981 1967 1971 1985 1974 1950 ...\n",
      " $ Education          : chr  \"Graduation\" \"Graduation\" \"Graduation\" \"Graduation\" ...\n",
      " $ Marital_Status     : chr  \"Single\" \"Single\" \"Together\" \"Together\" ...\n",
      " $ Income             : int  58138 46344 71613 26646 58293 62513 55635 33454 30351 5648 ...\n",
      " $ Kidhome            : int  0 1 0 1 1 0 0 1 1 1 ...\n",
      " $ Teenhome           : int  0 1 0 0 0 1 1 0 0 1 ...\n",
      " $ Dt_Customer        : chr  \"04/09/12\" \"08/03/14\" \"21/08/13\" \"10/02/14\" ...\n",
      " $ Recency            : int  58 38 26 26 94 16 34 32 19 68 ...\n",
      " $ MntWines           : int  635 11 426 11 173 520 235 76 14 28 ...\n",
      " $ MntFruits          : int  88 1 49 4 43 42 65 10 0 0 ...\n",
      " $ MntMeatProducts    : int  546 6 127 20 118 98 164 56 24 6 ...\n",
      " $ MntFishProducts    : int  172 2 111 10 46 0 50 3 3 1 ...\n",
      " $ MntSweetProducts   : int  88 1 21 3 27 42 49 1 3 1 ...\n",
      " $ MntGoldProds       : int  88 6 42 5 15 14 27 23 2 13 ...\n",
      " $ NumDealsPurchases  : int  3 2 1 2 5 2 4 2 1 1 ...\n",
      " $ NumWebPurchases    : int  8 1 8 2 5 6 7 4 3 1 ...\n",
      " $ NumCatalogPurchases: int  10 1 2 0 3 4 3 0 0 0 ...\n",
      " $ NumStorePurchases  : int  4 2 10 4 6 10 7 4 2 0 ...\n",
      " $ NumWebVisitsMonth  : int  7 5 4 6 5 6 6 8 9 20 ...\n",
      " $ AcceptedCmp3       : int  0 0 0 0 0 0 0 0 0 1 ...\n",
      " $ AcceptedCmp4       : int  0 0 0 0 0 0 0 0 0 0 ...\n",
      " $ AcceptedCmp5       : int  0 0 0 0 0 0 0 0 0 0 ...\n",
      " $ AcceptedCmp1       : int  0 0 0 0 0 0 0 0 0 0 ...\n",
      " $ AcceptedCmp2       : int  0 0 0 0 0 0 0 0 0 0 ...\n",
      " $ Complain           : int  0 0 0 0 0 0 0 0 0 0 ...\n",
      " $ Z_CostContact      : int  3 3 3 3 3 3 3 3 3 3 ...\n",
      " $ Z_Revenue          : int  11 11 11 11 11 11 11 11 11 11 ...\n",
      " $ Response           : int  1 0 0 0 0 0 0 0 1 0 ...\n"
     ]
    }
   ],
   "source": [
    "str(commerce)"
   ]
  },
  {
   "cell_type": "code",
   "execution_count": 6,
   "id": "1186c504-6ef1-452e-9508-a04542b8f8aa",
   "metadata": {},
   "outputs": [],
   "source": [
    "# Variables description:\n",
    "# ID: Customer's unique identifier\n",
    "# Year_Birth: Customer's birth year\n",
    "# Education: Customer's education level\n",
    "# Marital_Status: Customer's marital status\n",
    "# Income: Customer's yearly household income\n",
    "# Kidhome: Number of children in customer's household\n",
    "# Teenhome: Number of teenagers in customer's household\n",
    "# Dt_Customer: Date of customer's enrollment with the company\n",
    "# Recency: Number of days since customer's last purchase\n",
    "# Complain: 1 if the customer complained in the last 2 years, 0 otherwise\n",
    "# MntWines: Amount spent on wine in last 2 years\n",
    "# MntFruits: Amount spent on fruits in last 2 years\n",
    "# MntMeatProducts: Amount spent on meat in last 2 years\n",
    "# MntFishProducts: Amount spent on fish in last 2 years\n",
    "# MntSweetProducts: Amount spent on sweets in last 2 years\n",
    "# MntGoldProds: Amount spent on gold in last 2 years\n",
    "# NumDealsPurchases: Number of purchases made with a discount\n",
    "# AcceptedCmp1: 1 if customer accepted the offer in the 1st campaign, 0 otherwise\n",
    "# AcceptedCmp2: 1 if customer accepted the offer in the 2nd campaign, 0 otherwise\n",
    "# AcceptedCmp3: 1 if customer accepted the offer in the 3rd campaign, 0 otherwise\n",
    "# AcceptedCmp4: 1 if customer accepted the offer in the 4th campaign, 0 otherwise\n",
    "# AcceptedCmp5: 1 if customer accepted the offer in the 5th campaign, 0 otherwise\n",
    "# Response: 1 if customer accepted the offer in the last campaign, 0 otherwise\n",
    "# NumWebPurchases: Number of purchases made through the company’s website\n",
    "# NumCatalogPurchases: Number of purchases made using a catalogue\n",
    "# NumStorePurchases: Number of purchases made directly in stores\n",
    "# NumWebVisitsMonth: Number of visits to company’s website in the last month"
   ]
  },
  {
   "cell_type": "code",
   "execution_count": 8,
   "id": "89f093bc-c34f-4314-9ec3-8f4d16e7a2da",
   "metadata": {},
   "outputs": [],
   "source": [
    "# We are dealing with mixed data:"
   ]
  },
  {
   "cell_type": "code",
   "execution_count": 10,
   "id": "c821fdbe-37df-4e98-b82a-f13d70030c7c",
   "metadata": {},
   "outputs": [],
   "source": [
    "# Numerical variables:\n",
    "# - Income\n",
    "# - Recency\n",
    "# - MntWines\n",
    "# - MntFruits\n",
    "# - MntMeatProducts\n",
    "# - MntFishProducts\n",
    "# - MntSweetProducts\n",
    "# - MntGoldProds\n",
    "# - NumDealsPurchases\n",
    "# - NumWebPurchases\n",
    "# - NumCatalogPurchases\n",
    "# - NumStorePurchases\n",
    "# - NumWebVisitMonth"
   ]
  },
  {
   "cell_type": "code",
   "execution_count": 11,
   "id": "e20cfd92-64e6-45ca-ad54-58f2a52177e4",
   "metadata": {},
   "outputs": [],
   "source": [
    "# Nominal variable (in character format):\n",
    "# - Marital_Status"
   ]
  },
  {
   "cell_type": "code",
   "execution_count": 12,
   "id": "57b87e43-d111-41df-be25-371399bf5acf",
   "metadata": {},
   "outputs": [],
   "source": [
    "# Ordinal variables:\n",
    "# - Education\n",
    "# - Kidhome\n",
    "# - Teenhome"
   ]
  },
  {
   "cell_type": "code",
   "execution_count": 13,
   "id": "436252d0-511c-4f3d-a2a8-f654257437de",
   "metadata": {},
   "outputs": [],
   "source": [
    "# Binary variables:\n",
    "# - AcceptedCm3\n",
    "# - AcceptedCm4\n",
    "# - AcceptedCm5\n",
    "# - AcceptedCm1\n",
    "# - AcceptedCm2\n",
    "# - Complain\n",
    "# - Response"
   ]
  },
  {
   "cell_type": "code",
   "execution_count": 14,
   "id": "3bc3c478-83c5-4de8-a733-6a41cedea759",
   "metadata": {},
   "outputs": [],
   "source": [
    "# Date variables:\n",
    "# - Year_Birth\n",
    "# - Dt_Customer"
   ]
  },
  {
   "cell_type": "code",
   "execution_count": 17,
   "id": "59db70d1-91af-4016-9ea1-4df2bd5e363f",
   "metadata": {},
   "outputs": [],
   "source": [
    "# Variables Z_CostContact and Z_Revenue are not in the description of the dataset in Kaggle. LEt's try to figure out what they can mean"
   ]
  },
  {
   "cell_type": "code",
   "execution_count": 19,
   "id": "6030f3cc-fd14-427a-80db-cabf0e2f831d",
   "metadata": {},
   "outputs": [
    {
     "data": {
      "text/plain": [
       "\n",
       "   3 \n",
       "2240 "
      ]
     },
     "metadata": {},
     "output_type": "display_data"
    },
    {
     "data": {
      "text/html": [
       "FALSE"
      ],
      "text/latex": [
       "FALSE"
      ],
      "text/markdown": [
       "FALSE"
      ],
      "text/plain": [
       "[1] FALSE"
      ]
     },
     "metadata": {},
     "output_type": "display_data"
    }
   ],
   "source": [
    "table(commerce$Z_CostContact)\n",
    "\n",
    "any(is.na(commerce$Z_CostContact))"
   ]
  },
  {
   "cell_type": "code",
   "execution_count": 20,
   "id": "9c252b15-b2f4-4307-92e3-31f17ae82fd5",
   "metadata": {},
   "outputs": [],
   "source": [
    "# Variable Z_CostContact contains no missing values. Each row has 3 in this varaible. We can remove this column"
   ]
  },
  {
   "cell_type": "code",
   "execution_count": 21,
   "id": "caec4e97-935f-4f69-90b5-5dc07ff45cea",
   "metadata": {},
   "outputs": [],
   "source": [
    "commerce$Z_CostContact <- NULL"
   ]
  },
  {
   "cell_type": "code",
   "execution_count": 23,
   "id": "b8a2dfef-af31-4cf3-8b59-784011b1c085",
   "metadata": {},
   "outputs": [
    {
     "data": {
      "text/plain": [
       "\n",
       "  11 \n",
       "2240 "
      ]
     },
     "metadata": {},
     "output_type": "display_data"
    },
    {
     "data": {
      "text/html": [
       "FALSE"
      ],
      "text/latex": [
       "FALSE"
      ],
      "text/markdown": [
       "FALSE"
      ],
      "text/plain": [
       "[1] FALSE"
      ]
     },
     "metadata": {},
     "output_type": "display_data"
    }
   ],
   "source": [
    "table(commerce$Z_Revenue)\n",
    "\n",
    "any(is.na(commerce$Z_Revenue))"
   ]
  },
  {
   "cell_type": "code",
   "execution_count": 25,
   "id": "3a0389a7-f2d9-4125-a7b3-1a688b000a1d",
   "metadata": {},
   "outputs": [],
   "source": [
    "# Again, the Z_Revenue variable is also useless from our point of vue. As previously, it represents only one variable - 11 - and has no NA values.\n",
    "# Let's remove this column as well"
   ]
  },
  {
   "cell_type": "code",
   "execution_count": 26,
   "id": "18101940-16b4-483d-ae99-69bb0bad32d8",
   "metadata": {},
   "outputs": [],
   "source": [
    "commerce$Z_Revenue <- NULL"
   ]
  },
  {
   "cell_type": "markdown",
   "id": "0bb2897c-0843-451d-a23e-79eed7f400f8",
   "metadata": {},
   "source": [
    "## Let's deal with missing values, categorical variables encoding and other helpful transformations"
   ]
  },
  {
   "cell_type": "code",
   "execution_count": 27,
   "id": "b9266f79-2ca7-4d54-af6b-b3264d1b3b04",
   "metadata": {},
   "outputs": [],
   "source": [
    "# Numerical variables"
   ]
  },
  {
   "cell_type": "code",
   "execution_count": 28,
   "id": "9500c164-4cb7-4569-ba3c-042e883104fd",
   "metadata": {},
   "outputs": [],
   "source": [
    "numeric_cols <- c(\"Income\", \"Recency\", \"MntWines\", \"MntFruits\", \n",
    "                  \"MntMeatProducts\", \"MntFishProducts\", \"MntSweetProducts\", \n",
    "                  \"MntGoldProds\", \"NumDealsPurchases\", \"NumWebPurchases\", \n",
    "                  \"NumCatalogPurchases\", \"NumStorePurchases\", \"NumWebVisitsMonth\")"
   ]
  },
  {
   "cell_type": "code",
   "execution_count": 29,
   "id": "e0d20d26-189b-4e0e-b29d-f5c7f3471df8",
   "metadata": {},
   "outputs": [],
   "source": [
    "commerce_numeric <- commerce[,numeric_cols]"
   ]
  },
  {
   "cell_type": "code",
   "execution_count": 30,
   "id": "3a4932c5-53ef-4fd0-9158-246f1ad6ba0b",
   "metadata": {},
   "outputs": [
    {
     "data": {
      "text/plain": [
       "     Income          Recency         MntWines         MntFruits    \n",
       " Min.   :  1730   Min.   : 0.00   Min.   :   0.00   Min.   :  0.0  \n",
       " 1st Qu.: 35303   1st Qu.:24.00   1st Qu.:  23.75   1st Qu.:  1.0  \n",
       " Median : 51382   Median :49.00   Median : 173.50   Median :  8.0  \n",
       " Mean   : 52247   Mean   :49.11   Mean   : 303.94   Mean   : 26.3  \n",
       " 3rd Qu.: 68522   3rd Qu.:74.00   3rd Qu.: 504.25   3rd Qu.: 33.0  \n",
       " Max.   :666666   Max.   :99.00   Max.   :1493.00   Max.   :199.0  \n",
       " NA's   :24                                                        \n",
       " MntMeatProducts  MntFishProducts  MntSweetProducts  MntGoldProds   \n",
       " Min.   :   0.0   Min.   :  0.00   Min.   :  0.00   Min.   :  0.00  \n",
       " 1st Qu.:  16.0   1st Qu.:  3.00   1st Qu.:  1.00   1st Qu.:  9.00  \n",
       " Median :  67.0   Median : 12.00   Median :  8.00   Median : 24.00  \n",
       " Mean   : 166.9   Mean   : 37.53   Mean   : 27.06   Mean   : 44.02  \n",
       " 3rd Qu.: 232.0   3rd Qu.: 50.00   3rd Qu.: 33.00   3rd Qu.: 56.00  \n",
       " Max.   :1725.0   Max.   :259.00   Max.   :263.00   Max.   :362.00  \n",
       "                                                                    \n",
       " NumDealsPurchases NumWebPurchases  NumCatalogPurchases NumStorePurchases\n",
       " Min.   : 0.000    Min.   : 0.000   Min.   : 0.000      Min.   : 0.00    \n",
       " 1st Qu.: 1.000    1st Qu.: 2.000   1st Qu.: 0.000      1st Qu.: 3.00    \n",
       " Median : 2.000    Median : 4.000   Median : 2.000      Median : 5.00    \n",
       " Mean   : 2.325    Mean   : 4.085   Mean   : 2.662      Mean   : 5.79    \n",
       " 3rd Qu.: 3.000    3rd Qu.: 6.000   3rd Qu.: 4.000      3rd Qu.: 8.00    \n",
       " Max.   :15.000    Max.   :27.000   Max.   :28.000      Max.   :13.00    \n",
       "                                                                         \n",
       " NumWebVisitsMonth\n",
       " Min.   : 0.000   \n",
       " 1st Qu.: 3.000   \n",
       " Median : 6.000   \n",
       " Mean   : 5.317   \n",
       " 3rd Qu.: 7.000   \n",
       " Max.   :20.000   \n",
       "                  "
      ]
     },
     "metadata": {},
     "output_type": "display_data"
    }
   ],
   "source": [
    "summary(commerce_numeric)"
   ]
  },
  {
   "cell_type": "code",
   "execution_count": 31,
   "id": "b0456acf-988f-4b16-869f-d66da832da9e",
   "metadata": {},
   "outputs": [],
   "source": [
    "# We have 24 missing values in Income. Let's replace them with mean. It is important to highlight I will input changes to commerce dataset, \n",
    "# not commerce_numeric"
   ]
  },
  {
   "cell_type": "code",
   "execution_count": 32,
   "id": "61a09024-7767-4136-af6b-d2da76cc19ff",
   "metadata": {},
   "outputs": [],
   "source": [
    "commerce$Income[is.na(commerce$Income)] <- mean(commerce$Income, na.rm = TRUE)"
   ]
  },
  {
   "cell_type": "code",
   "execution_count": 33,
   "id": "5adb93df-d006-4129-a73b-f024641bfa1d",
   "metadata": {},
   "outputs": [],
   "source": [
    "# Nominal variable (in character format): Marital_Status"
   ]
  },
  {
   "cell_type": "code",
   "execution_count": 35,
   "id": "b1be0bd2-cdbd-4904-93f6-be0fa398b8ac",
   "metadata": {},
   "outputs": [
    {
     "data": {
      "text/plain": [
       "\n",
       "  Absurd    Alone Divorced  Married   Single Together    Widow     YOLO \n",
       "       2        3      232      864      480      580       77        2 "
      ]
     },
     "metadata": {},
     "output_type": "display_data"
    },
    {
     "data": {
      "text/html": [
       "FALSE"
      ],
      "text/latex": [
       "FALSE"
      ],
      "text/markdown": [
       "FALSE"
      ],
      "text/plain": [
       "[1] FALSE"
      ]
     },
     "metadata": {},
     "output_type": "display_data"
    }
   ],
   "source": [
    "table(commerce$Marital_Status)\n",
    "any(is.na(commerce$Marital_Status))"
   ]
  },
  {
   "cell_type": "code",
   "execution_count": 37,
   "id": "a17316bd-34cb-414e-8b38-f40d961cf638",
   "metadata": {},
   "outputs": [],
   "source": [
    "# I would say that some of the levels are not that meaningful. I would merge them with other, more meaninful levels\n",
    "# - Absurd: to be matched with Together\n",
    "# - Alone: to be matched with Single\n",
    "# - YOLO: to be matched with Together\n",
    "# At this step, we stay with Married, Together (couple without formal marriage), Divorced, Widow and Single\n",
    "# As Marital_status variable is not orderable, we would need to use one-hot encoding method It increases the dimensionality of the dataset, \n",
    "# which is not preferablle in the context of this project aiming to reduce dimensionality. \n",
    "# We will merge all these levels to stay with Together (gathering formal and infomral couples) vs Single (inclusing Divorced and Widows)."
   ]
  },
  {
   "cell_type": "code",
   "execution_count": 38,
   "id": "2e8f1f51-7169-4408-bae1-95197b8734a8",
   "metadata": {},
   "outputs": [],
   "source": [
    "commerce$Marital_Status[commerce$Marital_Status == 'Absurd'] <- 'Together'\n",
    "commerce$Marital_Status[commerce$Marital_Status == 'Alone'] <- 'Single'\n",
    "commerce$Marital_Status[commerce$Marital_Status == 'YOLO'] <- 'Together'"
   ]
  },
  {
   "cell_type": "code",
   "execution_count": 39,
   "id": "dd7171f6-f7ab-4fdf-b292-c9d5372687f3",
   "metadata": {},
   "outputs": [
    {
     "data": {
      "text/plain": [
       "\n",
       "Divorced  Married   Single Together    Widow \n",
       "     232      864      483      584       77 "
      ]
     },
     "metadata": {},
     "output_type": "display_data"
    }
   ],
   "source": [
    "table(commerce$Marital_Status)"
   ]
  },
  {
   "cell_type": "code",
   "execution_count": 40,
   "id": "69ba712b-034f-4b14-9ef6-45ba7aaf2570",
   "metadata": {},
   "outputs": [],
   "source": [
    "commerce$Marital_Status[commerce$Marital_Status == 'Divorced'] <- 'Single'\n",
    "commerce$Marital_Status[commerce$Marital_Status == 'Married'] <- 'Together'\n",
    "commerce$Marital_Status[commerce$Marital_Status == 'Widow'] <- 'Single'"
   ]
  },
  {
   "cell_type": "code",
   "execution_count": 41,
   "id": "ea3926c7-e261-4d90-8b9b-71ffc10c4bd1",
   "metadata": {},
   "outputs": [
    {
     "data": {
      "text/plain": [
       "\n",
       "  Single Together \n",
       "     792     1448 "
      ]
     },
     "metadata": {},
     "output_type": "display_data"
    }
   ],
   "source": [
    "table(commerce$Marital_Status)"
   ]
  },
  {
   "cell_type": "code",
   "execution_count": 42,
   "id": "c95b2232-b0df-4602-8aa4-5bf55f83be24",
   "metadata": {},
   "outputs": [],
   "source": [
    "# We are left with only two levels, which can be encoded as:\n",
    "# - 0 for Single\n",
    "# - 1 for Together"
   ]
  },
  {
   "cell_type": "code",
   "execution_count": 43,
   "id": "01ca2c59-d99c-4431-acfa-0e4d1d6cc36d",
   "metadata": {},
   "outputs": [
    {
     "data": {
      "text/plain": [
       "\n",
       "   0    1 \n",
       " 792 1448 "
      ]
     },
     "metadata": {},
     "output_type": "display_data"
    }
   ],
   "source": [
    "commerce$Marital_Status <- ifelse(commerce$Marital_Status == \"Single\", 0, 1)\n",
    "\n",
    "# Check the result\n",
    "table(commerce$Marital_Status)"
   ]
  },
  {
   "cell_type": "code",
   "execution_count": 44,
   "id": "76c80399-5551-4a5d-8fe6-62c5beb0cf33",
   "metadata": {},
   "outputs": [],
   "source": [
    "# Ordinal variables:\n",
    "# - Education\n",
    "# - Kidhome\n",
    "# - Teenhome"
   ]
  },
  {
   "cell_type": "code",
   "execution_count": 51,
   "id": "784de93b-2ba6-4a3d-ac1c-3c3b53a97d6c",
   "metadata": {},
   "outputs": [],
   "source": [
    "# Education"
   ]
  },
  {
   "cell_type": "code",
   "execution_count": 45,
   "id": "e5c0f1c3-65e3-4e09-bdf6-ac2f6560c48c",
   "metadata": {},
   "outputs": [
    {
     "data": {
      "text/plain": [
       "\n",
       "  2n Cycle      Basic Graduation     Master        PhD \n",
       "       203         54       1127        370        486 "
      ]
     },
     "metadata": {},
     "output_type": "display_data"
    },
    {
     "data": {
      "text/html": [
       "FALSE"
      ],
      "text/latex": [
       "FALSE"
      ],
      "text/markdown": [
       "FALSE"
      ],
      "text/plain": [
       "[1] FALSE"
      ]
     },
     "metadata": {},
     "output_type": "display_data"
    }
   ],
   "source": [
    "table(commerce$Education)\n",
    "any(is.na(commerce$Education))"
   ]
  },
  {
   "cell_type": "code",
   "execution_count": 46,
   "id": "d6757cff-e901-405a-9e1d-1d8f8849165b",
   "metadata": {},
   "outputs": [],
   "source": [
    "# How would we order this data?\n",
    "#1. Basic\n",
    "#2. Graduation (Bachelor's degree)\n",
    "#3. 2nd Cycle & Master (Master's degree)\n",
    "#4. PhD "
   ]
  },
  {
   "cell_type": "code",
   "execution_count": 47,
   "id": "b46b91f8-b982-4de5-94b0-1f41ccb0aba5",
   "metadata": {},
   "outputs": [],
   "source": [
    "commerce$Education[commerce$Education == '2n Cycle'] <- 'Master'"
   ]
  },
  {
   "cell_type": "code",
   "execution_count": 48,
   "id": "980ff754-bd87-4f5f-993b-2410bfeb48b9",
   "metadata": {},
   "outputs": [
    {
     "data": {
      "text/plain": [
       "\n",
       "     Basic Graduation     Master        PhD \n",
       "        54       1127        573        486 "
      ]
     },
     "metadata": {},
     "output_type": "display_data"
    }
   ],
   "source": [
    "table(commerce$Education)"
   ]
  },
  {
   "cell_type": "code",
   "execution_count": 49,
   "id": "86c357c1-e40d-4acd-aa47-5ce5353d0837",
   "metadata": {},
   "outputs": [],
   "source": [
    "commerce$Education <- factor(commerce$Education, levels = c('Basic','Graduation','Master','PhD'))\n",
    "commerce$Education <- as.numeric(commerce$Education)"
   ]
  },
  {
   "cell_type": "code",
   "execution_count": 50,
   "id": "1f58612e-e6ef-41fa-873a-b81900ddc7dc",
   "metadata": {},
   "outputs": [
    {
     "data": {
      "text/plain": [
       "\n",
       "   1    2    3    4 \n",
       "  54 1127  573  486 "
      ]
     },
     "metadata": {},
     "output_type": "display_data"
    }
   ],
   "source": [
    "table(commerce$Education)"
   ]
  },
  {
   "cell_type": "code",
   "execution_count": 55,
   "id": "279ad9ff-e29e-47f6-b5c0-2e2146068d4b",
   "metadata": {},
   "outputs": [],
   "source": [
    "# Kidhome - no changes needed"
   ]
  },
  {
   "cell_type": "code",
   "execution_count": 54,
   "id": "00807aa8-965d-46c8-823b-b43a70a06d29",
   "metadata": {},
   "outputs": [
    {
     "data": {
      "text/plain": [
       "\n",
       "   0    1    2 \n",
       "1293  899   48 "
      ]
     },
     "metadata": {},
     "output_type": "display_data"
    },
    {
     "data": {
      "text/html": [
       "FALSE"
      ],
      "text/latex": [
       "FALSE"
      ],
      "text/markdown": [
       "FALSE"
      ],
      "text/plain": [
       "[1] FALSE"
      ]
     },
     "metadata": {},
     "output_type": "display_data"
    }
   ],
   "source": [
    "table(commerce$Kidhome)\n",
    "any(is.na(commerce$Kidhome))"
   ]
  },
  {
   "cell_type": "code",
   "execution_count": 56,
   "id": "fbeeed9b-29f2-4261-89b4-bee26435e13e",
   "metadata": {},
   "outputs": [],
   "source": [
    "# Teenhome - no changes needed"
   ]
  },
  {
   "cell_type": "code",
   "execution_count": 57,
   "id": "3bd073a9-2a83-4c45-b1fa-a93a9f9973e4",
   "metadata": {},
   "outputs": [
    {
     "data": {
      "text/plain": [
       "\n",
       "   0    1    2 \n",
       "1158 1030   52 "
      ]
     },
     "metadata": {},
     "output_type": "display_data"
    },
    {
     "data": {
      "text/html": [
       "FALSE"
      ],
      "text/latex": [
       "FALSE"
      ],
      "text/markdown": [
       "FALSE"
      ],
      "text/plain": [
       "[1] FALSE"
      ]
     },
     "metadata": {},
     "output_type": "display_data"
    }
   ],
   "source": [
    "table(commerce$Teenhome)\n",
    "any(is.na(commerce$Teenhome))"
   ]
  },
  {
   "cell_type": "code",
   "execution_count": 58,
   "id": "e60bbd07-2a79-460f-86b8-e3f41ab6c5c0",
   "metadata": {},
   "outputs": [],
   "source": [
    "# Binary variables:\n",
    "# - AcceptedCmp3\n",
    "# - AcceptedCmp4\n",
    "# - AcceptedCmp5\n",
    "# - AcceptedCmp1\n",
    "# - AcceptedCmp2\n",
    "# - Complain\n",
    "# - Response"
   ]
  },
  {
   "cell_type": "code",
   "execution_count": 59,
   "id": "00757705-9cae-4d9e-8a7f-248ba5c2be1f",
   "metadata": {},
   "outputs": [],
   "source": [
    "binary_cols <- c(\"AcceptedCmp3\", \"AcceptedCmp4\", \"AcceptedCmp5\", \n",
    "                 \"AcceptedCmp1\", \"AcceptedCmp2\", \"Complain\", \"Response\")"
   ]
  },
  {
   "cell_type": "code",
   "execution_count": 60,
   "id": "c67fe507-3fa6-4824-8fa4-26846c3b14df",
   "metadata": {
    "collapsed": true,
    "jupyter": {
     "outputs_hidden": true
    }
   },
   "outputs": [
    {
     "data": {
      "text/html": [
       "<table class=\"dataframe\">\n",
       "<caption>A data.frame: 2240 × 7</caption>\n",
       "<thead>\n",
       "\t<tr><th scope=col>AcceptedCmp3</th><th scope=col>AcceptedCmp4</th><th scope=col>AcceptedCmp5</th><th scope=col>AcceptedCmp1</th><th scope=col>AcceptedCmp2</th><th scope=col>Complain</th><th scope=col>Response</th></tr>\n",
       "\t<tr><th scope=col>&lt;int&gt;</th><th scope=col>&lt;int&gt;</th><th scope=col>&lt;int&gt;</th><th scope=col>&lt;int&gt;</th><th scope=col>&lt;int&gt;</th><th scope=col>&lt;int&gt;</th><th scope=col>&lt;int&gt;</th></tr>\n",
       "</thead>\n",
       "<tbody>\n",
       "\t<tr><td>0</td><td>0</td><td>0</td><td>0</td><td>0</td><td>0</td><td>1</td></tr>\n",
       "\t<tr><td>0</td><td>0</td><td>0</td><td>0</td><td>0</td><td>0</td><td>0</td></tr>\n",
       "\t<tr><td>0</td><td>0</td><td>0</td><td>0</td><td>0</td><td>0</td><td>0</td></tr>\n",
       "\t<tr><td>0</td><td>0</td><td>0</td><td>0</td><td>0</td><td>0</td><td>0</td></tr>\n",
       "\t<tr><td>0</td><td>0</td><td>0</td><td>0</td><td>0</td><td>0</td><td>0</td></tr>\n",
       "\t<tr><td>0</td><td>0</td><td>0</td><td>0</td><td>0</td><td>0</td><td>0</td></tr>\n",
       "\t<tr><td>0</td><td>0</td><td>0</td><td>0</td><td>0</td><td>0</td><td>0</td></tr>\n",
       "\t<tr><td>0</td><td>0</td><td>0</td><td>0</td><td>0</td><td>0</td><td>0</td></tr>\n",
       "\t<tr><td>0</td><td>0</td><td>0</td><td>0</td><td>0</td><td>0</td><td>1</td></tr>\n",
       "\t<tr><td>1</td><td>0</td><td>0</td><td>0</td><td>0</td><td>0</td><td>0</td></tr>\n",
       "\t<tr><td>0</td><td>0</td><td>0</td><td>0</td><td>0</td><td>0</td><td>0</td></tr>\n",
       "\t<tr><td>0</td><td>0</td><td>0</td><td>0</td><td>0</td><td>0</td><td>0</td></tr>\n",
       "\t<tr><td>0</td><td>0</td><td>0</td><td>0</td><td>0</td><td>0</td><td>0</td></tr>\n",
       "\t<tr><td>0</td><td>0</td><td>0</td><td>0</td><td>0</td><td>0</td><td>0</td></tr>\n",
       "\t<tr><td>0</td><td>0</td><td>0</td><td>0</td><td>0</td><td>0</td><td>0</td></tr>\n",
       "\t<tr><td>0</td><td>0</td><td>1</td><td>1</td><td>0</td><td>0</td><td>1</td></tr>\n",
       "\t<tr><td>0</td><td>0</td><td>0</td><td>0</td><td>0</td><td>0</td><td>0</td></tr>\n",
       "\t<tr><td>0</td><td>0</td><td>0</td><td>0</td><td>0</td><td>0</td><td>0</td></tr>\n",
       "\t<tr><td>0</td><td>0</td><td>0</td><td>1</td><td>0</td><td>0</td><td>0</td></tr>\n",
       "\t<tr><td>0</td><td>0</td><td>0</td><td>0</td><td>0</td><td>0</td><td>0</td></tr>\n",
       "\t<tr><td>0</td><td>0</td><td>0</td><td>0</td><td>0</td><td>0</td><td>0</td></tr>\n",
       "\t<tr><td>0</td><td>0</td><td>0</td><td>0</td><td>0</td><td>0</td><td>0</td></tr>\n",
       "\t<tr><td>0</td><td>1</td><td>0</td><td>0</td><td>0</td><td>0</td><td>0</td></tr>\n",
       "\t<tr><td>0</td><td>0</td><td>0</td><td>0</td><td>0</td><td>0</td><td>0</td></tr>\n",
       "\t<tr><td>0</td><td>0</td><td>0</td><td>0</td><td>0</td><td>0</td><td>0</td></tr>\n",
       "\t<tr><td>0</td><td>0</td><td>0</td><td>0</td><td>0</td><td>0</td><td>0</td></tr>\n",
       "\t<tr><td>0</td><td>0</td><td>0</td><td>0</td><td>0</td><td>0</td><td>0</td></tr>\n",
       "\t<tr><td>0</td><td>0</td><td>0</td><td>0</td><td>0</td><td>0</td><td>0</td></tr>\n",
       "\t<tr><td>0</td><td>0</td><td>0</td><td>0</td><td>0</td><td>0</td><td>0</td></tr>\n",
       "\t<tr><td>0</td><td>0</td><td>1</td><td>0</td><td>0</td><td>0</td><td>0</td></tr>\n",
       "\t<tr><td>⋮</td><td>⋮</td><td>⋮</td><td>⋮</td><td>⋮</td><td>⋮</td><td>⋮</td></tr>\n",
       "\t<tr><td>0</td><td>0</td><td>0</td><td>0</td><td>0</td><td>0</td><td>0</td></tr>\n",
       "\t<tr><td>0</td><td>0</td><td>0</td><td>0</td><td>0</td><td>0</td><td>0</td></tr>\n",
       "\t<tr><td>0</td><td>0</td><td>0</td><td>0</td><td>0</td><td>0</td><td>0</td></tr>\n",
       "\t<tr><td>0</td><td>0</td><td>0</td><td>0</td><td>0</td><td>0</td><td>0</td></tr>\n",
       "\t<tr><td>0</td><td>0</td><td>0</td><td>0</td><td>0</td><td>0</td><td>0</td></tr>\n",
       "\t<tr><td>0</td><td>0</td><td>0</td><td>0</td><td>0</td><td>0</td><td>0</td></tr>\n",
       "\t<tr><td>0</td><td>0</td><td>0</td><td>0</td><td>0</td><td>0</td><td>0</td></tr>\n",
       "\t<tr><td>0</td><td>0</td><td>0</td><td>0</td><td>0</td><td>0</td><td>0</td></tr>\n",
       "\t<tr><td>0</td><td>0</td><td>0</td><td>0</td><td>0</td><td>0</td><td>0</td></tr>\n",
       "\t<tr><td>0</td><td>0</td><td>0</td><td>0</td><td>0</td><td>0</td><td>0</td></tr>\n",
       "\t<tr><td>0</td><td>0</td><td>0</td><td>0</td><td>0</td><td>0</td><td>0</td></tr>\n",
       "\t<tr><td>0</td><td>1</td><td>1</td><td>0</td><td>0</td><td>0</td><td>1</td></tr>\n",
       "\t<tr><td>0</td><td>0</td><td>0</td><td>0</td><td>0</td><td>0</td><td>0</td></tr>\n",
       "\t<tr><td>0</td><td>0</td><td>0</td><td>0</td><td>0</td><td>0</td><td>0</td></tr>\n",
       "\t<tr><td>1</td><td>0</td><td>0</td><td>0</td><td>0</td><td>0</td><td>0</td></tr>\n",
       "\t<tr><td>0</td><td>0</td><td>0</td><td>0</td><td>0</td><td>0</td><td>0</td></tr>\n",
       "\t<tr><td>0</td><td>0</td><td>0</td><td>0</td><td>0</td><td>0</td><td>0</td></tr>\n",
       "\t<tr><td>0</td><td>0</td><td>0</td><td>0</td><td>0</td><td>0</td><td>0</td></tr>\n",
       "\t<tr><td>0</td><td>1</td><td>0</td><td>0</td><td>0</td><td>0</td><td>0</td></tr>\n",
       "\t<tr><td>0</td><td>0</td><td>0</td><td>0</td><td>0</td><td>0</td><td>0</td></tr>\n",
       "\t<tr><td>1</td><td>0</td><td>0</td><td>0</td><td>0</td><td>0</td><td>0</td></tr>\n",
       "\t<tr><td>0</td><td>0</td><td>0</td><td>0</td><td>0</td><td>0</td><td>0</td></tr>\n",
       "\t<tr><td>0</td><td>0</td><td>0</td><td>0</td><td>0</td><td>0</td><td>0</td></tr>\n",
       "\t<tr><td>0</td><td>0</td><td>0</td><td>0</td><td>0</td><td>0</td><td>0</td></tr>\n",
       "\t<tr><td>0</td><td>0</td><td>0</td><td>0</td><td>0</td><td>0</td><td>0</td></tr>\n",
       "\t<tr><td>0</td><td>0</td><td>0</td><td>0</td><td>0</td><td>0</td><td>0</td></tr>\n",
       "\t<tr><td>0</td><td>0</td><td>0</td><td>1</td><td>0</td><td>0</td><td>0</td></tr>\n",
       "\t<tr><td>0</td><td>1</td><td>0</td><td>0</td><td>0</td><td>0</td><td>0</td></tr>\n",
       "\t<tr><td>0</td><td>0</td><td>0</td><td>0</td><td>0</td><td>0</td><td>0</td></tr>\n",
       "\t<tr><td>0</td><td>0</td><td>0</td><td>0</td><td>0</td><td>0</td><td>1</td></tr>\n",
       "</tbody>\n",
       "</table>\n"
      ],
      "text/latex": [
       "A data.frame: 2240 × 7\n",
       "\\begin{tabular}{lllllll}\n",
       " AcceptedCmp3 & AcceptedCmp4 & AcceptedCmp5 & AcceptedCmp1 & AcceptedCmp2 & Complain & Response\\\\\n",
       " <int> & <int> & <int> & <int> & <int> & <int> & <int>\\\\\n",
       "\\hline\n",
       "\t 0 & 0 & 0 & 0 & 0 & 0 & 1\\\\\n",
       "\t 0 & 0 & 0 & 0 & 0 & 0 & 0\\\\\n",
       "\t 0 & 0 & 0 & 0 & 0 & 0 & 0\\\\\n",
       "\t 0 & 0 & 0 & 0 & 0 & 0 & 0\\\\\n",
       "\t 0 & 0 & 0 & 0 & 0 & 0 & 0\\\\\n",
       "\t 0 & 0 & 0 & 0 & 0 & 0 & 0\\\\\n",
       "\t 0 & 0 & 0 & 0 & 0 & 0 & 0\\\\\n",
       "\t 0 & 0 & 0 & 0 & 0 & 0 & 0\\\\\n",
       "\t 0 & 0 & 0 & 0 & 0 & 0 & 1\\\\\n",
       "\t 1 & 0 & 0 & 0 & 0 & 0 & 0\\\\\n",
       "\t 0 & 0 & 0 & 0 & 0 & 0 & 0\\\\\n",
       "\t 0 & 0 & 0 & 0 & 0 & 0 & 0\\\\\n",
       "\t 0 & 0 & 0 & 0 & 0 & 0 & 0\\\\\n",
       "\t 0 & 0 & 0 & 0 & 0 & 0 & 0\\\\\n",
       "\t 0 & 0 & 0 & 0 & 0 & 0 & 0\\\\\n",
       "\t 0 & 0 & 1 & 1 & 0 & 0 & 1\\\\\n",
       "\t 0 & 0 & 0 & 0 & 0 & 0 & 0\\\\\n",
       "\t 0 & 0 & 0 & 0 & 0 & 0 & 0\\\\\n",
       "\t 0 & 0 & 0 & 1 & 0 & 0 & 0\\\\\n",
       "\t 0 & 0 & 0 & 0 & 0 & 0 & 0\\\\\n",
       "\t 0 & 0 & 0 & 0 & 0 & 0 & 0\\\\\n",
       "\t 0 & 0 & 0 & 0 & 0 & 0 & 0\\\\\n",
       "\t 0 & 1 & 0 & 0 & 0 & 0 & 0\\\\\n",
       "\t 0 & 0 & 0 & 0 & 0 & 0 & 0\\\\\n",
       "\t 0 & 0 & 0 & 0 & 0 & 0 & 0\\\\\n",
       "\t 0 & 0 & 0 & 0 & 0 & 0 & 0\\\\\n",
       "\t 0 & 0 & 0 & 0 & 0 & 0 & 0\\\\\n",
       "\t 0 & 0 & 0 & 0 & 0 & 0 & 0\\\\\n",
       "\t 0 & 0 & 0 & 0 & 0 & 0 & 0\\\\\n",
       "\t 0 & 0 & 1 & 0 & 0 & 0 & 0\\\\\n",
       "\t ⋮ & ⋮ & ⋮ & ⋮ & ⋮ & ⋮ & ⋮\\\\\n",
       "\t 0 & 0 & 0 & 0 & 0 & 0 & 0\\\\\n",
       "\t 0 & 0 & 0 & 0 & 0 & 0 & 0\\\\\n",
       "\t 0 & 0 & 0 & 0 & 0 & 0 & 0\\\\\n",
       "\t 0 & 0 & 0 & 0 & 0 & 0 & 0\\\\\n",
       "\t 0 & 0 & 0 & 0 & 0 & 0 & 0\\\\\n",
       "\t 0 & 0 & 0 & 0 & 0 & 0 & 0\\\\\n",
       "\t 0 & 0 & 0 & 0 & 0 & 0 & 0\\\\\n",
       "\t 0 & 0 & 0 & 0 & 0 & 0 & 0\\\\\n",
       "\t 0 & 0 & 0 & 0 & 0 & 0 & 0\\\\\n",
       "\t 0 & 0 & 0 & 0 & 0 & 0 & 0\\\\\n",
       "\t 0 & 0 & 0 & 0 & 0 & 0 & 0\\\\\n",
       "\t 0 & 1 & 1 & 0 & 0 & 0 & 1\\\\\n",
       "\t 0 & 0 & 0 & 0 & 0 & 0 & 0\\\\\n",
       "\t 0 & 0 & 0 & 0 & 0 & 0 & 0\\\\\n",
       "\t 1 & 0 & 0 & 0 & 0 & 0 & 0\\\\\n",
       "\t 0 & 0 & 0 & 0 & 0 & 0 & 0\\\\\n",
       "\t 0 & 0 & 0 & 0 & 0 & 0 & 0\\\\\n",
       "\t 0 & 0 & 0 & 0 & 0 & 0 & 0\\\\\n",
       "\t 0 & 1 & 0 & 0 & 0 & 0 & 0\\\\\n",
       "\t 0 & 0 & 0 & 0 & 0 & 0 & 0\\\\\n",
       "\t 1 & 0 & 0 & 0 & 0 & 0 & 0\\\\\n",
       "\t 0 & 0 & 0 & 0 & 0 & 0 & 0\\\\\n",
       "\t 0 & 0 & 0 & 0 & 0 & 0 & 0\\\\\n",
       "\t 0 & 0 & 0 & 0 & 0 & 0 & 0\\\\\n",
       "\t 0 & 0 & 0 & 0 & 0 & 0 & 0\\\\\n",
       "\t 0 & 0 & 0 & 0 & 0 & 0 & 0\\\\\n",
       "\t 0 & 0 & 0 & 1 & 0 & 0 & 0\\\\\n",
       "\t 0 & 1 & 0 & 0 & 0 & 0 & 0\\\\\n",
       "\t 0 & 0 & 0 & 0 & 0 & 0 & 0\\\\\n",
       "\t 0 & 0 & 0 & 0 & 0 & 0 & 1\\\\\n",
       "\\end{tabular}\n"
      ],
      "text/markdown": [
       "\n",
       "A data.frame: 2240 × 7\n",
       "\n",
       "| AcceptedCmp3 &lt;int&gt; | AcceptedCmp4 &lt;int&gt; | AcceptedCmp5 &lt;int&gt; | AcceptedCmp1 &lt;int&gt; | AcceptedCmp2 &lt;int&gt; | Complain &lt;int&gt; | Response &lt;int&gt; |\n",
       "|---|---|---|---|---|---|---|\n",
       "| 0 | 0 | 0 | 0 | 0 | 0 | 1 |\n",
       "| 0 | 0 | 0 | 0 | 0 | 0 | 0 |\n",
       "| 0 | 0 | 0 | 0 | 0 | 0 | 0 |\n",
       "| 0 | 0 | 0 | 0 | 0 | 0 | 0 |\n",
       "| 0 | 0 | 0 | 0 | 0 | 0 | 0 |\n",
       "| 0 | 0 | 0 | 0 | 0 | 0 | 0 |\n",
       "| 0 | 0 | 0 | 0 | 0 | 0 | 0 |\n",
       "| 0 | 0 | 0 | 0 | 0 | 0 | 0 |\n",
       "| 0 | 0 | 0 | 0 | 0 | 0 | 1 |\n",
       "| 1 | 0 | 0 | 0 | 0 | 0 | 0 |\n",
       "| 0 | 0 | 0 | 0 | 0 | 0 | 0 |\n",
       "| 0 | 0 | 0 | 0 | 0 | 0 | 0 |\n",
       "| 0 | 0 | 0 | 0 | 0 | 0 | 0 |\n",
       "| 0 | 0 | 0 | 0 | 0 | 0 | 0 |\n",
       "| 0 | 0 | 0 | 0 | 0 | 0 | 0 |\n",
       "| 0 | 0 | 1 | 1 | 0 | 0 | 1 |\n",
       "| 0 | 0 | 0 | 0 | 0 | 0 | 0 |\n",
       "| 0 | 0 | 0 | 0 | 0 | 0 | 0 |\n",
       "| 0 | 0 | 0 | 1 | 0 | 0 | 0 |\n",
       "| 0 | 0 | 0 | 0 | 0 | 0 | 0 |\n",
       "| 0 | 0 | 0 | 0 | 0 | 0 | 0 |\n",
       "| 0 | 0 | 0 | 0 | 0 | 0 | 0 |\n",
       "| 0 | 1 | 0 | 0 | 0 | 0 | 0 |\n",
       "| 0 | 0 | 0 | 0 | 0 | 0 | 0 |\n",
       "| 0 | 0 | 0 | 0 | 0 | 0 | 0 |\n",
       "| 0 | 0 | 0 | 0 | 0 | 0 | 0 |\n",
       "| 0 | 0 | 0 | 0 | 0 | 0 | 0 |\n",
       "| 0 | 0 | 0 | 0 | 0 | 0 | 0 |\n",
       "| 0 | 0 | 0 | 0 | 0 | 0 | 0 |\n",
       "| 0 | 0 | 1 | 0 | 0 | 0 | 0 |\n",
       "| ⋮ | ⋮ | ⋮ | ⋮ | ⋮ | ⋮ | ⋮ |\n",
       "| 0 | 0 | 0 | 0 | 0 | 0 | 0 |\n",
       "| 0 | 0 | 0 | 0 | 0 | 0 | 0 |\n",
       "| 0 | 0 | 0 | 0 | 0 | 0 | 0 |\n",
       "| 0 | 0 | 0 | 0 | 0 | 0 | 0 |\n",
       "| 0 | 0 | 0 | 0 | 0 | 0 | 0 |\n",
       "| 0 | 0 | 0 | 0 | 0 | 0 | 0 |\n",
       "| 0 | 0 | 0 | 0 | 0 | 0 | 0 |\n",
       "| 0 | 0 | 0 | 0 | 0 | 0 | 0 |\n",
       "| 0 | 0 | 0 | 0 | 0 | 0 | 0 |\n",
       "| 0 | 0 | 0 | 0 | 0 | 0 | 0 |\n",
       "| 0 | 0 | 0 | 0 | 0 | 0 | 0 |\n",
       "| 0 | 1 | 1 | 0 | 0 | 0 | 1 |\n",
       "| 0 | 0 | 0 | 0 | 0 | 0 | 0 |\n",
       "| 0 | 0 | 0 | 0 | 0 | 0 | 0 |\n",
       "| 1 | 0 | 0 | 0 | 0 | 0 | 0 |\n",
       "| 0 | 0 | 0 | 0 | 0 | 0 | 0 |\n",
       "| 0 | 0 | 0 | 0 | 0 | 0 | 0 |\n",
       "| 0 | 0 | 0 | 0 | 0 | 0 | 0 |\n",
       "| 0 | 1 | 0 | 0 | 0 | 0 | 0 |\n",
       "| 0 | 0 | 0 | 0 | 0 | 0 | 0 |\n",
       "| 1 | 0 | 0 | 0 | 0 | 0 | 0 |\n",
       "| 0 | 0 | 0 | 0 | 0 | 0 | 0 |\n",
       "| 0 | 0 | 0 | 0 | 0 | 0 | 0 |\n",
       "| 0 | 0 | 0 | 0 | 0 | 0 | 0 |\n",
       "| 0 | 0 | 0 | 0 | 0 | 0 | 0 |\n",
       "| 0 | 0 | 0 | 0 | 0 | 0 | 0 |\n",
       "| 0 | 0 | 0 | 1 | 0 | 0 | 0 |\n",
       "| 0 | 1 | 0 | 0 | 0 | 0 | 0 |\n",
       "| 0 | 0 | 0 | 0 | 0 | 0 | 0 |\n",
       "| 0 | 0 | 0 | 0 | 0 | 0 | 1 |\n",
       "\n"
      ],
      "text/plain": [
       "     AcceptedCmp3 AcceptedCmp4 AcceptedCmp5 AcceptedCmp1 AcceptedCmp2 Complain\n",
       "1    0            0            0            0            0            0       \n",
       "2    0            0            0            0            0            0       \n",
       "3    0            0            0            0            0            0       \n",
       "4    0            0            0            0            0            0       \n",
       "5    0            0            0            0            0            0       \n",
       "6    0            0            0            0            0            0       \n",
       "7    0            0            0            0            0            0       \n",
       "8    0            0            0            0            0            0       \n",
       "9    0            0            0            0            0            0       \n",
       "10   1            0            0            0            0            0       \n",
       "11   0            0            0            0            0            0       \n",
       "12   0            0            0            0            0            0       \n",
       "13   0            0            0            0            0            0       \n",
       "14   0            0            0            0            0            0       \n",
       "15   0            0            0            0            0            0       \n",
       "16   0            0            1            1            0            0       \n",
       "17   0            0            0            0            0            0       \n",
       "18   0            0            0            0            0            0       \n",
       "19   0            0            0            1            0            0       \n",
       "20   0            0            0            0            0            0       \n",
       "21   0            0            0            0            0            0       \n",
       "22   0            0            0            0            0            0       \n",
       "23   0            1            0            0            0            0       \n",
       "24   0            0            0            0            0            0       \n",
       "25   0            0            0            0            0            0       \n",
       "26   0            0            0            0            0            0       \n",
       "27   0            0            0            0            0            0       \n",
       "28   0            0            0            0            0            0       \n",
       "29   0            0            0            0            0            0       \n",
       "30   0            0            1            0            0            0       \n",
       "⋮    ⋮            ⋮            ⋮            ⋮            ⋮            ⋮       \n",
       "2211 0            0            0            0            0            0       \n",
       "2212 0            0            0            0            0            0       \n",
       "2213 0            0            0            0            0            0       \n",
       "2214 0            0            0            0            0            0       \n",
       "2215 0            0            0            0            0            0       \n",
       "2216 0            0            0            0            0            0       \n",
       "2217 0            0            0            0            0            0       \n",
       "2218 0            0            0            0            0            0       \n",
       "2219 0            0            0            0            0            0       \n",
       "2220 0            0            0            0            0            0       \n",
       "2221 0            0            0            0            0            0       \n",
       "2222 0            1            1            0            0            0       \n",
       "2223 0            0            0            0            0            0       \n",
       "2224 0            0            0            0            0            0       \n",
       "2225 1            0            0            0            0            0       \n",
       "2226 0            0            0            0            0            0       \n",
       "2227 0            0            0            0            0            0       \n",
       "2228 0            0            0            0            0            0       \n",
       "2229 0            1            0            0            0            0       \n",
       "2230 0            0            0            0            0            0       \n",
       "2231 1            0            0            0            0            0       \n",
       "2232 0            0            0            0            0            0       \n",
       "2233 0            0            0            0            0            0       \n",
       "2234 0            0            0            0            0            0       \n",
       "2235 0            0            0            0            0            0       \n",
       "2236 0            0            0            0            0            0       \n",
       "2237 0            0            0            1            0            0       \n",
       "2238 0            1            0            0            0            0       \n",
       "2239 0            0            0            0            0            0       \n",
       "2240 0            0            0            0            0            0       \n",
       "     Response\n",
       "1    1       \n",
       "2    0       \n",
       "3    0       \n",
       "4    0       \n",
       "5    0       \n",
       "6    0       \n",
       "7    0       \n",
       "8    0       \n",
       "9    1       \n",
       "10   0       \n",
       "11   0       \n",
       "12   0       \n",
       "13   0       \n",
       "14   0       \n",
       "15   0       \n",
       "16   1       \n",
       "17   0       \n",
       "18   0       \n",
       "19   0       \n",
       "20   0       \n",
       "21   0       \n",
       "22   0       \n",
       "23   0       \n",
       "24   0       \n",
       "25   0       \n",
       "26   0       \n",
       "27   0       \n",
       "28   0       \n",
       "29   0       \n",
       "30   0       \n",
       "⋮    ⋮       \n",
       "2211 0       \n",
       "2212 0       \n",
       "2213 0       \n",
       "2214 0       \n",
       "2215 0       \n",
       "2216 0       \n",
       "2217 0       \n",
       "2218 0       \n",
       "2219 0       \n",
       "2220 0       \n",
       "2221 0       \n",
       "2222 1       \n",
       "2223 0       \n",
       "2224 0       \n",
       "2225 0       \n",
       "2226 0       \n",
       "2227 0       \n",
       "2228 0       \n",
       "2229 0       \n",
       "2230 0       \n",
       "2231 0       \n",
       "2232 0       \n",
       "2233 0       \n",
       "2234 0       \n",
       "2235 0       \n",
       "2236 0       \n",
       "2237 0       \n",
       "2238 0       \n",
       "2239 0       \n",
       "2240 1       "
      ]
     },
     "metadata": {},
     "output_type": "display_data"
    }
   ],
   "source": [
    "commerce[,binary_cols]"
   ]
  },
  {
   "cell_type": "code",
   "execution_count": 61,
   "id": "6df171d4-afc4-4c70-863f-01f910413fb8",
   "metadata": {},
   "outputs": [
    {
     "name": "stdout",
     "output_type": "stream",
     "text": [
      "\n",
      "   0    1 \n",
      "2077  163 \n",
      "[1] FALSE\n",
      "\n",
      "   0    1 \n",
      "2073  167 \n",
      "[1] FALSE\n",
      "\n",
      "   0    1 \n",
      "2077  163 \n",
      "[1] FALSE\n",
      "\n",
      "   0    1 \n",
      "2096  144 \n",
      "[1] FALSE\n",
      "\n",
      "   0    1 \n",
      "2210   30 \n",
      "[1] FALSE\n",
      "\n",
      "   0    1 \n",
      "2219   21 \n",
      "[1] FALSE\n",
      "\n",
      "   0    1 \n",
      "1906  334 \n",
      "[1] FALSE\n"
     ]
    }
   ],
   "source": [
    "for(col in binary_cols){\n",
    "    print(table(commerce[,col]))\n",
    "    print(any(is.na(commerce[,col])))\n",
    "}"
   ]
  },
  {
   "cell_type": "code",
   "execution_count": 62,
   "id": "5a29e952-a3a1-4f80-a946-b8f6eb9c589e",
   "metadata": {},
   "outputs": [],
   "source": [
    "# No missing values and all the variables takes 0 or 1. Everything is ok"
   ]
  },
  {
   "cell_type": "code",
   "execution_count": 63,
   "id": "c0b8c179-9d5e-482c-b22d-3bbd37779e07",
   "metadata": {},
   "outputs": [],
   "source": [
    "# Date variables:\n",
    "# - Year_Birth\n",
    "# - Dt_Customer"
   ]
  },
  {
   "cell_type": "code",
   "execution_count": 64,
   "id": "663a1703-1b6e-48bb-9b33-86a9559199d8",
   "metadata": {},
   "outputs": [],
   "source": [
    "# Dt_Customer"
   ]
  },
  {
   "cell_type": "code",
   "execution_count": 65,
   "id": "81ce0bea-6ddc-4669-89e9-f3aac5a9d2ba",
   "metadata": {},
   "outputs": [
    {
     "data": {
      "text/html": [
       "<style>\n",
       ".list-inline {list-style: none; margin:0; padding: 0}\n",
       ".list-inline>li {display: inline-block}\n",
       ".list-inline>li:not(:last-child)::after {content: \"\\00b7\"; padding: 0 .5ex}\n",
       "</style>\n",
       "<ol class=list-inline><li>'04/09/12'</li><li>'08/03/14'</li><li>'21/08/13'</li><li>'10/02/14'</li><li>'19/01/14'</li><li>'09/09/13'</li></ol>\n"
      ],
      "text/latex": [
       "\\begin{enumerate*}\n",
       "\\item '04/09/12'\n",
       "\\item '08/03/14'\n",
       "\\item '21/08/13'\n",
       "\\item '10/02/14'\n",
       "\\item '19/01/14'\n",
       "\\item '09/09/13'\n",
       "\\end{enumerate*}\n"
      ],
      "text/markdown": [
       "1. '04/09/12'\n",
       "2. '08/03/14'\n",
       "3. '21/08/13'\n",
       "4. '10/02/14'\n",
       "5. '19/01/14'\n",
       "6. '09/09/13'\n",
       "\n",
       "\n"
      ],
      "text/plain": [
       "[1] \"04/09/12\" \"08/03/14\" \"21/08/13\" \"10/02/14\" \"19/01/14\" \"09/09/13\""
      ]
     },
     "metadata": {},
     "output_type": "display_data"
    }
   ],
   "source": [
    "head(commerce$Dt_Customer)"
   ]
  },
  {
   "cell_type": "code",
   "execution_count": 66,
   "id": "1302ae72-9286-406b-9964-63c2a159a5a1",
   "metadata": {},
   "outputs": [],
   "source": [
    "# Let's convert the Dt_Customer to the approprate date format"
   ]
  },
  {
   "cell_type": "code",
   "execution_count": 67,
   "id": "11b68ffc-9b00-4137-a19c-4248a36bbbb2",
   "metadata": {},
   "outputs": [],
   "source": [
    "commerce$Dt_Customer <- as.Date(commerce$Dt_Customer, format = '%d/%m/%y')"
   ]
  },
  {
   "cell_type": "code",
   "execution_count": 68,
   "id": "d10fa55a-54d5-4491-b9ce-8c5d512e812d",
   "metadata": {
    "collapsed": true,
    "jupyter": {
     "outputs_hidden": true
    }
   },
   "outputs": [
    {
     "data": {
      "text/html": [
       "<table class=\"dataframe\">\n",
       "<caption>A data.frame: 2240 × 27</caption>\n",
       "<thead>\n",
       "\t<tr><th></th><th scope=col>ID</th><th scope=col>Year_Birth</th><th scope=col>Education</th><th scope=col>Marital_Status</th><th scope=col>Income</th><th scope=col>Kidhome</th><th scope=col>Teenhome</th><th scope=col>Dt_Customer</th><th scope=col>Recency</th><th scope=col>MntWines</th><th scope=col>⋯</th><th scope=col>NumCatalogPurchases</th><th scope=col>NumStorePurchases</th><th scope=col>NumWebVisitsMonth</th><th scope=col>AcceptedCmp3</th><th scope=col>AcceptedCmp4</th><th scope=col>AcceptedCmp5</th><th scope=col>AcceptedCmp1</th><th scope=col>AcceptedCmp2</th><th scope=col>Complain</th><th scope=col>Response</th></tr>\n",
       "\t<tr><th></th><th scope=col>&lt;int&gt;</th><th scope=col>&lt;int&gt;</th><th scope=col>&lt;dbl&gt;</th><th scope=col>&lt;dbl&gt;</th><th scope=col>&lt;dbl&gt;</th><th scope=col>&lt;int&gt;</th><th scope=col>&lt;int&gt;</th><th scope=col>&lt;date&gt;</th><th scope=col>&lt;int&gt;</th><th scope=col>&lt;int&gt;</th><th scope=col>⋯</th><th scope=col>&lt;int&gt;</th><th scope=col>&lt;int&gt;</th><th scope=col>&lt;int&gt;</th><th scope=col>&lt;int&gt;</th><th scope=col>&lt;int&gt;</th><th scope=col>&lt;int&gt;</th><th scope=col>&lt;int&gt;</th><th scope=col>&lt;int&gt;</th><th scope=col>&lt;int&gt;</th><th scope=col>&lt;int&gt;</th></tr>\n",
       "</thead>\n",
       "<tbody>\n",
       "\t<tr><th scope=row>201</th><td> 7300</td><td>1952</td><td>2</td><td>0</td><td>69142</td><td>0</td><td>1</td><td>2014-06-29</td><td>50</td><td> 448</td><td>⋯</td><td>1</td><td> 7</td><td> 5</td><td>0</td><td>1</td><td>0</td><td>0</td><td>0</td><td>0</td><td>0</td></tr>\n",
       "\t<tr><th scope=row>990</th><td>  453</td><td>1956</td><td>4</td><td>0</td><td>35340</td><td>1</td><td>1</td><td>2014-06-29</td><td> 1</td><td>  27</td><td>⋯</td><td>0</td><td> 3</td><td> 5</td><td>0</td><td>0</td><td>0</td><td>0</td><td>0</td><td>0</td><td>0</td></tr>\n",
       "\t<tr><th scope=row>46</th><td> 1371</td><td>1976</td><td>2</td><td>0</td><td>79941</td><td>0</td><td>0</td><td>2014-06-28</td><td>72</td><td> 123</td><td>⋯</td><td>4</td><td> 9</td><td> 1</td><td>0</td><td>0</td><td>0</td><td>0</td><td>0</td><td>0</td><td>0</td></tr>\n",
       "\t<tr><th scope=row>797</th><td> 6722</td><td>1954</td><td>4</td><td>1</td><td>70421</td><td>0</td><td>1</td><td>2014-06-28</td><td>98</td><td> 479</td><td>⋯</td><td>3</td><td> 7</td><td> 6</td><td>0</td><td>0</td><td>0</td><td>0</td><td>0</td><td>0</td><td>0</td></tr>\n",
       "\t<tr><th scope=row>1813</th><td> 8093</td><td>1969</td><td>3</td><td>1</td><td>79734</td><td>0</td><td>0</td><td>2014-06-28</td><td>72</td><td> 572</td><td>⋯</td><td>3</td><td> 6</td><td> 1</td><td>0</td><td>0</td><td>0</td><td>1</td><td>0</td><td>0</td><td>0</td></tr>\n",
       "\t<tr><th scope=row>707</th><td> 4472</td><td>1970</td><td>4</td><td>0</td><td>35682</td><td>1</td><td>0</td><td>2014-06-27</td><td>34</td><td>  23</td><td>⋯</td><td>1</td><td> 3</td><td> 2</td><td>0</td><td>0</td><td>0</td><td>0</td><td>0</td><td>0</td><td>0</td></tr>\n",
       "\t<tr><th scope=row>1588</th><td> 2471</td><td>1965</td><td>2</td><td>1</td><td>61482</td><td>0</td><td>0</td><td>2014-06-27</td><td>39</td><td>  48</td><td>⋯</td><td>2</td><td> 6</td><td> 2</td><td>0</td><td>0</td><td>0</td><td>0</td><td>0</td><td>0</td><td>0</td></tr>\n",
       "\t<tr><th scope=row>1801</th><td> 2831</td><td>1976</td><td>2</td><td>1</td><td>78416</td><td>0</td><td>1</td><td>2014-06-27</td><td>99</td><td> 453</td><td>⋯</td><td>7</td><td>10</td><td> 3</td><td>0</td><td>0</td><td>0</td><td>0</td><td>0</td><td>0</td><td>0</td></tr>\n",
       "\t<tr><th scope=row>267</th><td> 1225</td><td>1963</td><td>2</td><td>1</td><td>80124</td><td>0</td><td>0</td><td>2014-06-26</td><td>47</td><td> 483</td><td>⋯</td><td>7</td><td> 8</td><td> 1</td><td>1</td><td>0</td><td>0</td><td>0</td><td>0</td><td>0</td><td>0</td></tr>\n",
       "\t<tr><th scope=row>464</th><td> 7059</td><td>1963</td><td>2</td><td>1</td><td>80124</td><td>0</td><td>0</td><td>2014-06-26</td><td>47</td><td> 483</td><td>⋯</td><td>7</td><td> 8</td><td> 1</td><td>1</td><td>0</td><td>0</td><td>0</td><td>0</td><td>0</td><td>0</td></tr>\n",
       "\t<tr><th scope=row>2055</th><td> 6382</td><td>1953</td><td>2</td><td>1</td><td>48794</td><td>1</td><td>1</td><td>2014-06-26</td><td>97</td><td>  25</td><td>⋯</td><td>0</td><td> 3</td><td> 4</td><td>0</td><td>0</td><td>0</td><td>0</td><td>0</td><td>0</td><td>0</td></tr>\n",
       "\t<tr><th scope=row>2200</th><td> 9014</td><td>1975</td><td>2</td><td>1</td><td>37085</td><td>1</td><td>1</td><td>2014-06-26</td><td>65</td><td>  39</td><td>⋯</td><td>0</td><td> 3</td><td> 8</td><td>0</td><td>0</td><td>0</td><td>0</td><td>0</td><td>0</td><td>0</td></tr>\n",
       "\t<tr><th scope=row>113</th><td> 3267</td><td>1963</td><td>3</td><td>1</td><td>57288</td><td>0</td><td>1</td><td>2014-06-25</td><td>27</td><td> 527</td><td>⋯</td><td>1</td><td> 8</td><td> 6</td><td>0</td><td>1</td><td>0</td><td>0</td><td>0</td><td>0</td><td>0</td></tr>\n",
       "\t<tr><th scope=row>965</th><td> 5633</td><td>1980</td><td>2</td><td>1</td><td>50183</td><td>1</td><td>1</td><td>2014-06-25</td><td>47</td><td>  97</td><td>⋯</td><td>1</td><td> 6</td><td> 5</td><td>0</td><td>0</td><td>0</td><td>0</td><td>0</td><td>0</td><td>0</td></tr>\n",
       "\t<tr><th scope=row>1033</th><td> 9888</td><td>1969</td><td>2</td><td>1</td><td>68695</td><td>0</td><td>0</td><td>2014-06-25</td><td> 3</td><td> 458</td><td>⋯</td><td>4</td><td> 7</td><td> 2</td><td>0</td><td>0</td><td>0</td><td>0</td><td>0</td><td>0</td><td>0</td></tr>\n",
       "\t<tr><th scope=row>1456</th><td> 4399</td><td>1969</td><td>2</td><td>1</td><td>68695</td><td>0</td><td>0</td><td>2014-06-25</td><td> 3</td><td> 458</td><td>⋯</td><td>4</td><td> 7</td><td> 2</td><td>0</td><td>0</td><td>0</td><td>0</td><td>0</td><td>0</td><td>0</td></tr>\n",
       "\t<tr><th scope=row>2224</th><td> 1448</td><td>1963</td><td>3</td><td>1</td><td>33562</td><td>1</td><td>2</td><td>2014-06-25</td><td>33</td><td>  21</td><td>⋯</td><td>0</td><td> 4</td><td> 4</td><td>0</td><td>0</td><td>0</td><td>0</td><td>0</td><td>0</td><td>0</td></tr>\n",
       "\t<tr><th scope=row>179</th><td>10492</td><td>1959</td><td>2</td><td>1</td><td>38285</td><td>2</td><td>1</td><td>2014-06-24</td><td>96</td><td>   2</td><td>⋯</td><td>0</td><td> 3</td><td> 2</td><td>0</td><td>0</td><td>0</td><td>0</td><td>0</td><td>0</td><td>0</td></tr>\n",
       "\t<tr><th scope=row>1024</th><td> 4550</td><td>1966</td><td>3</td><td>1</td><td>33564</td><td>0</td><td>1</td><td>2014-06-24</td><td>51</td><td>  61</td><td>⋯</td><td>1</td><td> 3</td><td> 5</td><td>0</td><td>0</td><td>0</td><td>0</td><td>0</td><td>0</td><td>0</td></tr>\n",
       "\t<tr><th scope=row>1660</th><td> 2781</td><td>1981</td><td>2</td><td>0</td><td>72066</td><td>0</td><td>0</td><td>2014-06-23</td><td>55</td><td>1003</td><td>⋯</td><td>6</td><td> 6</td><td> 2</td><td>0</td><td>0</td><td>1</td><td>1</td><td>0</td><td>0</td><td>1</td></tr>\n",
       "\t<tr><th scope=row>1847</th><td> 9931</td><td>1963</td><td>4</td><td>1</td><td> 4023</td><td>1</td><td>1</td><td>2014-06-23</td><td>29</td><td>   5</td><td>⋯</td><td>0</td><td> 0</td><td>19</td><td>0</td><td>0</td><td>0</td><td>0</td><td>0</td><td>0</td><td>0</td></tr>\n",
       "\t<tr><th scope=row>982</th><td> 3955</td><td>1965</td><td>2</td><td>0</td><td> 4861</td><td>0</td><td>0</td><td>2014-06-22</td><td>20</td><td>   2</td><td>⋯</td><td>0</td><td> 0</td><td>14</td><td>0</td><td>0</td><td>0</td><td>0</td><td>0</td><td>0</td><td>0</td></tr>\n",
       "\t<tr><th scope=row>995</th><td> 1640</td><td>1954</td><td>2</td><td>0</td><td>64587</td><td>1</td><td>1</td><td>2014-06-22</td><td>49</td><td>  66</td><td>⋯</td><td>1</td><td> 4</td><td> 3</td><td>0</td><td>0</td><td>0</td><td>0</td><td>0</td><td>0</td><td>0</td></tr>\n",
       "\t<tr><th scope=row>1487</th><td> 2939</td><td>1970</td><td>3</td><td>1</td><td>79419</td><td>0</td><td>0</td><td>2014-06-22</td><td>96</td><td> 751</td><td>⋯</td><td>6</td><td> 4</td><td> 2</td><td>0</td><td>0</td><td>0</td><td>0</td><td>0</td><td>0</td><td>0</td></tr>\n",
       "\t<tr><th scope=row>1921</th><td> 2546</td><td>1977</td><td>3</td><td>0</td><td>31878</td><td>0</td><td>1</td><td>2014-06-22</td><td> 7</td><td>  23</td><td>⋯</td><td>0</td><td> 4</td><td> 3</td><td>0</td><td>0</td><td>0</td><td>0</td><td>0</td><td>0</td><td>0</td></tr>\n",
       "\t<tr><th scope=row>2053</th><td> 2591</td><td>1959</td><td>2</td><td>0</td><td>76320</td><td>0</td><td>1</td><td>2014-06-22</td><td>49</td><td> 526</td><td>⋯</td><td>3</td><td> 4</td><td> 2</td><td>0</td><td>0</td><td>0</td><td>0</td><td>0</td><td>0</td><td>0</td></tr>\n",
       "\t<tr><th scope=row>150</th><td> 4050</td><td>1966</td><td>3</td><td>1</td><td>49605</td><td>0</td><td>0</td><td>2014-06-21</td><td>65</td><td>  42</td><td>⋯</td><td>1</td><td> 4</td><td> 3</td><td>0</td><td>0</td><td>0</td><td>0</td><td>0</td><td>0</td><td>0</td></tr>\n",
       "\t<tr><th scope=row>1270</th><td> 9400</td><td>1958</td><td>3</td><td>0</td><td>85485</td><td>0</td><td>0</td><td>2014-06-21</td><td>73</td><td> 630</td><td>⋯</td><td>6</td><td> 6</td><td> 2</td><td>0</td><td>0</td><td>0</td><td>0</td><td>0</td><td>0</td><td>0</td></tr>\n",
       "\t<tr><th scope=row>1948</th><td> 2495</td><td>1974</td><td>3</td><td>1</td><td>83891</td><td>0</td><td>1</td><td>2014-06-20</td><td>24</td><td> 217</td><td>⋯</td><td>7</td><td>10</td><td> 1</td><td>0</td><td>0</td><td>0</td><td>0</td><td>0</td><td>0</td><td>0</td></tr>\n",
       "\t<tr><th scope=row>2125</th><td> 2115</td><td>1957</td><td>2</td><td>1</td><td>50116</td><td>1</td><td>1</td><td>2014-06-20</td><td>68</td><td>  54</td><td>⋯</td><td>0</td><td> 4</td><td> 5</td><td>0</td><td>1</td><td>0</td><td>0</td><td>0</td><td>0</td><td>0</td></tr>\n",
       "\t<tr><th scope=row>⋮</th><td>⋮</td><td>⋮</td><td>⋮</td><td>⋮</td><td>⋮</td><td>⋮</td><td>⋮</td><td>⋮</td><td>⋮</td><td>⋮</td><td>⋱</td><td>⋮</td><td>⋮</td><td>⋮</td><td>⋮</td><td>⋮</td><td>⋮</td><td>⋮</td><td>⋮</td><td>⋮</td><td>⋮</td></tr>\n",
       "\t<tr><th scope=row>1127</th><td> 6749</td><td>1966</td><td>2</td><td>0</td><td> 86358</td><td>1</td><td>1</td><td>2012-08-08</td><td>78</td><td> 957</td><td>⋯</td><td> 3</td><td> 6</td><td>8</td><td>0</td><td>0</td><td>0</td><td>0</td><td>0</td><td>0</td><td>0</td></tr>\n",
       "\t<tr><th scope=row>1218</th><td> 8876</td><td>1963</td><td>4</td><td>1</td><td> 33629</td><td>1</td><td>1</td><td>2012-08-08</td><td>49</td><td> 132</td><td>⋯</td><td> 1</td><td> 4</td><td>9</td><td>0</td><td>0</td><td>0</td><td>0</td><td>0</td><td>0</td><td>0</td></tr>\n",
       "\t<tr><th scope=row>1340</th><td>  942</td><td>1982</td><td>2</td><td>0</td><td> 39660</td><td>1</td><td>0</td><td>2012-08-08</td><td>36</td><td> 139</td><td>⋯</td><td> 1</td><td> 3</td><td>9</td><td>0</td><td>0</td><td>0</td><td>0</td><td>0</td><td>0</td><td>1</td></tr>\n",
       "\t<tr><th scope=row>1687</th><td> 1891</td><td>1980</td><td>3</td><td>0</td><td> 78789</td><td>0</td><td>0</td><td>2012-08-08</td><td>12</td><td> 667</td><td>⋯</td><td> 6</td><td> 5</td><td>2</td><td>0</td><td>0</td><td>0</td><td>0</td><td>0</td><td>0</td><td>1</td></tr>\n",
       "\t<tr><th scope=row>732</th><td>  610</td><td>1953</td><td>4</td><td>1</td><td> 53593</td><td>1</td><td>1</td><td>2012-08-07</td><td>60</td><td> 349</td><td>⋯</td><td> 2</td><td> 6</td><td>8</td><td>0</td><td>0</td><td>0</td><td>0</td><td>0</td><td>0</td><td>0</td></tr>\n",
       "\t<tr><th scope=row>1406</th><td>10827</td><td>1967</td><td>4</td><td>1</td><td> 36947</td><td>1</td><td>1</td><td>2012-08-07</td><td>49</td><td>  88</td><td>⋯</td><td> 0</td><td> 4</td><td>9</td><td>0</td><td>0</td><td>0</td><td>0</td><td>0</td><td>0</td><td>0</td></tr>\n",
       "\t<tr><th scope=row>1943</th><td> 5393</td><td>1977</td><td>2</td><td>0</td><td> 23763</td><td>1</td><td>0</td><td>2012-08-07</td><td>64</td><td>  22</td><td>⋯</td><td> 0</td><td> 3</td><td>7</td><td>0</td><td>0</td><td>0</td><td>0</td><td>0</td><td>0</td><td>0</td></tr>\n",
       "\t<tr><th scope=row>2015</th><td> 3262</td><td>1958</td><td>2</td><td>0</td><td> 68281</td><td>0</td><td>0</td><td>2012-08-07</td><td>31</td><td> 995</td><td>⋯</td><td> 9</td><td>13</td><td>5</td><td>0</td><td>0</td><td>0</td><td>0</td><td>0</td><td>0</td><td>1</td></tr>\n",
       "\t<tr><th scope=row>501</th><td> 9135</td><td>1950</td><td>2</td><td>1</td><td> 27203</td><td>1</td><td>1</td><td>2012-08-06</td><td>92</td><td>  13</td><td>⋯</td><td> 1</td><td> 2</td><td>8</td><td>0</td><td>0</td><td>0</td><td>0</td><td>0</td><td>0</td><td>0</td></tr>\n",
       "\t<tr><th scope=row>542</th><td>10591</td><td>1969</td><td>2</td><td>0</td><td> 43638</td><td>0</td><td>1</td><td>2012-08-06</td><td>37</td><td>  63</td><td>⋯</td><td> 1</td><td> 4</td><td>7</td><td>0</td><td>0</td><td>0</td><td>0</td><td>0</td><td>0</td><td>0</td></tr>\n",
       "\t<tr><th scope=row>2140</th><td> 2715</td><td>1966</td><td>3</td><td>0</td><td> 29435</td><td>1</td><td>1</td><td>2012-08-06</td><td>11</td><td>  70</td><td>⋯</td><td> 2</td><td> 2</td><td>9</td><td>0</td><td>0</td><td>0</td><td>0</td><td>0</td><td>0</td><td>1</td></tr>\n",
       "\t<tr><th scope=row>1137</th><td>10542</td><td>1968</td><td>4</td><td>1</td><td> 36778</td><td>1</td><td>1</td><td>2012-08-05</td><td>63</td><td>  29</td><td>⋯</td><td> 0</td><td> 3</td><td>9</td><td>0</td><td>0</td><td>0</td><td>0</td><td>0</td><td>0</td><td>0</td></tr>\n",
       "\t<tr><th scope=row>473</th><td>  564</td><td>1981</td><td>4</td><td>1</td><td> 56937</td><td>1</td><td>0</td><td>2012-08-04</td><td>81</td><td> 746</td><td>⋯</td><td> 6</td><td> 9</td><td>6</td><td>0</td><td>1</td><td>0</td><td>0</td><td>0</td><td>0</td><td>1</td></tr>\n",
       "\t<tr><th scope=row>688</th><td> 1501</td><td>1982</td><td>4</td><td>1</td><td>160803</td><td>0</td><td>0</td><td>2012-08-04</td><td>21</td><td>  55</td><td>⋯</td><td>28</td><td> 1</td><td>0</td><td>0</td><td>0</td><td>0</td><td>0</td><td>0</td><td>0</td><td>0</td></tr>\n",
       "\t<tr><th scope=row>1069</th><td> 4817</td><td>1956</td><td>2</td><td>0</td><td> 22304</td><td>0</td><td>0</td><td>2012-08-04</td><td>91</td><td>   3</td><td>⋯</td><td> 0</td><td> 2</td><td>8</td><td>0</td><td>0</td><td>0</td><td>0</td><td>0</td><td>0</td><td>0</td></tr>\n",
       "\t<tr><th scope=row>1245</th><td> 1291</td><td>1978</td><td>4</td><td>1</td><td> 27683</td><td>1</td><td>0</td><td>2012-08-04</td><td>90</td><td> 152</td><td>⋯</td><td> 2</td><td> 4</td><td>8</td><td>0</td><td>0</td><td>0</td><td>0</td><td>0</td><td>0</td><td>0</td></tr>\n",
       "\t<tr><th scope=row>655</th><td> 3277</td><td>1955</td><td>2</td><td>0</td><td> 49431</td><td>0</td><td>1</td><td>2012-08-03</td><td> 9</td><td> 219</td><td>⋯</td><td> 1</td><td> 5</td><td>8</td><td>0</td><td>0</td><td>0</td><td>0</td><td>0</td><td>0</td><td>0</td></tr>\n",
       "\t<tr><th scope=row>1068</th><td> 2223</td><td>1965</td><td>3</td><td>0</td><td> 64176</td><td>0</td><td>1</td><td>2012-08-03</td><td>52</td><td>1215</td><td>⋯</td><td> 9</td><td> 8</td><td>6</td><td>0</td><td>0</td><td>0</td><td>0</td><td>0</td><td>0</td><td>0</td></tr>\n",
       "\t<tr><th scope=row>1257</th><td> 9094</td><td>1955</td><td>3</td><td>1</td><td> 62972</td><td>0</td><td>1</td><td>2012-08-03</td><td>39</td><td> 313</td><td>⋯</td><td> 4</td><td> 3</td><td>6</td><td>0</td><td>0</td><td>0</td><td>0</td><td>0</td><td>0</td><td>1</td></tr>\n",
       "\t<tr><th scope=row>1839</th><td> 9847</td><td>1955</td><td>3</td><td>1</td><td> 62972</td><td>0</td><td>1</td><td>2012-08-03</td><td>39</td><td> 313</td><td>⋯</td><td> 4</td><td> 3</td><td>6</td><td>0</td><td>0</td><td>0</td><td>0</td><td>0</td><td>0</td><td>0</td></tr>\n",
       "\t<tr><th scope=row>2124</th><td> 4915</td><td>1956</td><td>3</td><td>1</td><td> 53230</td><td>0</td><td>1</td><td>2012-08-03</td><td>86</td><td> 176</td><td>⋯</td><td> 2</td><td>12</td><td>5</td><td>0</td><td>0</td><td>0</td><td>0</td><td>0</td><td>0</td><td>0</td></tr>\n",
       "\t<tr><th scope=row>1485</th><td> 8370</td><td>1976</td><td>3</td><td>1</td><td> 75484</td><td>0</td><td>1</td><td>2012-08-02</td><td>50</td><td> 378</td><td>⋯</td><td> 3</td><td> 6</td><td>4</td><td>0</td><td>0</td><td>0</td><td>0</td><td>0</td><td>0</td><td>0</td></tr>\n",
       "\t<tr><th scope=row>1977</th><td> 5117</td><td>1963</td><td>3</td><td>1</td><td> 32632</td><td>0</td><td>0</td><td>2012-08-02</td><td>32</td><td>  63</td><td>⋯</td><td> 4</td><td> 8</td><td>5</td><td>0</td><td>0</td><td>0</td><td>0</td><td>0</td><td>0</td><td>0</td></tr>\n",
       "\t<tr><th scope=row>2193</th><td> 7990</td><td>1947</td><td>2</td><td>1</td><td> 27469</td><td>0</td><td>0</td><td>2012-08-02</td><td> 2</td><td>   9</td><td>⋯</td><td> 0</td><td> 3</td><td>6</td><td>0</td><td>0</td><td>0</td><td>0</td><td>0</td><td>0</td><td>0</td></tr>\n",
       "\t<tr><th scope=row>725</th><td> 4692</td><td>1976</td><td>2</td><td>1</td><td>  7500</td><td>1</td><td>0</td><td>2012-08-01</td><td>19</td><td>   7</td><td>⋯</td><td> 1</td><td> 2</td><td>9</td><td>1</td><td>0</td><td>0</td><td>0</td><td>0</td><td>0</td><td>1</td></tr>\n",
       "\t<tr><th scope=row>977</th><td> 2611</td><td>1959</td><td>3</td><td>1</td><td> 82576</td><td>0</td><td>0</td><td>2012-08-01</td><td>66</td><td>1206</td><td>⋯</td><td> 4</td><td>12</td><td>1</td><td>0</td><td>0</td><td>1</td><td>0</td><td>0</td><td>0</td><td>0</td></tr>\n",
       "\t<tr><th scope=row>2030</th><td>10001</td><td>1985</td><td>3</td><td>1</td><td>  7500</td><td>1</td><td>0</td><td>2012-08-01</td><td>98</td><td>   5</td><td>⋯</td><td> 1</td><td> 3</td><td>9</td><td>0</td><td>0</td><td>0</td><td>0</td><td>0</td><td>0</td><td>0</td></tr>\n",
       "\t<tr><th scope=row>2195</th><td> 7118</td><td>1957</td><td>2</td><td>1</td><td> 73803</td><td>0</td><td>1</td><td>2012-08-01</td><td>61</td><td> 833</td><td>⋯</td><td> 5</td><td> 6</td><td>6</td><td>1</td><td>0</td><td>0</td><td>0</td><td>0</td><td>0</td><td>1</td></tr>\n",
       "\t<tr><th scope=row>1364</th><td> 6181</td><td>1950</td><td>3</td><td>1</td><td> 52203</td><td>0</td><td>0</td><td>2012-07-31</td><td>36</td><td> 488</td><td>⋯</td><td> 7</td><td>11</td><td>6</td><td>0</td><td>0</td><td>0</td><td>0</td><td>0</td><td>0</td><td>0</td></tr>\n",
       "\t<tr><th scope=row>1256</th><td> 6653</td><td>1970</td><td>4</td><td>1</td><td> 55158</td><td>1</td><td>1</td><td>2012-07-30</td><td>72</td><td> 293</td><td>⋯</td><td> 2</td><td> 5</td><td>7</td><td>0</td><td>0</td><td>0</td><td>0</td><td>0</td><td>0</td><td>1</td></tr>\n",
       "</tbody>\n",
       "</table>\n"
      ],
      "text/latex": [
       "A data.frame: 2240 × 27\n",
       "\\begin{tabular}{r|lllllllllllllllllllll}\n",
       "  & ID & Year\\_Birth & Education & Marital\\_Status & Income & Kidhome & Teenhome & Dt\\_Customer & Recency & MntWines & ⋯ & NumCatalogPurchases & NumStorePurchases & NumWebVisitsMonth & AcceptedCmp3 & AcceptedCmp4 & AcceptedCmp5 & AcceptedCmp1 & AcceptedCmp2 & Complain & Response\\\\\n",
       "  & <int> & <int> & <dbl> & <dbl> & <dbl> & <int> & <int> & <date> & <int> & <int> & ⋯ & <int> & <int> & <int> & <int> & <int> & <int> & <int> & <int> & <int> & <int>\\\\\n",
       "\\hline\n",
       "\t201 &  7300 & 1952 & 2 & 0 & 69142 & 0 & 1 & 2014-06-29 & 50 &  448 & ⋯ & 1 &  7 &  5 & 0 & 1 & 0 & 0 & 0 & 0 & 0\\\\\n",
       "\t990 &   453 & 1956 & 4 & 0 & 35340 & 1 & 1 & 2014-06-29 &  1 &   27 & ⋯ & 0 &  3 &  5 & 0 & 0 & 0 & 0 & 0 & 0 & 0\\\\\n",
       "\t46 &  1371 & 1976 & 2 & 0 & 79941 & 0 & 0 & 2014-06-28 & 72 &  123 & ⋯ & 4 &  9 &  1 & 0 & 0 & 0 & 0 & 0 & 0 & 0\\\\\n",
       "\t797 &  6722 & 1954 & 4 & 1 & 70421 & 0 & 1 & 2014-06-28 & 98 &  479 & ⋯ & 3 &  7 &  6 & 0 & 0 & 0 & 0 & 0 & 0 & 0\\\\\n",
       "\t1813 &  8093 & 1969 & 3 & 1 & 79734 & 0 & 0 & 2014-06-28 & 72 &  572 & ⋯ & 3 &  6 &  1 & 0 & 0 & 0 & 1 & 0 & 0 & 0\\\\\n",
       "\t707 &  4472 & 1970 & 4 & 0 & 35682 & 1 & 0 & 2014-06-27 & 34 &   23 & ⋯ & 1 &  3 &  2 & 0 & 0 & 0 & 0 & 0 & 0 & 0\\\\\n",
       "\t1588 &  2471 & 1965 & 2 & 1 & 61482 & 0 & 0 & 2014-06-27 & 39 &   48 & ⋯ & 2 &  6 &  2 & 0 & 0 & 0 & 0 & 0 & 0 & 0\\\\\n",
       "\t1801 &  2831 & 1976 & 2 & 1 & 78416 & 0 & 1 & 2014-06-27 & 99 &  453 & ⋯ & 7 & 10 &  3 & 0 & 0 & 0 & 0 & 0 & 0 & 0\\\\\n",
       "\t267 &  1225 & 1963 & 2 & 1 & 80124 & 0 & 0 & 2014-06-26 & 47 &  483 & ⋯ & 7 &  8 &  1 & 1 & 0 & 0 & 0 & 0 & 0 & 0\\\\\n",
       "\t464 &  7059 & 1963 & 2 & 1 & 80124 & 0 & 0 & 2014-06-26 & 47 &  483 & ⋯ & 7 &  8 &  1 & 1 & 0 & 0 & 0 & 0 & 0 & 0\\\\\n",
       "\t2055 &  6382 & 1953 & 2 & 1 & 48794 & 1 & 1 & 2014-06-26 & 97 &   25 & ⋯ & 0 &  3 &  4 & 0 & 0 & 0 & 0 & 0 & 0 & 0\\\\\n",
       "\t2200 &  9014 & 1975 & 2 & 1 & 37085 & 1 & 1 & 2014-06-26 & 65 &   39 & ⋯ & 0 &  3 &  8 & 0 & 0 & 0 & 0 & 0 & 0 & 0\\\\\n",
       "\t113 &  3267 & 1963 & 3 & 1 & 57288 & 0 & 1 & 2014-06-25 & 27 &  527 & ⋯ & 1 &  8 &  6 & 0 & 1 & 0 & 0 & 0 & 0 & 0\\\\\n",
       "\t965 &  5633 & 1980 & 2 & 1 & 50183 & 1 & 1 & 2014-06-25 & 47 &   97 & ⋯ & 1 &  6 &  5 & 0 & 0 & 0 & 0 & 0 & 0 & 0\\\\\n",
       "\t1033 &  9888 & 1969 & 2 & 1 & 68695 & 0 & 0 & 2014-06-25 &  3 &  458 & ⋯ & 4 &  7 &  2 & 0 & 0 & 0 & 0 & 0 & 0 & 0\\\\\n",
       "\t1456 &  4399 & 1969 & 2 & 1 & 68695 & 0 & 0 & 2014-06-25 &  3 &  458 & ⋯ & 4 &  7 &  2 & 0 & 0 & 0 & 0 & 0 & 0 & 0\\\\\n",
       "\t2224 &  1448 & 1963 & 3 & 1 & 33562 & 1 & 2 & 2014-06-25 & 33 &   21 & ⋯ & 0 &  4 &  4 & 0 & 0 & 0 & 0 & 0 & 0 & 0\\\\\n",
       "\t179 & 10492 & 1959 & 2 & 1 & 38285 & 2 & 1 & 2014-06-24 & 96 &    2 & ⋯ & 0 &  3 &  2 & 0 & 0 & 0 & 0 & 0 & 0 & 0\\\\\n",
       "\t1024 &  4550 & 1966 & 3 & 1 & 33564 & 0 & 1 & 2014-06-24 & 51 &   61 & ⋯ & 1 &  3 &  5 & 0 & 0 & 0 & 0 & 0 & 0 & 0\\\\\n",
       "\t1660 &  2781 & 1981 & 2 & 0 & 72066 & 0 & 0 & 2014-06-23 & 55 & 1003 & ⋯ & 6 &  6 &  2 & 0 & 0 & 1 & 1 & 0 & 0 & 1\\\\\n",
       "\t1847 &  9931 & 1963 & 4 & 1 &  4023 & 1 & 1 & 2014-06-23 & 29 &    5 & ⋯ & 0 &  0 & 19 & 0 & 0 & 0 & 0 & 0 & 0 & 0\\\\\n",
       "\t982 &  3955 & 1965 & 2 & 0 &  4861 & 0 & 0 & 2014-06-22 & 20 &    2 & ⋯ & 0 &  0 & 14 & 0 & 0 & 0 & 0 & 0 & 0 & 0\\\\\n",
       "\t995 &  1640 & 1954 & 2 & 0 & 64587 & 1 & 1 & 2014-06-22 & 49 &   66 & ⋯ & 1 &  4 &  3 & 0 & 0 & 0 & 0 & 0 & 0 & 0\\\\\n",
       "\t1487 &  2939 & 1970 & 3 & 1 & 79419 & 0 & 0 & 2014-06-22 & 96 &  751 & ⋯ & 6 &  4 &  2 & 0 & 0 & 0 & 0 & 0 & 0 & 0\\\\\n",
       "\t1921 &  2546 & 1977 & 3 & 0 & 31878 & 0 & 1 & 2014-06-22 &  7 &   23 & ⋯ & 0 &  4 &  3 & 0 & 0 & 0 & 0 & 0 & 0 & 0\\\\\n",
       "\t2053 &  2591 & 1959 & 2 & 0 & 76320 & 0 & 1 & 2014-06-22 & 49 &  526 & ⋯ & 3 &  4 &  2 & 0 & 0 & 0 & 0 & 0 & 0 & 0\\\\\n",
       "\t150 &  4050 & 1966 & 3 & 1 & 49605 & 0 & 0 & 2014-06-21 & 65 &   42 & ⋯ & 1 &  4 &  3 & 0 & 0 & 0 & 0 & 0 & 0 & 0\\\\\n",
       "\t1270 &  9400 & 1958 & 3 & 0 & 85485 & 0 & 0 & 2014-06-21 & 73 &  630 & ⋯ & 6 &  6 &  2 & 0 & 0 & 0 & 0 & 0 & 0 & 0\\\\\n",
       "\t1948 &  2495 & 1974 & 3 & 1 & 83891 & 0 & 1 & 2014-06-20 & 24 &  217 & ⋯ & 7 & 10 &  1 & 0 & 0 & 0 & 0 & 0 & 0 & 0\\\\\n",
       "\t2125 &  2115 & 1957 & 2 & 1 & 50116 & 1 & 1 & 2014-06-20 & 68 &   54 & ⋯ & 0 &  4 &  5 & 0 & 1 & 0 & 0 & 0 & 0 & 0\\\\\n",
       "\t⋮ & ⋮ & ⋮ & ⋮ & ⋮ & ⋮ & ⋮ & ⋮ & ⋮ & ⋮ & ⋮ & ⋱ & ⋮ & ⋮ & ⋮ & ⋮ & ⋮ & ⋮ & ⋮ & ⋮ & ⋮ & ⋮\\\\\n",
       "\t1127 &  6749 & 1966 & 2 & 0 &  86358 & 1 & 1 & 2012-08-08 & 78 &  957 & ⋯ &  3 &  6 & 8 & 0 & 0 & 0 & 0 & 0 & 0 & 0\\\\\n",
       "\t1218 &  8876 & 1963 & 4 & 1 &  33629 & 1 & 1 & 2012-08-08 & 49 &  132 & ⋯ &  1 &  4 & 9 & 0 & 0 & 0 & 0 & 0 & 0 & 0\\\\\n",
       "\t1340 &   942 & 1982 & 2 & 0 &  39660 & 1 & 0 & 2012-08-08 & 36 &  139 & ⋯ &  1 &  3 & 9 & 0 & 0 & 0 & 0 & 0 & 0 & 1\\\\\n",
       "\t1687 &  1891 & 1980 & 3 & 0 &  78789 & 0 & 0 & 2012-08-08 & 12 &  667 & ⋯ &  6 &  5 & 2 & 0 & 0 & 0 & 0 & 0 & 0 & 1\\\\\n",
       "\t732 &   610 & 1953 & 4 & 1 &  53593 & 1 & 1 & 2012-08-07 & 60 &  349 & ⋯ &  2 &  6 & 8 & 0 & 0 & 0 & 0 & 0 & 0 & 0\\\\\n",
       "\t1406 & 10827 & 1967 & 4 & 1 &  36947 & 1 & 1 & 2012-08-07 & 49 &   88 & ⋯ &  0 &  4 & 9 & 0 & 0 & 0 & 0 & 0 & 0 & 0\\\\\n",
       "\t1943 &  5393 & 1977 & 2 & 0 &  23763 & 1 & 0 & 2012-08-07 & 64 &   22 & ⋯ &  0 &  3 & 7 & 0 & 0 & 0 & 0 & 0 & 0 & 0\\\\\n",
       "\t2015 &  3262 & 1958 & 2 & 0 &  68281 & 0 & 0 & 2012-08-07 & 31 &  995 & ⋯ &  9 & 13 & 5 & 0 & 0 & 0 & 0 & 0 & 0 & 1\\\\\n",
       "\t501 &  9135 & 1950 & 2 & 1 &  27203 & 1 & 1 & 2012-08-06 & 92 &   13 & ⋯ &  1 &  2 & 8 & 0 & 0 & 0 & 0 & 0 & 0 & 0\\\\\n",
       "\t542 & 10591 & 1969 & 2 & 0 &  43638 & 0 & 1 & 2012-08-06 & 37 &   63 & ⋯ &  1 &  4 & 7 & 0 & 0 & 0 & 0 & 0 & 0 & 0\\\\\n",
       "\t2140 &  2715 & 1966 & 3 & 0 &  29435 & 1 & 1 & 2012-08-06 & 11 &   70 & ⋯ &  2 &  2 & 9 & 0 & 0 & 0 & 0 & 0 & 0 & 1\\\\\n",
       "\t1137 & 10542 & 1968 & 4 & 1 &  36778 & 1 & 1 & 2012-08-05 & 63 &   29 & ⋯ &  0 &  3 & 9 & 0 & 0 & 0 & 0 & 0 & 0 & 0\\\\\n",
       "\t473 &   564 & 1981 & 4 & 1 &  56937 & 1 & 0 & 2012-08-04 & 81 &  746 & ⋯ &  6 &  9 & 6 & 0 & 1 & 0 & 0 & 0 & 0 & 1\\\\\n",
       "\t688 &  1501 & 1982 & 4 & 1 & 160803 & 0 & 0 & 2012-08-04 & 21 &   55 & ⋯ & 28 &  1 & 0 & 0 & 0 & 0 & 0 & 0 & 0 & 0\\\\\n",
       "\t1069 &  4817 & 1956 & 2 & 0 &  22304 & 0 & 0 & 2012-08-04 & 91 &    3 & ⋯ &  0 &  2 & 8 & 0 & 0 & 0 & 0 & 0 & 0 & 0\\\\\n",
       "\t1245 &  1291 & 1978 & 4 & 1 &  27683 & 1 & 0 & 2012-08-04 & 90 &  152 & ⋯ &  2 &  4 & 8 & 0 & 0 & 0 & 0 & 0 & 0 & 0\\\\\n",
       "\t655 &  3277 & 1955 & 2 & 0 &  49431 & 0 & 1 & 2012-08-03 &  9 &  219 & ⋯ &  1 &  5 & 8 & 0 & 0 & 0 & 0 & 0 & 0 & 0\\\\\n",
       "\t1068 &  2223 & 1965 & 3 & 0 &  64176 & 0 & 1 & 2012-08-03 & 52 & 1215 & ⋯ &  9 &  8 & 6 & 0 & 0 & 0 & 0 & 0 & 0 & 0\\\\\n",
       "\t1257 &  9094 & 1955 & 3 & 1 &  62972 & 0 & 1 & 2012-08-03 & 39 &  313 & ⋯ &  4 &  3 & 6 & 0 & 0 & 0 & 0 & 0 & 0 & 1\\\\\n",
       "\t1839 &  9847 & 1955 & 3 & 1 &  62972 & 0 & 1 & 2012-08-03 & 39 &  313 & ⋯ &  4 &  3 & 6 & 0 & 0 & 0 & 0 & 0 & 0 & 0\\\\\n",
       "\t2124 &  4915 & 1956 & 3 & 1 &  53230 & 0 & 1 & 2012-08-03 & 86 &  176 & ⋯ &  2 & 12 & 5 & 0 & 0 & 0 & 0 & 0 & 0 & 0\\\\\n",
       "\t1485 &  8370 & 1976 & 3 & 1 &  75484 & 0 & 1 & 2012-08-02 & 50 &  378 & ⋯ &  3 &  6 & 4 & 0 & 0 & 0 & 0 & 0 & 0 & 0\\\\\n",
       "\t1977 &  5117 & 1963 & 3 & 1 &  32632 & 0 & 0 & 2012-08-02 & 32 &   63 & ⋯ &  4 &  8 & 5 & 0 & 0 & 0 & 0 & 0 & 0 & 0\\\\\n",
       "\t2193 &  7990 & 1947 & 2 & 1 &  27469 & 0 & 0 & 2012-08-02 &  2 &    9 & ⋯ &  0 &  3 & 6 & 0 & 0 & 0 & 0 & 0 & 0 & 0\\\\\n",
       "\t725 &  4692 & 1976 & 2 & 1 &   7500 & 1 & 0 & 2012-08-01 & 19 &    7 & ⋯ &  1 &  2 & 9 & 1 & 0 & 0 & 0 & 0 & 0 & 1\\\\\n",
       "\t977 &  2611 & 1959 & 3 & 1 &  82576 & 0 & 0 & 2012-08-01 & 66 & 1206 & ⋯ &  4 & 12 & 1 & 0 & 0 & 1 & 0 & 0 & 0 & 0\\\\\n",
       "\t2030 & 10001 & 1985 & 3 & 1 &   7500 & 1 & 0 & 2012-08-01 & 98 &    5 & ⋯ &  1 &  3 & 9 & 0 & 0 & 0 & 0 & 0 & 0 & 0\\\\\n",
       "\t2195 &  7118 & 1957 & 2 & 1 &  73803 & 0 & 1 & 2012-08-01 & 61 &  833 & ⋯ &  5 &  6 & 6 & 1 & 0 & 0 & 0 & 0 & 0 & 1\\\\\n",
       "\t1364 &  6181 & 1950 & 3 & 1 &  52203 & 0 & 0 & 2012-07-31 & 36 &  488 & ⋯ &  7 & 11 & 6 & 0 & 0 & 0 & 0 & 0 & 0 & 0\\\\\n",
       "\t1256 &  6653 & 1970 & 4 & 1 &  55158 & 1 & 1 & 2012-07-30 & 72 &  293 & ⋯ &  2 &  5 & 7 & 0 & 0 & 0 & 0 & 0 & 0 & 1\\\\\n",
       "\\end{tabular}\n"
      ],
      "text/markdown": [
       "\n",
       "A data.frame: 2240 × 27\n",
       "\n",
       "| <!--/--> | ID &lt;int&gt; | Year_Birth &lt;int&gt; | Education &lt;dbl&gt; | Marital_Status &lt;dbl&gt; | Income &lt;dbl&gt; | Kidhome &lt;int&gt; | Teenhome &lt;int&gt; | Dt_Customer &lt;date&gt; | Recency &lt;int&gt; | MntWines &lt;int&gt; | ⋯ ⋯ | NumCatalogPurchases &lt;int&gt; | NumStorePurchases &lt;int&gt; | NumWebVisitsMonth &lt;int&gt; | AcceptedCmp3 &lt;int&gt; | AcceptedCmp4 &lt;int&gt; | AcceptedCmp5 &lt;int&gt; | AcceptedCmp1 &lt;int&gt; | AcceptedCmp2 &lt;int&gt; | Complain &lt;int&gt; | Response &lt;int&gt; |\n",
       "|---|---|---|---|---|---|---|---|---|---|---|---|---|---|---|---|---|---|---|---|---|---|\n",
       "| 201 |  7300 | 1952 | 2 | 0 | 69142 | 0 | 1 | 2014-06-29 | 50 |  448 | ⋯ | 1 |  7 |  5 | 0 | 1 | 0 | 0 | 0 | 0 | 0 |\n",
       "| 990 |   453 | 1956 | 4 | 0 | 35340 | 1 | 1 | 2014-06-29 |  1 |   27 | ⋯ | 0 |  3 |  5 | 0 | 0 | 0 | 0 | 0 | 0 | 0 |\n",
       "| 46 |  1371 | 1976 | 2 | 0 | 79941 | 0 | 0 | 2014-06-28 | 72 |  123 | ⋯ | 4 |  9 |  1 | 0 | 0 | 0 | 0 | 0 | 0 | 0 |\n",
       "| 797 |  6722 | 1954 | 4 | 1 | 70421 | 0 | 1 | 2014-06-28 | 98 |  479 | ⋯ | 3 |  7 |  6 | 0 | 0 | 0 | 0 | 0 | 0 | 0 |\n",
       "| 1813 |  8093 | 1969 | 3 | 1 | 79734 | 0 | 0 | 2014-06-28 | 72 |  572 | ⋯ | 3 |  6 |  1 | 0 | 0 | 0 | 1 | 0 | 0 | 0 |\n",
       "| 707 |  4472 | 1970 | 4 | 0 | 35682 | 1 | 0 | 2014-06-27 | 34 |   23 | ⋯ | 1 |  3 |  2 | 0 | 0 | 0 | 0 | 0 | 0 | 0 |\n",
       "| 1588 |  2471 | 1965 | 2 | 1 | 61482 | 0 | 0 | 2014-06-27 | 39 |   48 | ⋯ | 2 |  6 |  2 | 0 | 0 | 0 | 0 | 0 | 0 | 0 |\n",
       "| 1801 |  2831 | 1976 | 2 | 1 | 78416 | 0 | 1 | 2014-06-27 | 99 |  453 | ⋯ | 7 | 10 |  3 | 0 | 0 | 0 | 0 | 0 | 0 | 0 |\n",
       "| 267 |  1225 | 1963 | 2 | 1 | 80124 | 0 | 0 | 2014-06-26 | 47 |  483 | ⋯ | 7 |  8 |  1 | 1 | 0 | 0 | 0 | 0 | 0 | 0 |\n",
       "| 464 |  7059 | 1963 | 2 | 1 | 80124 | 0 | 0 | 2014-06-26 | 47 |  483 | ⋯ | 7 |  8 |  1 | 1 | 0 | 0 | 0 | 0 | 0 | 0 |\n",
       "| 2055 |  6382 | 1953 | 2 | 1 | 48794 | 1 | 1 | 2014-06-26 | 97 |   25 | ⋯ | 0 |  3 |  4 | 0 | 0 | 0 | 0 | 0 | 0 | 0 |\n",
       "| 2200 |  9014 | 1975 | 2 | 1 | 37085 | 1 | 1 | 2014-06-26 | 65 |   39 | ⋯ | 0 |  3 |  8 | 0 | 0 | 0 | 0 | 0 | 0 | 0 |\n",
       "| 113 |  3267 | 1963 | 3 | 1 | 57288 | 0 | 1 | 2014-06-25 | 27 |  527 | ⋯ | 1 |  8 |  6 | 0 | 1 | 0 | 0 | 0 | 0 | 0 |\n",
       "| 965 |  5633 | 1980 | 2 | 1 | 50183 | 1 | 1 | 2014-06-25 | 47 |   97 | ⋯ | 1 |  6 |  5 | 0 | 0 | 0 | 0 | 0 | 0 | 0 |\n",
       "| 1033 |  9888 | 1969 | 2 | 1 | 68695 | 0 | 0 | 2014-06-25 |  3 |  458 | ⋯ | 4 |  7 |  2 | 0 | 0 | 0 | 0 | 0 | 0 | 0 |\n",
       "| 1456 |  4399 | 1969 | 2 | 1 | 68695 | 0 | 0 | 2014-06-25 |  3 |  458 | ⋯ | 4 |  7 |  2 | 0 | 0 | 0 | 0 | 0 | 0 | 0 |\n",
       "| 2224 |  1448 | 1963 | 3 | 1 | 33562 | 1 | 2 | 2014-06-25 | 33 |   21 | ⋯ | 0 |  4 |  4 | 0 | 0 | 0 | 0 | 0 | 0 | 0 |\n",
       "| 179 | 10492 | 1959 | 2 | 1 | 38285 | 2 | 1 | 2014-06-24 | 96 |    2 | ⋯ | 0 |  3 |  2 | 0 | 0 | 0 | 0 | 0 | 0 | 0 |\n",
       "| 1024 |  4550 | 1966 | 3 | 1 | 33564 | 0 | 1 | 2014-06-24 | 51 |   61 | ⋯ | 1 |  3 |  5 | 0 | 0 | 0 | 0 | 0 | 0 | 0 |\n",
       "| 1660 |  2781 | 1981 | 2 | 0 | 72066 | 0 | 0 | 2014-06-23 | 55 | 1003 | ⋯ | 6 |  6 |  2 | 0 | 0 | 1 | 1 | 0 | 0 | 1 |\n",
       "| 1847 |  9931 | 1963 | 4 | 1 |  4023 | 1 | 1 | 2014-06-23 | 29 |    5 | ⋯ | 0 |  0 | 19 | 0 | 0 | 0 | 0 | 0 | 0 | 0 |\n",
       "| 982 |  3955 | 1965 | 2 | 0 |  4861 | 0 | 0 | 2014-06-22 | 20 |    2 | ⋯ | 0 |  0 | 14 | 0 | 0 | 0 | 0 | 0 | 0 | 0 |\n",
       "| 995 |  1640 | 1954 | 2 | 0 | 64587 | 1 | 1 | 2014-06-22 | 49 |   66 | ⋯ | 1 |  4 |  3 | 0 | 0 | 0 | 0 | 0 | 0 | 0 |\n",
       "| 1487 |  2939 | 1970 | 3 | 1 | 79419 | 0 | 0 | 2014-06-22 | 96 |  751 | ⋯ | 6 |  4 |  2 | 0 | 0 | 0 | 0 | 0 | 0 | 0 |\n",
       "| 1921 |  2546 | 1977 | 3 | 0 | 31878 | 0 | 1 | 2014-06-22 |  7 |   23 | ⋯ | 0 |  4 |  3 | 0 | 0 | 0 | 0 | 0 | 0 | 0 |\n",
       "| 2053 |  2591 | 1959 | 2 | 0 | 76320 | 0 | 1 | 2014-06-22 | 49 |  526 | ⋯ | 3 |  4 |  2 | 0 | 0 | 0 | 0 | 0 | 0 | 0 |\n",
       "| 150 |  4050 | 1966 | 3 | 1 | 49605 | 0 | 0 | 2014-06-21 | 65 |   42 | ⋯ | 1 |  4 |  3 | 0 | 0 | 0 | 0 | 0 | 0 | 0 |\n",
       "| 1270 |  9400 | 1958 | 3 | 0 | 85485 | 0 | 0 | 2014-06-21 | 73 |  630 | ⋯ | 6 |  6 |  2 | 0 | 0 | 0 | 0 | 0 | 0 | 0 |\n",
       "| 1948 |  2495 | 1974 | 3 | 1 | 83891 | 0 | 1 | 2014-06-20 | 24 |  217 | ⋯ | 7 | 10 |  1 | 0 | 0 | 0 | 0 | 0 | 0 | 0 |\n",
       "| 2125 |  2115 | 1957 | 2 | 1 | 50116 | 1 | 1 | 2014-06-20 | 68 |   54 | ⋯ | 0 |  4 |  5 | 0 | 1 | 0 | 0 | 0 | 0 | 0 |\n",
       "| ⋮ | ⋮ | ⋮ | ⋮ | ⋮ | ⋮ | ⋮ | ⋮ | ⋮ | ⋮ | ⋮ | ⋱ | ⋮ | ⋮ | ⋮ | ⋮ | ⋮ | ⋮ | ⋮ | ⋮ | ⋮ | ⋮ |\n",
       "| 1127 |  6749 | 1966 | 2 | 0 |  86358 | 1 | 1 | 2012-08-08 | 78 |  957 | ⋯ |  3 |  6 | 8 | 0 | 0 | 0 | 0 | 0 | 0 | 0 |\n",
       "| 1218 |  8876 | 1963 | 4 | 1 |  33629 | 1 | 1 | 2012-08-08 | 49 |  132 | ⋯ |  1 |  4 | 9 | 0 | 0 | 0 | 0 | 0 | 0 | 0 |\n",
       "| 1340 |   942 | 1982 | 2 | 0 |  39660 | 1 | 0 | 2012-08-08 | 36 |  139 | ⋯ |  1 |  3 | 9 | 0 | 0 | 0 | 0 | 0 | 0 | 1 |\n",
       "| 1687 |  1891 | 1980 | 3 | 0 |  78789 | 0 | 0 | 2012-08-08 | 12 |  667 | ⋯ |  6 |  5 | 2 | 0 | 0 | 0 | 0 | 0 | 0 | 1 |\n",
       "| 732 |   610 | 1953 | 4 | 1 |  53593 | 1 | 1 | 2012-08-07 | 60 |  349 | ⋯ |  2 |  6 | 8 | 0 | 0 | 0 | 0 | 0 | 0 | 0 |\n",
       "| 1406 | 10827 | 1967 | 4 | 1 |  36947 | 1 | 1 | 2012-08-07 | 49 |   88 | ⋯ |  0 |  4 | 9 | 0 | 0 | 0 | 0 | 0 | 0 | 0 |\n",
       "| 1943 |  5393 | 1977 | 2 | 0 |  23763 | 1 | 0 | 2012-08-07 | 64 |   22 | ⋯ |  0 |  3 | 7 | 0 | 0 | 0 | 0 | 0 | 0 | 0 |\n",
       "| 2015 |  3262 | 1958 | 2 | 0 |  68281 | 0 | 0 | 2012-08-07 | 31 |  995 | ⋯ |  9 | 13 | 5 | 0 | 0 | 0 | 0 | 0 | 0 | 1 |\n",
       "| 501 |  9135 | 1950 | 2 | 1 |  27203 | 1 | 1 | 2012-08-06 | 92 |   13 | ⋯ |  1 |  2 | 8 | 0 | 0 | 0 | 0 | 0 | 0 | 0 |\n",
       "| 542 | 10591 | 1969 | 2 | 0 |  43638 | 0 | 1 | 2012-08-06 | 37 |   63 | ⋯ |  1 |  4 | 7 | 0 | 0 | 0 | 0 | 0 | 0 | 0 |\n",
       "| 2140 |  2715 | 1966 | 3 | 0 |  29435 | 1 | 1 | 2012-08-06 | 11 |   70 | ⋯ |  2 |  2 | 9 | 0 | 0 | 0 | 0 | 0 | 0 | 1 |\n",
       "| 1137 | 10542 | 1968 | 4 | 1 |  36778 | 1 | 1 | 2012-08-05 | 63 |   29 | ⋯ |  0 |  3 | 9 | 0 | 0 | 0 | 0 | 0 | 0 | 0 |\n",
       "| 473 |   564 | 1981 | 4 | 1 |  56937 | 1 | 0 | 2012-08-04 | 81 |  746 | ⋯ |  6 |  9 | 6 | 0 | 1 | 0 | 0 | 0 | 0 | 1 |\n",
       "| 688 |  1501 | 1982 | 4 | 1 | 160803 | 0 | 0 | 2012-08-04 | 21 |   55 | ⋯ | 28 |  1 | 0 | 0 | 0 | 0 | 0 | 0 | 0 | 0 |\n",
       "| 1069 |  4817 | 1956 | 2 | 0 |  22304 | 0 | 0 | 2012-08-04 | 91 |    3 | ⋯ |  0 |  2 | 8 | 0 | 0 | 0 | 0 | 0 | 0 | 0 |\n",
       "| 1245 |  1291 | 1978 | 4 | 1 |  27683 | 1 | 0 | 2012-08-04 | 90 |  152 | ⋯ |  2 |  4 | 8 | 0 | 0 | 0 | 0 | 0 | 0 | 0 |\n",
       "| 655 |  3277 | 1955 | 2 | 0 |  49431 | 0 | 1 | 2012-08-03 |  9 |  219 | ⋯ |  1 |  5 | 8 | 0 | 0 | 0 | 0 | 0 | 0 | 0 |\n",
       "| 1068 |  2223 | 1965 | 3 | 0 |  64176 | 0 | 1 | 2012-08-03 | 52 | 1215 | ⋯ |  9 |  8 | 6 | 0 | 0 | 0 | 0 | 0 | 0 | 0 |\n",
       "| 1257 |  9094 | 1955 | 3 | 1 |  62972 | 0 | 1 | 2012-08-03 | 39 |  313 | ⋯ |  4 |  3 | 6 | 0 | 0 | 0 | 0 | 0 | 0 | 1 |\n",
       "| 1839 |  9847 | 1955 | 3 | 1 |  62972 | 0 | 1 | 2012-08-03 | 39 |  313 | ⋯ |  4 |  3 | 6 | 0 | 0 | 0 | 0 | 0 | 0 | 0 |\n",
       "| 2124 |  4915 | 1956 | 3 | 1 |  53230 | 0 | 1 | 2012-08-03 | 86 |  176 | ⋯ |  2 | 12 | 5 | 0 | 0 | 0 | 0 | 0 | 0 | 0 |\n",
       "| 1485 |  8370 | 1976 | 3 | 1 |  75484 | 0 | 1 | 2012-08-02 | 50 |  378 | ⋯ |  3 |  6 | 4 | 0 | 0 | 0 | 0 | 0 | 0 | 0 |\n",
       "| 1977 |  5117 | 1963 | 3 | 1 |  32632 | 0 | 0 | 2012-08-02 | 32 |   63 | ⋯ |  4 |  8 | 5 | 0 | 0 | 0 | 0 | 0 | 0 | 0 |\n",
       "| 2193 |  7990 | 1947 | 2 | 1 |  27469 | 0 | 0 | 2012-08-02 |  2 |    9 | ⋯ |  0 |  3 | 6 | 0 | 0 | 0 | 0 | 0 | 0 | 0 |\n",
       "| 725 |  4692 | 1976 | 2 | 1 |   7500 | 1 | 0 | 2012-08-01 | 19 |    7 | ⋯ |  1 |  2 | 9 | 1 | 0 | 0 | 0 | 0 | 0 | 1 |\n",
       "| 977 |  2611 | 1959 | 3 | 1 |  82576 | 0 | 0 | 2012-08-01 | 66 | 1206 | ⋯ |  4 | 12 | 1 | 0 | 0 | 1 | 0 | 0 | 0 | 0 |\n",
       "| 2030 | 10001 | 1985 | 3 | 1 |   7500 | 1 | 0 | 2012-08-01 | 98 |    5 | ⋯ |  1 |  3 | 9 | 0 | 0 | 0 | 0 | 0 | 0 | 0 |\n",
       "| 2195 |  7118 | 1957 | 2 | 1 |  73803 | 0 | 1 | 2012-08-01 | 61 |  833 | ⋯ |  5 |  6 | 6 | 1 | 0 | 0 | 0 | 0 | 0 | 1 |\n",
       "| 1364 |  6181 | 1950 | 3 | 1 |  52203 | 0 | 0 | 2012-07-31 | 36 |  488 | ⋯ |  7 | 11 | 6 | 0 | 0 | 0 | 0 | 0 | 0 | 0 |\n",
       "| 1256 |  6653 | 1970 | 4 | 1 |  55158 | 1 | 1 | 2012-07-30 | 72 |  293 | ⋯ |  2 |  5 | 7 | 0 | 0 | 0 | 0 | 0 | 0 | 1 |\n",
       "\n"
      ],
      "text/plain": [
       "     ID    Year_Birth Education Marital_Status Income Kidhome Teenhome\n",
       "201   7300 1952       2         0              69142  0       1       \n",
       "990    453 1956       4         0              35340  1       1       \n",
       "46    1371 1976       2         0              79941  0       0       \n",
       "797   6722 1954       4         1              70421  0       1       \n",
       "1813  8093 1969       3         1              79734  0       0       \n",
       "707   4472 1970       4         0              35682  1       0       \n",
       "1588  2471 1965       2         1              61482  0       0       \n",
       "1801  2831 1976       2         1              78416  0       1       \n",
       "267   1225 1963       2         1              80124  0       0       \n",
       "464   7059 1963       2         1              80124  0       0       \n",
       "2055  6382 1953       2         1              48794  1       1       \n",
       "2200  9014 1975       2         1              37085  1       1       \n",
       "113   3267 1963       3         1              57288  0       1       \n",
       "965   5633 1980       2         1              50183  1       1       \n",
       "1033  9888 1969       2         1              68695  0       0       \n",
       "1456  4399 1969       2         1              68695  0       0       \n",
       "2224  1448 1963       3         1              33562  1       2       \n",
       "179  10492 1959       2         1              38285  2       1       \n",
       "1024  4550 1966       3         1              33564  0       1       \n",
       "1660  2781 1981       2         0              72066  0       0       \n",
       "1847  9931 1963       4         1               4023  1       1       \n",
       "982   3955 1965       2         0               4861  0       0       \n",
       "995   1640 1954       2         0              64587  1       1       \n",
       "1487  2939 1970       3         1              79419  0       0       \n",
       "1921  2546 1977       3         0              31878  0       1       \n",
       "2053  2591 1959       2         0              76320  0       1       \n",
       "150   4050 1966       3         1              49605  0       0       \n",
       "1270  9400 1958       3         0              85485  0       0       \n",
       "1948  2495 1974       3         1              83891  0       1       \n",
       "2125  2115 1957       2         1              50116  1       1       \n",
       "⋮    ⋮     ⋮          ⋮         ⋮              ⋮      ⋮       ⋮       \n",
       "1127  6749 1966       2         0               86358 1       1       \n",
       "1218  8876 1963       4         1               33629 1       1       \n",
       "1340   942 1982       2         0               39660 1       0       \n",
       "1687  1891 1980       3         0               78789 0       0       \n",
       "732    610 1953       4         1               53593 1       1       \n",
       "1406 10827 1967       4         1               36947 1       1       \n",
       "1943  5393 1977       2         0               23763 1       0       \n",
       "2015  3262 1958       2         0               68281 0       0       \n",
       "501   9135 1950       2         1               27203 1       1       \n",
       "542  10591 1969       2         0               43638 0       1       \n",
       "2140  2715 1966       3         0               29435 1       1       \n",
       "1137 10542 1968       4         1               36778 1       1       \n",
       "473    564 1981       4         1               56937 1       0       \n",
       "688   1501 1982       4         1              160803 0       0       \n",
       "1069  4817 1956       2         0               22304 0       0       \n",
       "1245  1291 1978       4         1               27683 1       0       \n",
       "655   3277 1955       2         0               49431 0       1       \n",
       "1068  2223 1965       3         0               64176 0       1       \n",
       "1257  9094 1955       3         1               62972 0       1       \n",
       "1839  9847 1955       3         1               62972 0       1       \n",
       "2124  4915 1956       3         1               53230 0       1       \n",
       "1485  8370 1976       3         1               75484 0       1       \n",
       "1977  5117 1963       3         1               32632 0       0       \n",
       "2193  7990 1947       2         1               27469 0       0       \n",
       "725   4692 1976       2         1                7500 1       0       \n",
       "977   2611 1959       3         1               82576 0       0       \n",
       "2030 10001 1985       3         1                7500 1       0       \n",
       "2195  7118 1957       2         1               73803 0       1       \n",
       "1364  6181 1950       3         1               52203 0       0       \n",
       "1256  6653 1970       4         1               55158 1       1       \n",
       "     Dt_Customer Recency MntWines ⋯ NumCatalogPurchases NumStorePurchases\n",
       "201  2014-06-29  50       448     ⋯ 1                    7               \n",
       "990  2014-06-29   1        27     ⋯ 0                    3               \n",
       "46   2014-06-28  72       123     ⋯ 4                    9               \n",
       "797  2014-06-28  98       479     ⋯ 3                    7               \n",
       "1813 2014-06-28  72       572     ⋯ 3                    6               \n",
       "707  2014-06-27  34        23     ⋯ 1                    3               \n",
       "1588 2014-06-27  39        48     ⋯ 2                    6               \n",
       "1801 2014-06-27  99       453     ⋯ 7                   10               \n",
       "267  2014-06-26  47       483     ⋯ 7                    8               \n",
       "464  2014-06-26  47       483     ⋯ 7                    8               \n",
       "2055 2014-06-26  97        25     ⋯ 0                    3               \n",
       "2200 2014-06-26  65        39     ⋯ 0                    3               \n",
       "113  2014-06-25  27       527     ⋯ 1                    8               \n",
       "965  2014-06-25  47        97     ⋯ 1                    6               \n",
       "1033 2014-06-25   3       458     ⋯ 4                    7               \n",
       "1456 2014-06-25   3       458     ⋯ 4                    7               \n",
       "2224 2014-06-25  33        21     ⋯ 0                    4               \n",
       "179  2014-06-24  96         2     ⋯ 0                    3               \n",
       "1024 2014-06-24  51        61     ⋯ 1                    3               \n",
       "1660 2014-06-23  55      1003     ⋯ 6                    6               \n",
       "1847 2014-06-23  29         5     ⋯ 0                    0               \n",
       "982  2014-06-22  20         2     ⋯ 0                    0               \n",
       "995  2014-06-22  49        66     ⋯ 1                    4               \n",
       "1487 2014-06-22  96       751     ⋯ 6                    4               \n",
       "1921 2014-06-22   7        23     ⋯ 0                    4               \n",
       "2053 2014-06-22  49       526     ⋯ 3                    4               \n",
       "150  2014-06-21  65        42     ⋯ 1                    4               \n",
       "1270 2014-06-21  73       630     ⋯ 6                    6               \n",
       "1948 2014-06-20  24       217     ⋯ 7                   10               \n",
       "2125 2014-06-20  68        54     ⋯ 0                    4               \n",
       "⋮    ⋮           ⋮       ⋮        ⋱ ⋮                   ⋮                \n",
       "1127 2012-08-08  78       957     ⋯  3                   6               \n",
       "1218 2012-08-08  49       132     ⋯  1                   4               \n",
       "1340 2012-08-08  36       139     ⋯  1                   3               \n",
       "1687 2012-08-08  12       667     ⋯  6                   5               \n",
       "732  2012-08-07  60       349     ⋯  2                   6               \n",
       "1406 2012-08-07  49        88     ⋯  0                   4               \n",
       "1943 2012-08-07  64        22     ⋯  0                   3               \n",
       "2015 2012-08-07  31       995     ⋯  9                  13               \n",
       "501  2012-08-06  92        13     ⋯  1                   2               \n",
       "542  2012-08-06  37        63     ⋯  1                   4               \n",
       "2140 2012-08-06  11        70     ⋯  2                   2               \n",
       "1137 2012-08-05  63        29     ⋯  0                   3               \n",
       "473  2012-08-04  81       746     ⋯  6                   9               \n",
       "688  2012-08-04  21        55     ⋯ 28                   1               \n",
       "1069 2012-08-04  91         3     ⋯  0                   2               \n",
       "1245 2012-08-04  90       152     ⋯  2                   4               \n",
       "655  2012-08-03   9       219     ⋯  1                   5               \n",
       "1068 2012-08-03  52      1215     ⋯  9                   8               \n",
       "1257 2012-08-03  39       313     ⋯  4                   3               \n",
       "1839 2012-08-03  39       313     ⋯  4                   3               \n",
       "2124 2012-08-03  86       176     ⋯  2                  12               \n",
       "1485 2012-08-02  50       378     ⋯  3                   6               \n",
       "1977 2012-08-02  32        63     ⋯  4                   8               \n",
       "2193 2012-08-02   2         9     ⋯  0                   3               \n",
       "725  2012-08-01  19         7     ⋯  1                   2               \n",
       "977  2012-08-01  66      1206     ⋯  4                  12               \n",
       "2030 2012-08-01  98         5     ⋯  1                   3               \n",
       "2195 2012-08-01  61       833     ⋯  5                   6               \n",
       "1364 2012-07-31  36       488     ⋯  7                  11               \n",
       "1256 2012-07-30  72       293     ⋯  2                   5               \n",
       "     NumWebVisitsMonth AcceptedCmp3 AcceptedCmp4 AcceptedCmp5 AcceptedCmp1\n",
       "201   5                0            1            0            0           \n",
       "990   5                0            0            0            0           \n",
       "46    1                0            0            0            0           \n",
       "797   6                0            0            0            0           \n",
       "1813  1                0            0            0            1           \n",
       "707   2                0            0            0            0           \n",
       "1588  2                0            0            0            0           \n",
       "1801  3                0            0            0            0           \n",
       "267   1                1            0            0            0           \n",
       "464   1                1            0            0            0           \n",
       "2055  4                0            0            0            0           \n",
       "2200  8                0            0            0            0           \n",
       "113   6                0            1            0            0           \n",
       "965   5                0            0            0            0           \n",
       "1033  2                0            0            0            0           \n",
       "1456  2                0            0            0            0           \n",
       "2224  4                0            0            0            0           \n",
       "179   2                0            0            0            0           \n",
       "1024  5                0            0            0            0           \n",
       "1660  2                0            0            1            1           \n",
       "1847 19                0            0            0            0           \n",
       "982  14                0            0            0            0           \n",
       "995   3                0            0            0            0           \n",
       "1487  2                0            0            0            0           \n",
       "1921  3                0            0            0            0           \n",
       "2053  2                0            0            0            0           \n",
       "150   3                0            0            0            0           \n",
       "1270  2                0            0            0            0           \n",
       "1948  1                0            0            0            0           \n",
       "2125  5                0            1            0            0           \n",
       "⋮    ⋮                 ⋮            ⋮            ⋮            ⋮           \n",
       "1127 8                 0            0            0            0           \n",
       "1218 9                 0            0            0            0           \n",
       "1340 9                 0            0            0            0           \n",
       "1687 2                 0            0            0            0           \n",
       "732  8                 0            0            0            0           \n",
       "1406 9                 0            0            0            0           \n",
       "1943 7                 0            0            0            0           \n",
       "2015 5                 0            0            0            0           \n",
       "501  8                 0            0            0            0           \n",
       "542  7                 0            0            0            0           \n",
       "2140 9                 0            0            0            0           \n",
       "1137 9                 0            0            0            0           \n",
       "473  6                 0            1            0            0           \n",
       "688  0                 0            0            0            0           \n",
       "1069 8                 0            0            0            0           \n",
       "1245 8                 0            0            0            0           \n",
       "655  8                 0            0            0            0           \n",
       "1068 6                 0            0            0            0           \n",
       "1257 6                 0            0            0            0           \n",
       "1839 6                 0            0            0            0           \n",
       "2124 5                 0            0            0            0           \n",
       "1485 4                 0            0            0            0           \n",
       "1977 5                 0            0            0            0           \n",
       "2193 6                 0            0            0            0           \n",
       "725  9                 1            0            0            0           \n",
       "977  1                 0            0            1            0           \n",
       "2030 9                 0            0            0            0           \n",
       "2195 6                 1            0            0            0           \n",
       "1364 6                 0            0            0            0           \n",
       "1256 7                 0            0            0            0           \n",
       "     AcceptedCmp2 Complain Response\n",
       "201  0            0        0       \n",
       "990  0            0        0       \n",
       "46   0            0        0       \n",
       "797  0            0        0       \n",
       "1813 0            0        0       \n",
       "707  0            0        0       \n",
       "1588 0            0        0       \n",
       "1801 0            0        0       \n",
       "267  0            0        0       \n",
       "464  0            0        0       \n",
       "2055 0            0        0       \n",
       "2200 0            0        0       \n",
       "113  0            0        0       \n",
       "965  0            0        0       \n",
       "1033 0            0        0       \n",
       "1456 0            0        0       \n",
       "2224 0            0        0       \n",
       "179  0            0        0       \n",
       "1024 0            0        0       \n",
       "1660 0            0        1       \n",
       "1847 0            0        0       \n",
       "982  0            0        0       \n",
       "995  0            0        0       \n",
       "1487 0            0        0       \n",
       "1921 0            0        0       \n",
       "2053 0            0        0       \n",
       "150  0            0        0       \n",
       "1270 0            0        0       \n",
       "1948 0            0        0       \n",
       "2125 0            0        0       \n",
       "⋮    ⋮            ⋮        ⋮       \n",
       "1127 0            0        0       \n",
       "1218 0            0        0       \n",
       "1340 0            0        1       \n",
       "1687 0            0        1       \n",
       "732  0            0        0       \n",
       "1406 0            0        0       \n",
       "1943 0            0        0       \n",
       "2015 0            0        1       \n",
       "501  0            0        0       \n",
       "542  0            0        0       \n",
       "2140 0            0        1       \n",
       "1137 0            0        0       \n",
       "473  0            0        1       \n",
       "688  0            0        0       \n",
       "1069 0            0        0       \n",
       "1245 0            0        0       \n",
       "655  0            0        0       \n",
       "1068 0            0        0       \n",
       "1257 0            0        1       \n",
       "1839 0            0        0       \n",
       "2124 0            0        0       \n",
       "1485 0            0        0       \n",
       "1977 0            0        0       \n",
       "2193 0            0        0       \n",
       "725  0            0        1       \n",
       "977  0            0        0       \n",
       "2030 0            0        0       \n",
       "2195 0            0        1       \n",
       "1364 0            0        0       \n",
       "1256 0            0        1       "
      ]
     },
     "metadata": {},
     "output_type": "display_data"
    }
   ],
   "source": [
    "commerce[order(commerce$Dt_Customer, decreasing = TRUE),]"
   ]
  },
  {
   "cell_type": "code",
   "execution_count": 119,
   "id": "fa51ddc0-0830-4a97-9ae1-0617526214b1",
   "metadata": {},
   "outputs": [],
   "source": [
    "# Let's convert this column to numeric form - the number of days that a person is enrolled in the company.\n",
    "# Unfortunately, I didn't find information what is the date of collecting this survey\n",
    "# As certain variables show some information happened in the span of the last 2 year (Mnt type varaibles,), I assume that every person in the survey\n",
    "# is enrolled in the company for at least 2 years.\n",
    "# As the latest date is 29.06.2014, our reference date will we 29.06.2016, so that the lastest enrolled customer is enrolled for 2 years"
   ]
  },
  {
   "cell_type": "code",
   "execution_count": 71,
   "id": "abec5a61-9d1d-44ea-8b1b-5a6d924c99c3",
   "metadata": {},
   "outputs": [],
   "source": [
    "reference_date <- as.Date(\"29/06/16\", format = '%d/%m/%y')"
   ]
  },
  {
   "cell_type": "code",
   "execution_count": 72,
   "id": "77abf609-14a1-4b1f-9e72-6a9e43f6007d",
   "metadata": {},
   "outputs": [],
   "source": [
    "Days <- commerce$Dt_Customer - reference_date"
   ]
  },
  {
   "cell_type": "code",
   "execution_count": 73,
   "id": "3278073b-36f9-46f9-b7b8-cf836573a165",
   "metadata": {},
   "outputs": [],
   "source": [
    "Days <- abs(Days)\n",
    "commerce$Dt_Customer <- Days"
   ]
  },
  {
   "cell_type": "code",
   "execution_count": 80,
   "id": "55e01962-3658-4524-9848-936bce72979b",
   "metadata": {},
   "outputs": [],
   "source": [
    "commerce$Dt_Customer <- as.numeric(commerce$Dt_Customer)"
   ]
  },
  {
   "cell_type": "code",
   "execution_count": 74,
   "id": "7d9b72a1-3db5-4edf-8a7e-e2de6a73875e",
   "metadata": {},
   "outputs": [],
   "source": [
    "# Year of birth - let's create the customer age column out of it"
   ]
  },
  {
   "cell_type": "code",
   "execution_count": 75,
   "id": "af987285-82ff-4ea8-b465-de2e04787ff0",
   "metadata": {},
   "outputs": [],
   "source": [
    "reference_year <- 2016"
   ]
  },
  {
   "cell_type": "code",
   "execution_count": 76,
   "id": "b56700ce-1f0c-446c-b3e8-77a725edf115",
   "metadata": {},
   "outputs": [
    {
     "data": {
      "text/plain": [
       "   Min. 1st Qu.  Median    Mean 3rd Qu.    Max. \n",
       "  20.00   39.00   46.00   47.19   57.00  123.00 "
      ]
     },
     "metadata": {},
     "output_type": "display_data"
    }
   ],
   "source": [
    "Age <- reference_year - commerce$Year_Birth\n",
    "summary(Age)"
   ]
  },
  {
   "cell_type": "code",
   "execution_count": 77,
   "id": "4e23a23c-b11d-4f1f-af86-ac1941fc0f74",
   "metadata": {},
   "outputs": [],
   "source": [
    "# Results are raisonable. Let's switch the Year-Birth with newly-created Age column"
   ]
  },
  {
   "cell_type": "code",
   "execution_count": 78,
   "id": "8b86e2d4-14eb-42a9-8cb6-c24d555827b9",
   "metadata": {},
   "outputs": [],
   "source": [
    "commerce$Year_Birth <- Age"
   ]
  },
  {
   "cell_type": "code",
   "execution_count": 81,
   "id": "6de7fd27-cd74-49e2-9f8e-d756267909b3",
   "metadata": {},
   "outputs": [],
   "source": [
    "colnames(commerce)[2] <- 'Age'"
   ]
  },
  {
   "cell_type": "code",
   "execution_count": 82,
   "id": "edfd2680-2692-4914-a320-fb956d766c5c",
   "metadata": {},
   "outputs": [],
   "source": [
    "# At this point, the data preprocessing is done."
   ]
  },
  {
   "cell_type": "code",
   "execution_count": 120,
   "id": "cfa27cce-934f-42b8-b7da-f9e80be94de1",
   "metadata": {},
   "outputs": [],
   "source": [
    "# We can save the processed dataset"
   ]
  },
  {
   "cell_type": "code",
   "execution_count": null,
   "id": "ad2fd261-b40b-46ae-8b17-e09387b72b1e",
   "metadata": {},
   "outputs": [],
   "source": [
    "# write.csv(commerce, 'commerce_processed.csv')"
   ]
  },
  {
   "cell_type": "markdown",
   "id": "0371a710-f831-4096-b8ea-effcc6839448",
   "metadata": {},
   "source": [
    "## Dimension reduction"
   ]
  },
  {
   "cell_type": "code",
   "execution_count": 84,
   "id": "e80de12a-197a-4837-8bb1-25e1997ecd1b",
   "metadata": {},
   "outputs": [],
   "source": [
    "# We are dealing with mixed data - numerical and categorical. It would be inappriopriate to use PCA on all of it, as this method is mainly used for \n",
    "# numerical data. In order to perform a complex procedure of dimensionality reduction and discovering latent factors in the e-commerce dataset, I will\n",
    "# use PCA on numerical variable only first. Then, I will adjust the analysis with Factorial Analysis of Mixed Data (FAMD), which will take into account\n",
    "# also categorical variables (together with the numerical ones)"
   ]
  },
  {
   "cell_type": "markdown",
   "id": "b1016dbb-5172-4d48-96ec-018be30bc637",
   "metadata": {},
   "source": [
    "## PCA"
   ]
  },
  {
   "cell_type": "code",
   "execution_count": 85,
   "id": "aa2505e5-7bb5-4f3a-a09e-3dd209f3f6eb",
   "metadata": {},
   "outputs": [
    {
     "data": {
      "text/html": [
       "<style>\n",
       ".list-inline {list-style: none; margin:0; padding: 0}\n",
       ".list-inline>li {display: inline-block}\n",
       ".list-inline>li:not(:last-child)::after {content: \"\\00b7\"; padding: 0 .5ex}\n",
       "</style>\n",
       "<ol class=list-inline><li>'Income'</li><li>'Recency'</li><li>'MntWines'</li><li>'MntFruits'</li><li>'MntMeatProducts'</li><li>'MntFishProducts'</li><li>'MntSweetProducts'</li><li>'MntGoldProds'</li><li>'NumDealsPurchases'</li><li>'NumWebPurchases'</li><li>'NumCatalogPurchases'</li><li>'NumStorePurchases'</li><li>'NumWebVisitsMonth'</li></ol>\n"
      ],
      "text/latex": [
       "\\begin{enumerate*}\n",
       "\\item 'Income'\n",
       "\\item 'Recency'\n",
       "\\item 'MntWines'\n",
       "\\item 'MntFruits'\n",
       "\\item 'MntMeatProducts'\n",
       "\\item 'MntFishProducts'\n",
       "\\item 'MntSweetProducts'\n",
       "\\item 'MntGoldProds'\n",
       "\\item 'NumDealsPurchases'\n",
       "\\item 'NumWebPurchases'\n",
       "\\item 'NumCatalogPurchases'\n",
       "\\item 'NumStorePurchases'\n",
       "\\item 'NumWebVisitsMonth'\n",
       "\\end{enumerate*}\n"
      ],
      "text/markdown": [
       "1. 'Income'\n",
       "2. 'Recency'\n",
       "3. 'MntWines'\n",
       "4. 'MntFruits'\n",
       "5. 'MntMeatProducts'\n",
       "6. 'MntFishProducts'\n",
       "7. 'MntSweetProducts'\n",
       "8. 'MntGoldProds'\n",
       "9. 'NumDealsPurchases'\n",
       "10. 'NumWebPurchases'\n",
       "11. 'NumCatalogPurchases'\n",
       "12. 'NumStorePurchases'\n",
       "13. 'NumWebVisitsMonth'\n",
       "\n",
       "\n"
      ],
      "text/plain": [
       " [1] \"Income\"              \"Recency\"             \"MntWines\"           \n",
       " [4] \"MntFruits\"           \"MntMeatProducts\"     \"MntFishProducts\"    \n",
       " [7] \"MntSweetProducts\"    \"MntGoldProds\"        \"NumDealsPurchases\"  \n",
       "[10] \"NumWebPurchases\"     \"NumCatalogPurchases\" \"NumStorePurchases\"  \n",
       "[13] \"NumWebVisitsMonth\"  "
      ]
     },
     "metadata": {},
     "output_type": "display_data"
    }
   ],
   "source": [
    "numeric_cols"
   ]
  },
  {
   "cell_type": "code",
   "execution_count": 87,
   "id": "1332e53b-3a70-4e88-a526-47dee77e13da",
   "metadata": {},
   "outputs": [],
   "source": [
    "# As a result of the transformations done in the previous section, we have more numerical variables - Age and Dt_Customer.\n",
    "# Let's add them to the numeric_cols list"
   ]
  },
  {
   "cell_type": "code",
   "execution_count": 88,
   "id": "dd5bfeae-c24d-456c-93d2-1ce483d3f8df",
   "metadata": {},
   "outputs": [],
   "source": [
    "numeric_cols <- c(\"Income\", \"Recency\", \"MntWines\", \"MntFruits\", \n",
    "                  \"MntMeatProducts\", \"MntFishProducts\", \"MntSweetProducts\", \n",
    "                  \"MntGoldProds\", \"NumDealsPurchases\", \"NumWebPurchases\", \n",
    "                  \"NumCatalogPurchases\", \"NumStorePurchases\", \"NumWebVisitsMonth\",\"Age\",\"Dt_Customer\")"
   ]
  },
  {
   "cell_type": "code",
   "execution_count": 89,
   "id": "c74ca157-cfef-4de3-910b-2017cd21c300",
   "metadata": {},
   "outputs": [],
   "source": [
    "# Let's scale the data in order to avoid situation where variables with bigger magnitude will dominate our PCA analysis"
   ]
  },
  {
   "cell_type": "code",
   "execution_count": 90,
   "id": "59f49d0f-a07f-439c-ba5a-a27b97610c1b",
   "metadata": {},
   "outputs": [],
   "source": [
    "scaled_numeric <- scale(commerce[,numeric_cols])"
   ]
  },
  {
   "cell_type": "code",
   "execution_count": 91,
   "id": "92dd1c49-7cee-4861-8448-d180fb3c0b7a",
   "metadata": {
    "collapsed": true,
    "jupyter": {
     "outputs_hidden": true
    }
   },
   "outputs": [
    {
     "data": {
      "text/html": [
       "<table class=\"dataframe\">\n",
       "<caption>A matrix: 2240 × 15 of type dbl</caption>\n",
       "<thead>\n",
       "\t<tr><th scope=col>Income</th><th scope=col>Recency</th><th scope=col>MntWines</th><th scope=col>MntFruits</th><th scope=col>MntMeatProducts</th><th scope=col>MntFishProducts</th><th scope=col>MntSweetProducts</th><th scope=col>MntGoldProds</th><th scope=col>NumDealsPurchases</th><th scope=col>NumWebPurchases</th><th scope=col>NumCatalogPurchases</th><th scope=col>NumStorePurchases</th><th scope=col>NumWebVisitsMonth</th><th scope=col>Age</th><th scope=col>Dt_Customer</th></tr>\n",
       "</thead>\n",
       "<tbody>\n",
       "\t<tr><td> 0.23527424</td><td> 0.30697072</td><td> 0.9835616</td><td> 1.5512306</td><td> 1.67932736</td><td> 2.46159740</td><td> 1.476170487</td><td> 0.84301867</td><td> 0.3493359</td><td> 1.40898933</td><td> 2.5103297</td><td>-0.55066183</td><td> 0.6937488</td><td> 0.98512476</td><td> 1.5308431</td></tr>\n",
       "\t<tr><td>-0.23577359</td><td>-0.38357853</td><td>-0.8702852</td><td>-0.6361591</td><td>-0.71306619</td><td>-0.65030405</td><td>-0.631362202</td><td>-0.72884304</td><td>-0.1681988</td><td>-1.11016149</td><td>-0.5685927</td><td>-1.16586508</td><td>-0.1304343</td><td> 1.23545709</td><td>-1.1902788</td></tr>\n",
       "\t<tr><td> 0.77346056</td><td>-0.79790808</td><td> 0.3626418</td><td> 0.5706766</td><td>-0.17699282</td><td> 1.34497394</td><td>-0.146871929</td><td>-0.03875741</td><td>-0.6857335</td><td> 1.40898933</td><td>-0.2264902</td><td> 1.29494790</td><td>-0.5425259</td><td> 0.31757189</td><td>-0.2057274</td></tr>\n",
       "\t<tr><td>-1.02250414</td><td>-0.79790808</td><td>-0.8702852</td><td>-0.5607319</td><td>-0.65104117</td><td>-0.50386163</td><td>-0.582913175</td><td>-0.74801209</td><td>-0.1681988</td><td>-0.75028280</td><td>-0.9106951</td><td>-0.55066183</td><td> 0.2816572</td><td>-1.26786619</td><td>-1.0616440</td></tr>\n",
       "\t<tr><td> 0.24146488</td><td> 1.54995937</td><td>-0.3889980</td><td> 0.4198221</td><td>-0.21686604</td><td> 0.15512927</td><td>-0.001524847</td><td>-0.55632164</td><td> 1.3844054</td><td> 0.32935326</td><td> 0.1156123</td><td> 0.06454141</td><td>-0.1304343</td><td>-1.01753386</td><td>-0.9527991</td></tr>\n",
       "\t<tr><td> 0.41001006</td><td>-1.14318270</td><td> 0.6419072</td><td> 0.3946797</td><td>-0.30547321</td><td>-0.68691465</td><td> 0.361842858</td><td>-0.57549068</td><td>-0.1681988</td><td> 0.68923195</td><td> 0.4577148</td><td> 1.29494790</td><td> 0.2816572</td><td> 0.15068367</td><td>-0.2997298</td></tr>\n",
       "\t<tr><td> 0.13530538</td><td>-0.52168838</td><td>-0.2048017</td><td> 0.9729552</td><td>-0.01306956</td><td> 0.22835048</td><td> 0.531414454</td><td>-0.32629309</td><td> 0.8668707</td><td> 1.04911064</td><td> 0.1156123</td><td> 0.37214303</td><td> 0.2816572</td><td>-0.18309277</td><td> 1.1845185</td></tr>\n",
       "\t<tr><td>-0.75059524</td><td>-0.59074330</td><td>-0.6771761</td><td>-0.4098774</td><td>-0.49154827</td><td>-0.63199875</td><td>-0.631362202</td><td>-0.40296927</td><td>-0.1681988</td><td>-0.03052542</td><td>-0.9106951</td><td>-0.55066183</td><td> 1.1058404</td><td>-1.35131029</td><td> 0.3137595</td></tr>\n",
       "\t<tr><td>-0.87452787</td><td>-1.03960031</td><td>-0.8613724</td><td>-0.6613015</td><td>-0.63331974</td><td>-0.63199875</td><td>-0.582913175</td><td>-0.80551923</td><td>-0.6857335</td><td>-0.39040411</td><td>-0.9106951</td><td>-1.16586508</td><td> 1.5179320</td><td>-0.43342509</td><td> 0.1702822</td></tr>\n",
       "\t<tr><td>-1.86115620</td><td> 0.65224534</td><td>-0.8197797</td><td>-0.6613015</td><td>-0.71306619</td><td>-0.66860935</td><td>-0.631362202</td><td>-0.59465973</td><td>-0.6857335</td><td>-1.11016149</td><td>-0.9106951</td><td>-1.78106832</td><td> 6.0509395</td><td> 1.56923353</td><td>-1.2150163</td></tr>\n",
       "\t<tr><td> 0.00000000</td><td>-1.31582001</td><td>-0.8881106</td><td>-0.5355895</td><td>-0.71306619</td><td>-0.68691465</td><td>-0.607137688</td><td>-0.82468827</td><td>-0.6857335</td><td>-1.11016149</td><td>-0.9106951</td><td>-1.16586508</td><td> 0.6937488</td><td>-1.18442208</td><td>-0.6312119</td></tr>\n",
       "\t<tr><td>-1.78718803</td><td> 0.34149818</td><td>-0.8851397</td><td>-0.2590229</td><td>-0.69091439</td><td>-0.48555632</td><td>-0.631362202</td><td>-0.53715259</td><td>-0.6857335</td><td>-0.75028280</td><td>-0.9106951</td><td>-0.85826346</td><td> 1.1058404</td><td>-0.60031331</td><td> 1.1845185</td></tr>\n",
       "\t<tr><td> 0.43077866</td><td> 1.13562982</td><td>-0.3266089</td><td> 0.8723855</td><td> 1.38692370</td><td> 3.43177844</td><td> 2.057558815</td><td>-0.26878596</td><td>-0.6857335</td><td>-0.39040411</td><td> 0.4577148</td><td> 0.67974466</td><td>-1.3667091</td><td> 0.81823654</td><td>-0.6312119</td></tr>\n",
       "\t<tr><td> 0.28384081</td><td> 0.13433341</td><td>-0.2107435</td><td>-0.6110167</td><td>-0.50483934</td><td>-0.63199875</td><td>-0.534464147</td><td>-0.57549068</td><td> 0.3493359</td><td> 0.68923195</td><td>-0.5685927</td><td>-0.24306021</td><td> 0.2816572</td><td> 1.40234531</td><td>-0.6312119</td></tr>\n",
       "\t<tr><td>-1.39486118</td><td>-0.38357853</td><td>-0.8940524</td><td>-0.3093078</td><td>-0.66433224</td><td>-0.57708284</td><td>-0.631362202</td><td>-0.74801209</td><td>-0.6857335</td><td>-1.11016149</td><td>-0.9106951</td><td>-0.85826346</td><td> 1.1058404</td><td>-1.51819851</td><td> 1.3527333</td></tr>\n",
       "\t<tr><td> 1.22026504</td><td>-0.90149046</td><td> 2.0857686</td><td>-0.1081685</td><td>-0.23015712</td><td> 0.39309820</td><td> 0.991680214</td><td> 0.01874972</td><td>-0.6857335</td><td> 1.04911064</td><td> 1.1419198</td><td> 1.91015115</td><td>-0.9546175</td><td> 1.90300996</td><td> 1.1300961</td></tr>\n",
       "\t<tr><td>-0.41526222</td><td> 0.06527848</td><td>-0.7455070</td><td>-0.5355895</td><td>-0.65547153</td><td>-0.65030405</td><td>-0.340668038</td><td>-0.76718114</td><td> 0.3493359</td><td>-0.39040411</td><td>-0.9106951</td><td>-0.85826346</td><td> 1.1058404</td><td>-0.93408975</td><td> 0.9816712</td></tr>\n",
       "\t<tr><td>-0.57861525</td><td>-1.00507285</td><td>-0.6534088</td><td>-0.5355895</td><td>-0.57129472</td><td> 2.05888074</td><td>-0.364892552</td><td>-0.30712405</td><td>-0.1681988</td><td>-0.03052542</td><td>-0.5685927</td><td> 0.06454141</td><td> 0.6937488</td><td> 1.90300996</td><td> 1.5506331</td></tr>\n",
       "\t<tr><td> 0.98841557</td><td> 1.44637698</td><td> 2.1035941</td><td> 1.3500913</td><td> 1.46667015</td><td>-0.68691465</td><td>-0.267994497</td><td> 2.52989466</td><td>-0.1681988</td><td> 2.48862539</td><td> 0.4577148</td><td> 0.98734628</td><td>-0.1304343</td><td> 1.65267764</td><td> 0.5166068</td></tr>\n",
       "\t<tr><td>-0.73629686</td><td> 1.27373967</td><td>-0.8910815</td><td>-0.2338805</td><td>-0.65547153</td><td>-0.13775557</td><td>-0.074198388</td><td>-0.09626455</td><td>-0.1681988</td><td>-0.75028280</td><td>-0.5685927</td><td>-0.85826346</td><td> 0.2816572</td><td>-1.35131029</td><td> 1.2339935</td></tr>\n",
       "\t<tr><td>-0.60737178</td><td>-0.27999614</td><td>-0.6474670</td><td>-0.6110167</td><td>-0.41623217</td><td> 0.57615123</td><td> 0.264944804</td><td> 0.07625686</td><td>-0.6857335</td><td>-0.03052542</td><td>-0.2264902</td><td>-0.24306021</td><td> 1.1058404</td><td>-1.10097797</td><td> 1.6644255</td></tr>\n",
       "\t<tr><td>-1.98900291</td><td>-0.24546868</td><td>-0.8999942</td><td>-0.6361591</td><td> 6.90271993</td><td>-0.66860935</td><td>-0.631362202</td><td>-0.82468827</td><td> 6.5597526</td><td>-1.47004017</td><td> 8.6681745</td><td>-1.78106832</td><td>-1.7788007</td><td>-0.85064564</td><td> 0.9173538</td></tr>\n",
       "\t<tr><td> 0.25400592</td><td> 0.47960803</td><td> 1.6728124</td><td>-0.6613015</td><td>-0.35863751</td><td>-0.68691465</td><td>-0.655586716</td><td>-0.47964546</td><td> 0.3493359</td><td>-0.75028280</td><td> 0.1156123</td><td> 0.98734628</td><td> 1.1058404</td><td> 1.65267764</td><td> 0.9866187</td></tr>\n",
       "\t<tr><td> 0.52228032</td><td>-1.69562210</td><td> 0.2378637</td><td>-0.6613015</td><td>-0.28775178</td><td>-0.30250330</td><td> 0.119597722</td><td>-0.74801209</td><td> 0.3493359</td><td> 0.68923195</td><td>-0.2264902</td><td> 0.98734628</td><td>-0.5425259</td><td> 1.23545709</td><td>-0.9132191</td></tr>\n",
       "\t<tr><td>-0.46163212</td><td> 0.68677281</td><td>-0.1008199</td><td>-0.5858743</td><td>-0.62002866</td><td> 0.02699215</td><td>-0.510239634</td><td> 1.05387817</td><td> 2.4194748</td><td> 1.04911064</td><td>-0.5685927</td><td>-0.24306021</td><td> 1.1058404</td><td> 1.48578942</td><td> 0.5660817</td></tr>\n",
       "\t<tr><td>-1.34429763</td><td> 1.37732205</td><td>-0.8851397</td><td>-0.5607319</td><td>-0.62888938</td><td>-0.41233511</td><td>-0.364892552</td><td>-0.59465973</td><td>-0.1681988</td><td>-0.75028280</td><td>-0.5685927</td><td>-0.85826346</td><td> 0.6937488</td><td>-0.01620455</td><td> 0.9371438</td></tr>\n",
       "\t<tr><td> 0.04440281</td><td>-1.55751225</td><td>-0.3889980</td><td>-0.5607319</td><td>-0.60673758</td><td>-0.63199875</td><td>-0.510239634</td><td>-0.05792646</td><td> 0.8668707</td><td> 0.32935326</td><td>-0.5685927</td><td>-0.55066183</td><td> 0.6937488</td><td>-0.60031331</td><td> 0.2197571</td></tr>\n",
       "\t<tr><td> 0.00000000</td><td>-1.03960031</td><td>-0.8881106</td><td>-0.6361591</td><td>-0.72635726</td><td>-0.63199875</td><td> 5.715460380</td><td> 6.09533708</td><td>-1.2032682</td><td> 8.24668439</td><td>-0.9106951</td><td>-1.78106832</td><td>-1.7788007</td><td>-1.43475440</td><td> 0.6947166</td></tr>\n",
       "\t<tr><td>-0.55465148</td><td>-0.79790808</td><td>-0.7960124</td><td>-0.6110167</td><td>-0.55357328</td><td>-0.32080860</td><td>-0.146871929</td><td>-0.65216686</td><td>-0.1681988</td><td>-0.75028280</td><td>-0.5685927</td><td>-0.55066183</td><td>-0.9546175</td><td>-1.68508673</td><td> 0.1999671</td></tr>\n",
       "\t<tr><td> 1.29287526</td><td> 1.61901429</td><td> 1.1291362</td><td> 1.8529395</td><td> 2.80906875</td><td>-0.30250330</td><td> 0.943231187</td><td>-0.84385732</td><td>-0.6857335</td><td> 0.68923195</td><td> 2.1682272</td><td> 1.29494790</td><td>-1.3667091</td><td> 0.31757189</td><td>-0.6658444</td></tr>\n",
       "\t<tr><td>⋮</td><td>⋮</td><td>⋮</td><td>⋮</td><td>⋮</td><td>⋮</td><td>⋮</td><td>⋮</td><td>⋮</td><td>⋮</td><td>⋮</td><td>⋮</td><td>⋮</td><td>⋮</td><td>⋮</td></tr>\n",
       "\t<tr><td>-0.4184973</td><td>-0.62527076</td><td>-0.00575083</td><td> 0.067828387</td><td>-0.15927139</td><td>-0.101144969</td><td>-0.655586716</td><td>-0.3262931</td><td> 1.9019401</td><td> 1.40898933</td><td>-0.5685927</td><td> 0.37214303</td><td> 1.1058404</td><td> 1.15201298</td><td> 0.72934902</td></tr>\n",
       "\t<tr><td> 1.4409314</td><td>-0.24546868</td><td> 0.63893628</td><td> 1.123809629</td><td> 3.07045990</td><td> 1.015478491</td><td>-0.001524847</td><td> 0.1721021</td><td>-0.6857335</td><td> 0.68923195</td><td>-0.2264902</td><td> 0.98734628</td><td>-1.3667091</td><td>-1.01753386</td><td>-1.03690648</td></tr>\n",
       "\t<tr><td>-0.5668730</td><td>-0.86696300</td><td>-0.83463426</td><td>-0.611016697</td><td>-0.66433224</td><td>-0.650304048</td><td>-0.631362202</td><td>-0.8438573</td><td>-0.1681988</td><td>-0.75028280</td><td>-0.9106951</td><td>-0.85826346</td><td> 0.6937488</td><td> 1.56923353</td><td>-1.45744351</td></tr>\n",
       "\t<tr><td> 1.1330769</td><td>-0.24546868</td><td> 0.86175440</td><td> 0.620961419</td><td> 2.05590782</td><td> 0.631067136</td><td> 0.676761536</td><td>-0.2304479</td><td>-0.6857335</td><td>-0.03052542</td><td> 1.1419198</td><td> 0.67974466</td><td>-1.3667091</td><td>-2.18575139</td><td> 1.34283833</td></tr>\n",
       "\t<tr><td>-1.8748555</td><td>-1.28129255</td><td>-0.86731425</td><td>-0.560731876</td><td>-0.70863583</td><td>-0.668609350</td><td>-0.582913175</td><td>-0.7480121</td><td>-1.2032682</td><td>-1.11016149</td><td>-0.9106951</td><td>-1.78106832</td><td> 3.1662984</td><td>-0.60031331</td><td>-0.09688254</td></tr>\n",
       "\t<tr><td>-0.6166777</td><td> 1.34279459</td><td>-0.89108151</td><td>-0.611016697</td><td>-0.71749655</td><td>-0.686914653</td><td>-0.655586716</td><td>-0.7480121</td><td>-0.6857335</td><td>-1.11016149</td><td>-0.9106951</td><td>-1.16586508</td><td> 0.2816572</td><td> 1.23545709</td><td> 1.00146122</td></tr>\n",
       "\t<tr><td>-0.9513717</td><td> 0.61771788</td><td>-0.84948880</td><td>-0.585874287</td><td>-0.65547153</td><td>-0.631998745</td><td>-0.582913175</td><td>-0.7288430</td><td>-0.1681988</td><td>-0.75028280</td><td>-0.9106951</td><td>-0.85826346</td><td> 1.1058404</td><td>-1.18442208</td><td> 0.55123923</td></tr>\n",
       "\t<tr><td> 1.1895914</td><td> 0.16886087</td><td> 0.08337642</td><td> 4.216326125</td><td> 0.93059679</td><td> 2.040575438</td><td> 2.372477493</td><td> 0.2487783</td><td>-1.2032682</td><td>-0.03052542</td><td> 1.1419198</td><td> 0.37214303</td><td>-1.7788007</td><td> 1.73612174</td><td>-1.32880865</td></tr>\n",
       "\t<tr><td>-1.1771104</td><td>-0.31452360</td><td>-0.88811061</td><td>-0.636159108</td><td>-0.70420547</td><td>-0.686914653</td><td>-0.655586716</td><td>-0.8246883</td><td>-0.6857335</td><td>-1.11016149</td><td>-0.9106951</td><td>-1.16586508</td><td> 1.1058404</td><td>-0.76720153</td><td> 0.10596473</td></tr>\n",
       "\t<tr><td>-0.4851166</td><td> 0.82488266</td><td>-0.39493982</td><td>-0.585874287</td><td>-0.16813210</td><td>-0.210976785</td><td>-0.074198388</td><td> 0.3446235</td><td> 0.8668707</td><td> 0.68923195</td><td>-0.5685927</td><td> 0.06454141</td><td> 0.6937488</td><td>-1.35131029</td><td> 1.33294334</td></tr>\n",
       "\t<tr><td> 0.2307611</td><td> 1.10110236</td><td>-0.10081990</td><td> 0.118113208</td><td>-0.34977680</td><td>-0.485556324</td><td> 0.507189940</td><td>-0.4221383</td><td> 0.3493359</td><td>-0.39040411</td><td>-0.2264902</td><td> 1.29494790</td><td>-0.5425259</td><td>-0.85064564</td><td>-0.68563438</td></tr>\n",
       "\t<tr><td> 0.9397691</td><td>-1.28129255</td><td> 1.21232159</td><td>-0.007598845</td><td> 1.64388449</td><td> 0.576151228</td><td>-0.340668038</td><td> 0.6896663</td><td>-0.6857335</td><td>-0.39040411</td><td> 1.1419198</td><td> 1.60254952</td><td>-1.7788007</td><td>-1.10097797</td><td> 0.03175231</td></tr>\n",
       "\t<tr><td>-1.7871880</td><td>-1.45392986</td><td>-0.89702333</td><td>-0.460162234</td><td>-0.69091439</td><td>-0.631998745</td><td>-0.461790606</td><td>-0.4413074</td><td> 0.8668707</td><td>-0.39040411</td><td>-0.2264902</td><td>-1.16586508</td><td> 0.6937488</td><td>-0.85064564</td><td> 0.31870699</td></tr>\n",
       "\t<tr><td>-0.7462818</td><td>-0.55621584</td><td>-0.84057607</td><td>-0.359592592</td><td>-0.68648404</td><td>-0.686914653</td><td>-0.582913175</td><td>-0.7863502</td><td> 0.3493359</td><td>-0.75028280</td><td>-0.9106951</td><td>-0.55066183</td><td>-0.5425259</td><td> 0.48446011</td><td>-1.72955570</td></tr>\n",
       "\t<tr><td> 0.2154642</td><td>-0.86696300</td><td> 0.82016169</td><td>-0.510447055</td><td>-0.48268755</td><td>-0.540472232</td><td>-0.655586716</td><td>-0.3262931</td><td> 0.3493359</td><td> 1.04911064</td><td> 1.1419198</td><td> 0.06454141</td><td>-0.5425259</td><td>-0.09964866</td><td>-0.90332413</td></tr>\n",
       "\t<tr><td> 0.2518891</td><td> 0.20338833</td><td> 0.19032912</td><td>-0.057883666</td><td>-0.43838397</td><td> 0.008686847</td><td>-0.655586716</td><td> 0.8430187</td><td> 1.9019401</td><td> 1.40898933</td><td>-0.2264902</td><td> 0.06454141</td><td> 0.6937488</td><td> 0.06723956</td><td> 1.42199824</td></tr>\n",
       "\t<tr><td> 0.4604937</td><td> 1.30826713</td><td> 0.45473996</td><td>-0.535589466</td><td>-0.27003035</td><td>-0.412335114</td><td>-0.243769983</td><td> 0.1721021</td><td> 2.9370096</td><td> 2.48862539</td><td>-0.5685927</td><td> 0.06454141</td><td> 1.1058404</td><td>-0.85064564</td><td> 0.53639674</td></tr>\n",
       "\t<tr><td> 0.2284446</td><td>-0.34905107</td><td>-0.22262714</td><td>-0.485304645</td><td>-0.13268923</td><td>-0.613693442</td><td>-0.655586716</td><td> 0.9005258</td><td> 1.3844054</td><td>-0.03052542</td><td>-0.2264902</td><td> 0.67974466</td><td>-0.1304343</td><td> 0.56790422</td><td> 0.64029412</td></tr>\n",
       "\t<tr><td> 0.0000000</td><td> 0.13433341</td><td>-0.80789608</td><td>-0.611016697</td><td> 6.37993764</td><td>-0.467251021</td><td>-0.558688661</td><td>-0.4221383</td><td>-1.2032682</td><td>-1.47004017</td><td>-0.9106951</td><td>-1.47346670</td><td>-2.1908923</td><td>-0.76720153</td><td> 1.64463549</td></tr>\n",
       "\t<tr><td>-1.1108506</td><td>-1.38487494</td><td>-0.89405242</td><td>-0.611016697</td><td>-0.70420547</td><td>-0.320808600</td><td>-0.655586716</td><td>-0.5179835</td><td>-0.1681988</td><td>-0.75028280</td><td>-0.5685927</td><td>-1.16586508</td><td> 0.6937488</td><td>-0.26653688</td><td>-1.54155091</td></tr>\n",
       "\t<tr><td>-1.6469201</td><td> 1.13562982</td><td>-0.83166335</td><td>-0.585874287</td><td>-0.62445902</td><td>-0.558777535</td><td>-0.631362202</td><td>-0.4029693</td><td> 0.3493359</td><td>-0.39040411</td><td>-0.5685927</td><td>-1.16586508</td><td> 1.5179320</td><td>-1.26786619</td><td> 0.57597670</td></tr>\n",
       "\t<tr><td>-0.2973605</td><td> 0.75582773</td><td> 1.63121966</td><td>-0.409877413</td><td>-0.10610708</td><td>-0.448945719</td><td>-0.413341579</td><td>-0.4604764</td><td>-0.1681988</td><td> 1.76886801</td><td> 0.4577148</td><td> 1.91015115</td><td> 1.1058404</td><td>-0.09964866</td><td> 1.60010804</td></tr>\n",
       "\t<tr><td>-1.0157144</td><td> 0.03075102</td><td>-0.88811061</td><td>-0.636159108</td><td>-0.71306619</td><td>-0.631998745</td><td>-0.558688661</td><td>-0.7863502</td><td>-0.6857335</td><td>-1.47004017</td><td>-0.9106951</td><td>-0.85826346</td><td>-0.5425259</td><td>-1.43475440</td><td> 1.61989802</td></tr>\n",
       "\t<tr><td>24.5396488</td><td>-0.90149046</td><td>-0.87622697</td><td>-0.309307771</td><td>-0.65990189</td><td>-0.540472232</td><td>-0.631362202</td><td>-0.6138288</td><td> 0.8668707</td><td>-0.39040411</td><td>-0.5685927</td><td>-0.85826346</td><td> 0.2816572</td><td>-0.68375742</td><td> 0.19007213</td></tr>\n",
       "\t<tr><td>-0.7119736</td><td> 1.10110236</td><td>-0.89405242</td><td>-0.585874287</td><td>-0.70863583</td><td>-0.577082837</td><td>-0.607137688</td><td>-0.6713359</td><td>-0.6857335</td><td>-1.11016149</td><td>-0.9106951</td><td>-1.16586508</td><td> 0.6937488</td><td>-0.43342509</td><td> 0.04659480</td></tr>\n",
       "\t<tr><td> 0.3584880</td><td>-0.10735883</td><td> 1.20340886</td><td> 0.419822134</td><td> 0.06667689</td><td> 0.081908057</td><td> 2.202905898</td><td> 3.8908969</td><td>-0.1681988</td><td> 1.76886801</td><td> 0.1156123</td><td>-0.55066183</td><td>-0.1304343</td><td> 0.15068367</td><td> 0.13564969</td></tr>\n",
       "\t<tr><td> 0.4699594</td><td> 0.23791580</td><td> 0.30322364</td><td>-0.661301518</td><td>-0.60673758</td><td>-0.686914653</td><td>-0.655586716</td><td>-0.6905050</td><td> 2.4194748</td><td> 1.40898933</td><td>-0.2264902</td><td>-0.24306021</td><td> 0.6937488</td><td> 1.90300996</td><td>-1.65534328</td></tr>\n",
       "\t<tr><td> 0.1890641</td><td> 1.44637698</td><td> 1.79461962</td><td> 0.545534187</td><td> 0.22173944</td><td>-0.101144969</td><td>-0.364892552</td><td>-0.3838002</td><td>-0.6857335</td><td>-0.75028280</td><td> 0.1156123</td><td> 2.21775277</td><td> 0.2816572</td><td>-1.01753386</td><td>-0.98248404</td></tr>\n",
       "\t<tr><td> 0.6788836</td><td>-1.41940240</td><td> 0.36858362</td><td> 0.092970798</td><td> 0.20844836</td><td> 0.777509557</td><td> 0.071148694</td><td> 0.3254544</td><td>-0.1681988</td><td> 0.68923195</td><td> 0.7998173</td><td> 1.29494790</td><td>-0.9546175</td><td> 1.06856887</td><td>-0.97753655</td></tr>\n",
       "\t<tr><td> 0.0248324</td><td>-0.31452360</td><td>-0.65340885</td><td>-0.585874287</td><td>-0.46939647</td><td>-0.650304048</td><td>-0.631362202</td><td>-0.4413074</td><td> 0.3493359</td><td>-0.39040411</td><td>-0.5685927</td><td>-0.55066183</td><td> 0.6937488</td><td> 1.23545709</td><td> 1.32799585</td></tr>\n",
       "</tbody>\n",
       "</table>\n"
      ],
      "text/latex": [
       "A matrix: 2240 × 15 of type dbl\n",
       "\\begin{tabular}{lllllllllllllll}\n",
       " Income & Recency & MntWines & MntFruits & MntMeatProducts & MntFishProducts & MntSweetProducts & MntGoldProds & NumDealsPurchases & NumWebPurchases & NumCatalogPurchases & NumStorePurchases & NumWebVisitsMonth & Age & Dt\\_Customer\\\\\n",
       "\\hline\n",
       "\t  0.23527424 &  0.30697072 &  0.9835616 &  1.5512306 &  1.67932736 &  2.46159740 &  1.476170487 &  0.84301867 &  0.3493359 &  1.40898933 &  2.5103297 & -0.55066183 &  0.6937488 &  0.98512476 &  1.5308431\\\\\n",
       "\t -0.23577359 & -0.38357853 & -0.8702852 & -0.6361591 & -0.71306619 & -0.65030405 & -0.631362202 & -0.72884304 & -0.1681988 & -1.11016149 & -0.5685927 & -1.16586508 & -0.1304343 &  1.23545709 & -1.1902788\\\\\n",
       "\t  0.77346056 & -0.79790808 &  0.3626418 &  0.5706766 & -0.17699282 &  1.34497394 & -0.146871929 & -0.03875741 & -0.6857335 &  1.40898933 & -0.2264902 &  1.29494790 & -0.5425259 &  0.31757189 & -0.2057274\\\\\n",
       "\t -1.02250414 & -0.79790808 & -0.8702852 & -0.5607319 & -0.65104117 & -0.50386163 & -0.582913175 & -0.74801209 & -0.1681988 & -0.75028280 & -0.9106951 & -0.55066183 &  0.2816572 & -1.26786619 & -1.0616440\\\\\n",
       "\t  0.24146488 &  1.54995937 & -0.3889980 &  0.4198221 & -0.21686604 &  0.15512927 & -0.001524847 & -0.55632164 &  1.3844054 &  0.32935326 &  0.1156123 &  0.06454141 & -0.1304343 & -1.01753386 & -0.9527991\\\\\n",
       "\t  0.41001006 & -1.14318270 &  0.6419072 &  0.3946797 & -0.30547321 & -0.68691465 &  0.361842858 & -0.57549068 & -0.1681988 &  0.68923195 &  0.4577148 &  1.29494790 &  0.2816572 &  0.15068367 & -0.2997298\\\\\n",
       "\t  0.13530538 & -0.52168838 & -0.2048017 &  0.9729552 & -0.01306956 &  0.22835048 &  0.531414454 & -0.32629309 &  0.8668707 &  1.04911064 &  0.1156123 &  0.37214303 &  0.2816572 & -0.18309277 &  1.1845185\\\\\n",
       "\t -0.75059524 & -0.59074330 & -0.6771761 & -0.4098774 & -0.49154827 & -0.63199875 & -0.631362202 & -0.40296927 & -0.1681988 & -0.03052542 & -0.9106951 & -0.55066183 &  1.1058404 & -1.35131029 &  0.3137595\\\\\n",
       "\t -0.87452787 & -1.03960031 & -0.8613724 & -0.6613015 & -0.63331974 & -0.63199875 & -0.582913175 & -0.80551923 & -0.6857335 & -0.39040411 & -0.9106951 & -1.16586508 &  1.5179320 & -0.43342509 &  0.1702822\\\\\n",
       "\t -1.86115620 &  0.65224534 & -0.8197797 & -0.6613015 & -0.71306619 & -0.66860935 & -0.631362202 & -0.59465973 & -0.6857335 & -1.11016149 & -0.9106951 & -1.78106832 &  6.0509395 &  1.56923353 & -1.2150163\\\\\n",
       "\t  0.00000000 & -1.31582001 & -0.8881106 & -0.5355895 & -0.71306619 & -0.68691465 & -0.607137688 & -0.82468827 & -0.6857335 & -1.11016149 & -0.9106951 & -1.16586508 &  0.6937488 & -1.18442208 & -0.6312119\\\\\n",
       "\t -1.78718803 &  0.34149818 & -0.8851397 & -0.2590229 & -0.69091439 & -0.48555632 & -0.631362202 & -0.53715259 & -0.6857335 & -0.75028280 & -0.9106951 & -0.85826346 &  1.1058404 & -0.60031331 &  1.1845185\\\\\n",
       "\t  0.43077866 &  1.13562982 & -0.3266089 &  0.8723855 &  1.38692370 &  3.43177844 &  2.057558815 & -0.26878596 & -0.6857335 & -0.39040411 &  0.4577148 &  0.67974466 & -1.3667091 &  0.81823654 & -0.6312119\\\\\n",
       "\t  0.28384081 &  0.13433341 & -0.2107435 & -0.6110167 & -0.50483934 & -0.63199875 & -0.534464147 & -0.57549068 &  0.3493359 &  0.68923195 & -0.5685927 & -0.24306021 &  0.2816572 &  1.40234531 & -0.6312119\\\\\n",
       "\t -1.39486118 & -0.38357853 & -0.8940524 & -0.3093078 & -0.66433224 & -0.57708284 & -0.631362202 & -0.74801209 & -0.6857335 & -1.11016149 & -0.9106951 & -0.85826346 &  1.1058404 & -1.51819851 &  1.3527333\\\\\n",
       "\t  1.22026504 & -0.90149046 &  2.0857686 & -0.1081685 & -0.23015712 &  0.39309820 &  0.991680214 &  0.01874972 & -0.6857335 &  1.04911064 &  1.1419198 &  1.91015115 & -0.9546175 &  1.90300996 &  1.1300961\\\\\n",
       "\t -0.41526222 &  0.06527848 & -0.7455070 & -0.5355895 & -0.65547153 & -0.65030405 & -0.340668038 & -0.76718114 &  0.3493359 & -0.39040411 & -0.9106951 & -0.85826346 &  1.1058404 & -0.93408975 &  0.9816712\\\\\n",
       "\t -0.57861525 & -1.00507285 & -0.6534088 & -0.5355895 & -0.57129472 &  2.05888074 & -0.364892552 & -0.30712405 & -0.1681988 & -0.03052542 & -0.5685927 &  0.06454141 &  0.6937488 &  1.90300996 &  1.5506331\\\\\n",
       "\t  0.98841557 &  1.44637698 &  2.1035941 &  1.3500913 &  1.46667015 & -0.68691465 & -0.267994497 &  2.52989466 & -0.1681988 &  2.48862539 &  0.4577148 &  0.98734628 & -0.1304343 &  1.65267764 &  0.5166068\\\\\n",
       "\t -0.73629686 &  1.27373967 & -0.8910815 & -0.2338805 & -0.65547153 & -0.13775557 & -0.074198388 & -0.09626455 & -0.1681988 & -0.75028280 & -0.5685927 & -0.85826346 &  0.2816572 & -1.35131029 &  1.2339935\\\\\n",
       "\t -0.60737178 & -0.27999614 & -0.6474670 & -0.6110167 & -0.41623217 &  0.57615123 &  0.264944804 &  0.07625686 & -0.6857335 & -0.03052542 & -0.2264902 & -0.24306021 &  1.1058404 & -1.10097797 &  1.6644255\\\\\n",
       "\t -1.98900291 & -0.24546868 & -0.8999942 & -0.6361591 &  6.90271993 & -0.66860935 & -0.631362202 & -0.82468827 &  6.5597526 & -1.47004017 &  8.6681745 & -1.78106832 & -1.7788007 & -0.85064564 &  0.9173538\\\\\n",
       "\t  0.25400592 &  0.47960803 &  1.6728124 & -0.6613015 & -0.35863751 & -0.68691465 & -0.655586716 & -0.47964546 &  0.3493359 & -0.75028280 &  0.1156123 &  0.98734628 &  1.1058404 &  1.65267764 &  0.9866187\\\\\n",
       "\t  0.52228032 & -1.69562210 &  0.2378637 & -0.6613015 & -0.28775178 & -0.30250330 &  0.119597722 & -0.74801209 &  0.3493359 &  0.68923195 & -0.2264902 &  0.98734628 & -0.5425259 &  1.23545709 & -0.9132191\\\\\n",
       "\t -0.46163212 &  0.68677281 & -0.1008199 & -0.5858743 & -0.62002866 &  0.02699215 & -0.510239634 &  1.05387817 &  2.4194748 &  1.04911064 & -0.5685927 & -0.24306021 &  1.1058404 &  1.48578942 &  0.5660817\\\\\n",
       "\t -1.34429763 &  1.37732205 & -0.8851397 & -0.5607319 & -0.62888938 & -0.41233511 & -0.364892552 & -0.59465973 & -0.1681988 & -0.75028280 & -0.5685927 & -0.85826346 &  0.6937488 & -0.01620455 &  0.9371438\\\\\n",
       "\t  0.04440281 & -1.55751225 & -0.3889980 & -0.5607319 & -0.60673758 & -0.63199875 & -0.510239634 & -0.05792646 &  0.8668707 &  0.32935326 & -0.5685927 & -0.55066183 &  0.6937488 & -0.60031331 &  0.2197571\\\\\n",
       "\t  0.00000000 & -1.03960031 & -0.8881106 & -0.6361591 & -0.72635726 & -0.63199875 &  5.715460380 &  6.09533708 & -1.2032682 &  8.24668439 & -0.9106951 & -1.78106832 & -1.7788007 & -1.43475440 &  0.6947166\\\\\n",
       "\t -0.55465148 & -0.79790808 & -0.7960124 & -0.6110167 & -0.55357328 & -0.32080860 & -0.146871929 & -0.65216686 & -0.1681988 & -0.75028280 & -0.5685927 & -0.55066183 & -0.9546175 & -1.68508673 &  0.1999671\\\\\n",
       "\t  1.29287526 &  1.61901429 &  1.1291362 &  1.8529395 &  2.80906875 & -0.30250330 &  0.943231187 & -0.84385732 & -0.6857335 &  0.68923195 &  2.1682272 &  1.29494790 & -1.3667091 &  0.31757189 & -0.6658444\\\\\n",
       "\t ⋮ & ⋮ & ⋮ & ⋮ & ⋮ & ⋮ & ⋮ & ⋮ & ⋮ & ⋮ & ⋮ & ⋮ & ⋮ & ⋮ & ⋮\\\\\n",
       "\t -0.4184973 & -0.62527076 & -0.00575083 &  0.067828387 & -0.15927139 & -0.101144969 & -0.655586716 & -0.3262931 &  1.9019401 &  1.40898933 & -0.5685927 &  0.37214303 &  1.1058404 &  1.15201298 &  0.72934902\\\\\n",
       "\t  1.4409314 & -0.24546868 &  0.63893628 &  1.123809629 &  3.07045990 &  1.015478491 & -0.001524847 &  0.1721021 & -0.6857335 &  0.68923195 & -0.2264902 &  0.98734628 & -1.3667091 & -1.01753386 & -1.03690648\\\\\n",
       "\t -0.5668730 & -0.86696300 & -0.83463426 & -0.611016697 & -0.66433224 & -0.650304048 & -0.631362202 & -0.8438573 & -0.1681988 & -0.75028280 & -0.9106951 & -0.85826346 &  0.6937488 &  1.56923353 & -1.45744351\\\\\n",
       "\t  1.1330769 & -0.24546868 &  0.86175440 &  0.620961419 &  2.05590782 &  0.631067136 &  0.676761536 & -0.2304479 & -0.6857335 & -0.03052542 &  1.1419198 &  0.67974466 & -1.3667091 & -2.18575139 &  1.34283833\\\\\n",
       "\t -1.8748555 & -1.28129255 & -0.86731425 & -0.560731876 & -0.70863583 & -0.668609350 & -0.582913175 & -0.7480121 & -1.2032682 & -1.11016149 & -0.9106951 & -1.78106832 &  3.1662984 & -0.60031331 & -0.09688254\\\\\n",
       "\t -0.6166777 &  1.34279459 & -0.89108151 & -0.611016697 & -0.71749655 & -0.686914653 & -0.655586716 & -0.7480121 & -0.6857335 & -1.11016149 & -0.9106951 & -1.16586508 &  0.2816572 &  1.23545709 &  1.00146122\\\\\n",
       "\t -0.9513717 &  0.61771788 & -0.84948880 & -0.585874287 & -0.65547153 & -0.631998745 & -0.582913175 & -0.7288430 & -0.1681988 & -0.75028280 & -0.9106951 & -0.85826346 &  1.1058404 & -1.18442208 &  0.55123923\\\\\n",
       "\t  1.1895914 &  0.16886087 &  0.08337642 &  4.216326125 &  0.93059679 &  2.040575438 &  2.372477493 &  0.2487783 & -1.2032682 & -0.03052542 &  1.1419198 &  0.37214303 & -1.7788007 &  1.73612174 & -1.32880865\\\\\n",
       "\t -1.1771104 & -0.31452360 & -0.88811061 & -0.636159108 & -0.70420547 & -0.686914653 & -0.655586716 & -0.8246883 & -0.6857335 & -1.11016149 & -0.9106951 & -1.16586508 &  1.1058404 & -0.76720153 &  0.10596473\\\\\n",
       "\t -0.4851166 &  0.82488266 & -0.39493982 & -0.585874287 & -0.16813210 & -0.210976785 & -0.074198388 &  0.3446235 &  0.8668707 &  0.68923195 & -0.5685927 &  0.06454141 &  0.6937488 & -1.35131029 &  1.33294334\\\\\n",
       "\t  0.2307611 &  1.10110236 & -0.10081990 &  0.118113208 & -0.34977680 & -0.485556324 &  0.507189940 & -0.4221383 &  0.3493359 & -0.39040411 & -0.2264902 &  1.29494790 & -0.5425259 & -0.85064564 & -0.68563438\\\\\n",
       "\t  0.9397691 & -1.28129255 &  1.21232159 & -0.007598845 &  1.64388449 &  0.576151228 & -0.340668038 &  0.6896663 & -0.6857335 & -0.39040411 &  1.1419198 &  1.60254952 & -1.7788007 & -1.10097797 &  0.03175231\\\\\n",
       "\t -1.7871880 & -1.45392986 & -0.89702333 & -0.460162234 & -0.69091439 & -0.631998745 & -0.461790606 & -0.4413074 &  0.8668707 & -0.39040411 & -0.2264902 & -1.16586508 &  0.6937488 & -0.85064564 &  0.31870699\\\\\n",
       "\t -0.7462818 & -0.55621584 & -0.84057607 & -0.359592592 & -0.68648404 & -0.686914653 & -0.582913175 & -0.7863502 &  0.3493359 & -0.75028280 & -0.9106951 & -0.55066183 & -0.5425259 &  0.48446011 & -1.72955570\\\\\n",
       "\t  0.2154642 & -0.86696300 &  0.82016169 & -0.510447055 & -0.48268755 & -0.540472232 & -0.655586716 & -0.3262931 &  0.3493359 &  1.04911064 &  1.1419198 &  0.06454141 & -0.5425259 & -0.09964866 & -0.90332413\\\\\n",
       "\t  0.2518891 &  0.20338833 &  0.19032912 & -0.057883666 & -0.43838397 &  0.008686847 & -0.655586716 &  0.8430187 &  1.9019401 &  1.40898933 & -0.2264902 &  0.06454141 &  0.6937488 &  0.06723956 &  1.42199824\\\\\n",
       "\t  0.4604937 &  1.30826713 &  0.45473996 & -0.535589466 & -0.27003035 & -0.412335114 & -0.243769983 &  0.1721021 &  2.9370096 &  2.48862539 & -0.5685927 &  0.06454141 &  1.1058404 & -0.85064564 &  0.53639674\\\\\n",
       "\t  0.2284446 & -0.34905107 & -0.22262714 & -0.485304645 & -0.13268923 & -0.613693442 & -0.655586716 &  0.9005258 &  1.3844054 & -0.03052542 & -0.2264902 &  0.67974466 & -0.1304343 &  0.56790422 &  0.64029412\\\\\n",
       "\t  0.0000000 &  0.13433341 & -0.80789608 & -0.611016697 &  6.37993764 & -0.467251021 & -0.558688661 & -0.4221383 & -1.2032682 & -1.47004017 & -0.9106951 & -1.47346670 & -2.1908923 & -0.76720153 &  1.64463549\\\\\n",
       "\t -1.1108506 & -1.38487494 & -0.89405242 & -0.611016697 & -0.70420547 & -0.320808600 & -0.655586716 & -0.5179835 & -0.1681988 & -0.75028280 & -0.5685927 & -1.16586508 &  0.6937488 & -0.26653688 & -1.54155091\\\\\n",
       "\t -1.6469201 &  1.13562982 & -0.83166335 & -0.585874287 & -0.62445902 & -0.558777535 & -0.631362202 & -0.4029693 &  0.3493359 & -0.39040411 & -0.5685927 & -1.16586508 &  1.5179320 & -1.26786619 &  0.57597670\\\\\n",
       "\t -0.2973605 &  0.75582773 &  1.63121966 & -0.409877413 & -0.10610708 & -0.448945719 & -0.413341579 & -0.4604764 & -0.1681988 &  1.76886801 &  0.4577148 &  1.91015115 &  1.1058404 & -0.09964866 &  1.60010804\\\\\n",
       "\t -1.0157144 &  0.03075102 & -0.88811061 & -0.636159108 & -0.71306619 & -0.631998745 & -0.558688661 & -0.7863502 & -0.6857335 & -1.47004017 & -0.9106951 & -0.85826346 & -0.5425259 & -1.43475440 &  1.61989802\\\\\n",
       "\t 24.5396488 & -0.90149046 & -0.87622697 & -0.309307771 & -0.65990189 & -0.540472232 & -0.631362202 & -0.6138288 &  0.8668707 & -0.39040411 & -0.5685927 & -0.85826346 &  0.2816572 & -0.68375742 &  0.19007213\\\\\n",
       "\t -0.7119736 &  1.10110236 & -0.89405242 & -0.585874287 & -0.70863583 & -0.577082837 & -0.607137688 & -0.6713359 & -0.6857335 & -1.11016149 & -0.9106951 & -1.16586508 &  0.6937488 & -0.43342509 &  0.04659480\\\\\n",
       "\t  0.3584880 & -0.10735883 &  1.20340886 &  0.419822134 &  0.06667689 &  0.081908057 &  2.202905898 &  3.8908969 & -0.1681988 &  1.76886801 &  0.1156123 & -0.55066183 & -0.1304343 &  0.15068367 &  0.13564969\\\\\n",
       "\t  0.4699594 &  0.23791580 &  0.30322364 & -0.661301518 & -0.60673758 & -0.686914653 & -0.655586716 & -0.6905050 &  2.4194748 &  1.40898933 & -0.2264902 & -0.24306021 &  0.6937488 &  1.90300996 & -1.65534328\\\\\n",
       "\t  0.1890641 &  1.44637698 &  1.79461962 &  0.545534187 &  0.22173944 & -0.101144969 & -0.364892552 & -0.3838002 & -0.6857335 & -0.75028280 &  0.1156123 &  2.21775277 &  0.2816572 & -1.01753386 & -0.98248404\\\\\n",
       "\t  0.6788836 & -1.41940240 &  0.36858362 &  0.092970798 &  0.20844836 &  0.777509557 &  0.071148694 &  0.3254544 & -0.1681988 &  0.68923195 &  0.7998173 &  1.29494790 & -0.9546175 &  1.06856887 & -0.97753655\\\\\n",
       "\t  0.0248324 & -0.31452360 & -0.65340885 & -0.585874287 & -0.46939647 & -0.650304048 & -0.631362202 & -0.4413074 &  0.3493359 & -0.39040411 & -0.5685927 & -0.55066183 &  0.6937488 &  1.23545709 &  1.32799585\\\\\n",
       "\\end{tabular}\n"
      ],
      "text/markdown": [
       "\n",
       "A matrix: 2240 × 15 of type dbl\n",
       "\n",
       "| Income | Recency | MntWines | MntFruits | MntMeatProducts | MntFishProducts | MntSweetProducts | MntGoldProds | NumDealsPurchases | NumWebPurchases | NumCatalogPurchases | NumStorePurchases | NumWebVisitsMonth | Age | Dt_Customer |\n",
       "|---|---|---|---|---|---|---|---|---|---|---|---|---|---|---|\n",
       "|  0.23527424 |  0.30697072 |  0.9835616 |  1.5512306 |  1.67932736 |  2.46159740 |  1.476170487 |  0.84301867 |  0.3493359 |  1.40898933 |  2.5103297 | -0.55066183 |  0.6937488 |  0.98512476 |  1.5308431 |\n",
       "| -0.23577359 | -0.38357853 | -0.8702852 | -0.6361591 | -0.71306619 | -0.65030405 | -0.631362202 | -0.72884304 | -0.1681988 | -1.11016149 | -0.5685927 | -1.16586508 | -0.1304343 |  1.23545709 | -1.1902788 |\n",
       "|  0.77346056 | -0.79790808 |  0.3626418 |  0.5706766 | -0.17699282 |  1.34497394 | -0.146871929 | -0.03875741 | -0.6857335 |  1.40898933 | -0.2264902 |  1.29494790 | -0.5425259 |  0.31757189 | -0.2057274 |\n",
       "| -1.02250414 | -0.79790808 | -0.8702852 | -0.5607319 | -0.65104117 | -0.50386163 | -0.582913175 | -0.74801209 | -0.1681988 | -0.75028280 | -0.9106951 | -0.55066183 |  0.2816572 | -1.26786619 | -1.0616440 |\n",
       "|  0.24146488 |  1.54995937 | -0.3889980 |  0.4198221 | -0.21686604 |  0.15512927 | -0.001524847 | -0.55632164 |  1.3844054 |  0.32935326 |  0.1156123 |  0.06454141 | -0.1304343 | -1.01753386 | -0.9527991 |\n",
       "|  0.41001006 | -1.14318270 |  0.6419072 |  0.3946797 | -0.30547321 | -0.68691465 |  0.361842858 | -0.57549068 | -0.1681988 |  0.68923195 |  0.4577148 |  1.29494790 |  0.2816572 |  0.15068367 | -0.2997298 |\n",
       "|  0.13530538 | -0.52168838 | -0.2048017 |  0.9729552 | -0.01306956 |  0.22835048 |  0.531414454 | -0.32629309 |  0.8668707 |  1.04911064 |  0.1156123 |  0.37214303 |  0.2816572 | -0.18309277 |  1.1845185 |\n",
       "| -0.75059524 | -0.59074330 | -0.6771761 | -0.4098774 | -0.49154827 | -0.63199875 | -0.631362202 | -0.40296927 | -0.1681988 | -0.03052542 | -0.9106951 | -0.55066183 |  1.1058404 | -1.35131029 |  0.3137595 |\n",
       "| -0.87452787 | -1.03960031 | -0.8613724 | -0.6613015 | -0.63331974 | -0.63199875 | -0.582913175 | -0.80551923 | -0.6857335 | -0.39040411 | -0.9106951 | -1.16586508 |  1.5179320 | -0.43342509 |  0.1702822 |\n",
       "| -1.86115620 |  0.65224534 | -0.8197797 | -0.6613015 | -0.71306619 | -0.66860935 | -0.631362202 | -0.59465973 | -0.6857335 | -1.11016149 | -0.9106951 | -1.78106832 |  6.0509395 |  1.56923353 | -1.2150163 |\n",
       "|  0.00000000 | -1.31582001 | -0.8881106 | -0.5355895 | -0.71306619 | -0.68691465 | -0.607137688 | -0.82468827 | -0.6857335 | -1.11016149 | -0.9106951 | -1.16586508 |  0.6937488 | -1.18442208 | -0.6312119 |\n",
       "| -1.78718803 |  0.34149818 | -0.8851397 | -0.2590229 | -0.69091439 | -0.48555632 | -0.631362202 | -0.53715259 | -0.6857335 | -0.75028280 | -0.9106951 | -0.85826346 |  1.1058404 | -0.60031331 |  1.1845185 |\n",
       "|  0.43077866 |  1.13562982 | -0.3266089 |  0.8723855 |  1.38692370 |  3.43177844 |  2.057558815 | -0.26878596 | -0.6857335 | -0.39040411 |  0.4577148 |  0.67974466 | -1.3667091 |  0.81823654 | -0.6312119 |\n",
       "|  0.28384081 |  0.13433341 | -0.2107435 | -0.6110167 | -0.50483934 | -0.63199875 | -0.534464147 | -0.57549068 |  0.3493359 |  0.68923195 | -0.5685927 | -0.24306021 |  0.2816572 |  1.40234531 | -0.6312119 |\n",
       "| -1.39486118 | -0.38357853 | -0.8940524 | -0.3093078 | -0.66433224 | -0.57708284 | -0.631362202 | -0.74801209 | -0.6857335 | -1.11016149 | -0.9106951 | -0.85826346 |  1.1058404 | -1.51819851 |  1.3527333 |\n",
       "|  1.22026504 | -0.90149046 |  2.0857686 | -0.1081685 | -0.23015712 |  0.39309820 |  0.991680214 |  0.01874972 | -0.6857335 |  1.04911064 |  1.1419198 |  1.91015115 | -0.9546175 |  1.90300996 |  1.1300961 |\n",
       "| -0.41526222 |  0.06527848 | -0.7455070 | -0.5355895 | -0.65547153 | -0.65030405 | -0.340668038 | -0.76718114 |  0.3493359 | -0.39040411 | -0.9106951 | -0.85826346 |  1.1058404 | -0.93408975 |  0.9816712 |\n",
       "| -0.57861525 | -1.00507285 | -0.6534088 | -0.5355895 | -0.57129472 |  2.05888074 | -0.364892552 | -0.30712405 | -0.1681988 | -0.03052542 | -0.5685927 |  0.06454141 |  0.6937488 |  1.90300996 |  1.5506331 |\n",
       "|  0.98841557 |  1.44637698 |  2.1035941 |  1.3500913 |  1.46667015 | -0.68691465 | -0.267994497 |  2.52989466 | -0.1681988 |  2.48862539 |  0.4577148 |  0.98734628 | -0.1304343 |  1.65267764 |  0.5166068 |\n",
       "| -0.73629686 |  1.27373967 | -0.8910815 | -0.2338805 | -0.65547153 | -0.13775557 | -0.074198388 | -0.09626455 | -0.1681988 | -0.75028280 | -0.5685927 | -0.85826346 |  0.2816572 | -1.35131029 |  1.2339935 |\n",
       "| -0.60737178 | -0.27999614 | -0.6474670 | -0.6110167 | -0.41623217 |  0.57615123 |  0.264944804 |  0.07625686 | -0.6857335 | -0.03052542 | -0.2264902 | -0.24306021 |  1.1058404 | -1.10097797 |  1.6644255 |\n",
       "| -1.98900291 | -0.24546868 | -0.8999942 | -0.6361591 |  6.90271993 | -0.66860935 | -0.631362202 | -0.82468827 |  6.5597526 | -1.47004017 |  8.6681745 | -1.78106832 | -1.7788007 | -0.85064564 |  0.9173538 |\n",
       "|  0.25400592 |  0.47960803 |  1.6728124 | -0.6613015 | -0.35863751 | -0.68691465 | -0.655586716 | -0.47964546 |  0.3493359 | -0.75028280 |  0.1156123 |  0.98734628 |  1.1058404 |  1.65267764 |  0.9866187 |\n",
       "|  0.52228032 | -1.69562210 |  0.2378637 | -0.6613015 | -0.28775178 | -0.30250330 |  0.119597722 | -0.74801209 |  0.3493359 |  0.68923195 | -0.2264902 |  0.98734628 | -0.5425259 |  1.23545709 | -0.9132191 |\n",
       "| -0.46163212 |  0.68677281 | -0.1008199 | -0.5858743 | -0.62002866 |  0.02699215 | -0.510239634 |  1.05387817 |  2.4194748 |  1.04911064 | -0.5685927 | -0.24306021 |  1.1058404 |  1.48578942 |  0.5660817 |\n",
       "| -1.34429763 |  1.37732205 | -0.8851397 | -0.5607319 | -0.62888938 | -0.41233511 | -0.364892552 | -0.59465973 | -0.1681988 | -0.75028280 | -0.5685927 | -0.85826346 |  0.6937488 | -0.01620455 |  0.9371438 |\n",
       "|  0.04440281 | -1.55751225 | -0.3889980 | -0.5607319 | -0.60673758 | -0.63199875 | -0.510239634 | -0.05792646 |  0.8668707 |  0.32935326 | -0.5685927 | -0.55066183 |  0.6937488 | -0.60031331 |  0.2197571 |\n",
       "|  0.00000000 | -1.03960031 | -0.8881106 | -0.6361591 | -0.72635726 | -0.63199875 |  5.715460380 |  6.09533708 | -1.2032682 |  8.24668439 | -0.9106951 | -1.78106832 | -1.7788007 | -1.43475440 |  0.6947166 |\n",
       "| -0.55465148 | -0.79790808 | -0.7960124 | -0.6110167 | -0.55357328 | -0.32080860 | -0.146871929 | -0.65216686 | -0.1681988 | -0.75028280 | -0.5685927 | -0.55066183 | -0.9546175 | -1.68508673 |  0.1999671 |\n",
       "|  1.29287526 |  1.61901429 |  1.1291362 |  1.8529395 |  2.80906875 | -0.30250330 |  0.943231187 | -0.84385732 | -0.6857335 |  0.68923195 |  2.1682272 |  1.29494790 | -1.3667091 |  0.31757189 | -0.6658444 |\n",
       "| ⋮ | ⋮ | ⋮ | ⋮ | ⋮ | ⋮ | ⋮ | ⋮ | ⋮ | ⋮ | ⋮ | ⋮ | ⋮ | ⋮ | ⋮ |\n",
       "| -0.4184973 | -0.62527076 | -0.00575083 |  0.067828387 | -0.15927139 | -0.101144969 | -0.655586716 | -0.3262931 |  1.9019401 |  1.40898933 | -0.5685927 |  0.37214303 |  1.1058404 |  1.15201298 |  0.72934902 |\n",
       "|  1.4409314 | -0.24546868 |  0.63893628 |  1.123809629 |  3.07045990 |  1.015478491 | -0.001524847 |  0.1721021 | -0.6857335 |  0.68923195 | -0.2264902 |  0.98734628 | -1.3667091 | -1.01753386 | -1.03690648 |\n",
       "| -0.5668730 | -0.86696300 | -0.83463426 | -0.611016697 | -0.66433224 | -0.650304048 | -0.631362202 | -0.8438573 | -0.1681988 | -0.75028280 | -0.9106951 | -0.85826346 |  0.6937488 |  1.56923353 | -1.45744351 |\n",
       "|  1.1330769 | -0.24546868 |  0.86175440 |  0.620961419 |  2.05590782 |  0.631067136 |  0.676761536 | -0.2304479 | -0.6857335 | -0.03052542 |  1.1419198 |  0.67974466 | -1.3667091 | -2.18575139 |  1.34283833 |\n",
       "| -1.8748555 | -1.28129255 | -0.86731425 | -0.560731876 | -0.70863583 | -0.668609350 | -0.582913175 | -0.7480121 | -1.2032682 | -1.11016149 | -0.9106951 | -1.78106832 |  3.1662984 | -0.60031331 | -0.09688254 |\n",
       "| -0.6166777 |  1.34279459 | -0.89108151 | -0.611016697 | -0.71749655 | -0.686914653 | -0.655586716 | -0.7480121 | -0.6857335 | -1.11016149 | -0.9106951 | -1.16586508 |  0.2816572 |  1.23545709 |  1.00146122 |\n",
       "| -0.9513717 |  0.61771788 | -0.84948880 | -0.585874287 | -0.65547153 | -0.631998745 | -0.582913175 | -0.7288430 | -0.1681988 | -0.75028280 | -0.9106951 | -0.85826346 |  1.1058404 | -1.18442208 |  0.55123923 |\n",
       "|  1.1895914 |  0.16886087 |  0.08337642 |  4.216326125 |  0.93059679 |  2.040575438 |  2.372477493 |  0.2487783 | -1.2032682 | -0.03052542 |  1.1419198 |  0.37214303 | -1.7788007 |  1.73612174 | -1.32880865 |\n",
       "| -1.1771104 | -0.31452360 | -0.88811061 | -0.636159108 | -0.70420547 | -0.686914653 | -0.655586716 | -0.8246883 | -0.6857335 | -1.11016149 | -0.9106951 | -1.16586508 |  1.1058404 | -0.76720153 |  0.10596473 |\n",
       "| -0.4851166 |  0.82488266 | -0.39493982 | -0.585874287 | -0.16813210 | -0.210976785 | -0.074198388 |  0.3446235 |  0.8668707 |  0.68923195 | -0.5685927 |  0.06454141 |  0.6937488 | -1.35131029 |  1.33294334 |\n",
       "|  0.2307611 |  1.10110236 | -0.10081990 |  0.118113208 | -0.34977680 | -0.485556324 |  0.507189940 | -0.4221383 |  0.3493359 | -0.39040411 | -0.2264902 |  1.29494790 | -0.5425259 | -0.85064564 | -0.68563438 |\n",
       "|  0.9397691 | -1.28129255 |  1.21232159 | -0.007598845 |  1.64388449 |  0.576151228 | -0.340668038 |  0.6896663 | -0.6857335 | -0.39040411 |  1.1419198 |  1.60254952 | -1.7788007 | -1.10097797 |  0.03175231 |\n",
       "| -1.7871880 | -1.45392986 | -0.89702333 | -0.460162234 | -0.69091439 | -0.631998745 | -0.461790606 | -0.4413074 |  0.8668707 | -0.39040411 | -0.2264902 | -1.16586508 |  0.6937488 | -0.85064564 |  0.31870699 |\n",
       "| -0.7462818 | -0.55621584 | -0.84057607 | -0.359592592 | -0.68648404 | -0.686914653 | -0.582913175 | -0.7863502 |  0.3493359 | -0.75028280 | -0.9106951 | -0.55066183 | -0.5425259 |  0.48446011 | -1.72955570 |\n",
       "|  0.2154642 | -0.86696300 |  0.82016169 | -0.510447055 | -0.48268755 | -0.540472232 | -0.655586716 | -0.3262931 |  0.3493359 |  1.04911064 |  1.1419198 |  0.06454141 | -0.5425259 | -0.09964866 | -0.90332413 |\n",
       "|  0.2518891 |  0.20338833 |  0.19032912 | -0.057883666 | -0.43838397 |  0.008686847 | -0.655586716 |  0.8430187 |  1.9019401 |  1.40898933 | -0.2264902 |  0.06454141 |  0.6937488 |  0.06723956 |  1.42199824 |\n",
       "|  0.4604937 |  1.30826713 |  0.45473996 | -0.535589466 | -0.27003035 | -0.412335114 | -0.243769983 |  0.1721021 |  2.9370096 |  2.48862539 | -0.5685927 |  0.06454141 |  1.1058404 | -0.85064564 |  0.53639674 |\n",
       "|  0.2284446 | -0.34905107 | -0.22262714 | -0.485304645 | -0.13268923 | -0.613693442 | -0.655586716 |  0.9005258 |  1.3844054 | -0.03052542 | -0.2264902 |  0.67974466 | -0.1304343 |  0.56790422 |  0.64029412 |\n",
       "|  0.0000000 |  0.13433341 | -0.80789608 | -0.611016697 |  6.37993764 | -0.467251021 | -0.558688661 | -0.4221383 | -1.2032682 | -1.47004017 | -0.9106951 | -1.47346670 | -2.1908923 | -0.76720153 |  1.64463549 |\n",
       "| -1.1108506 | -1.38487494 | -0.89405242 | -0.611016697 | -0.70420547 | -0.320808600 | -0.655586716 | -0.5179835 | -0.1681988 | -0.75028280 | -0.5685927 | -1.16586508 |  0.6937488 | -0.26653688 | -1.54155091 |\n",
       "| -1.6469201 |  1.13562982 | -0.83166335 | -0.585874287 | -0.62445902 | -0.558777535 | -0.631362202 | -0.4029693 |  0.3493359 | -0.39040411 | -0.5685927 | -1.16586508 |  1.5179320 | -1.26786619 |  0.57597670 |\n",
       "| -0.2973605 |  0.75582773 |  1.63121966 | -0.409877413 | -0.10610708 | -0.448945719 | -0.413341579 | -0.4604764 | -0.1681988 |  1.76886801 |  0.4577148 |  1.91015115 |  1.1058404 | -0.09964866 |  1.60010804 |\n",
       "| -1.0157144 |  0.03075102 | -0.88811061 | -0.636159108 | -0.71306619 | -0.631998745 | -0.558688661 | -0.7863502 | -0.6857335 | -1.47004017 | -0.9106951 | -0.85826346 | -0.5425259 | -1.43475440 |  1.61989802 |\n",
       "| 24.5396488 | -0.90149046 | -0.87622697 | -0.309307771 | -0.65990189 | -0.540472232 | -0.631362202 | -0.6138288 |  0.8668707 | -0.39040411 | -0.5685927 | -0.85826346 |  0.2816572 | -0.68375742 |  0.19007213 |\n",
       "| -0.7119736 |  1.10110236 | -0.89405242 | -0.585874287 | -0.70863583 | -0.577082837 | -0.607137688 | -0.6713359 | -0.6857335 | -1.11016149 | -0.9106951 | -1.16586508 |  0.6937488 | -0.43342509 |  0.04659480 |\n",
       "|  0.3584880 | -0.10735883 |  1.20340886 |  0.419822134 |  0.06667689 |  0.081908057 |  2.202905898 |  3.8908969 | -0.1681988 |  1.76886801 |  0.1156123 | -0.55066183 | -0.1304343 |  0.15068367 |  0.13564969 |\n",
       "|  0.4699594 |  0.23791580 |  0.30322364 | -0.661301518 | -0.60673758 | -0.686914653 | -0.655586716 | -0.6905050 |  2.4194748 |  1.40898933 | -0.2264902 | -0.24306021 |  0.6937488 |  1.90300996 | -1.65534328 |\n",
       "|  0.1890641 |  1.44637698 |  1.79461962 |  0.545534187 |  0.22173944 | -0.101144969 | -0.364892552 | -0.3838002 | -0.6857335 | -0.75028280 |  0.1156123 |  2.21775277 |  0.2816572 | -1.01753386 | -0.98248404 |\n",
       "|  0.6788836 | -1.41940240 |  0.36858362 |  0.092970798 |  0.20844836 |  0.777509557 |  0.071148694 |  0.3254544 | -0.1681988 |  0.68923195 |  0.7998173 |  1.29494790 | -0.9546175 |  1.06856887 | -0.97753655 |\n",
       "|  0.0248324 | -0.31452360 | -0.65340885 | -0.585874287 | -0.46939647 | -0.650304048 | -0.631362202 | -0.4413074 |  0.3493359 | -0.39040411 | -0.5685927 | -0.55066183 |  0.6937488 |  1.23545709 |  1.32799585 |\n",
       "\n"
      ],
      "text/plain": [
       "      Income      Recency     MntWines    MntFruits    MntMeatProducts\n",
       " [1,]  0.23527424  0.30697072  0.9835616   1.5512306    1.67932736    \n",
       " [2,] -0.23577359 -0.38357853 -0.8702852  -0.6361591   -0.71306619    \n",
       " [3,]  0.77346056 -0.79790808  0.3626418   0.5706766   -0.17699282    \n",
       " [4,] -1.02250414 -0.79790808 -0.8702852  -0.5607319   -0.65104117    \n",
       " [5,]  0.24146488  1.54995937 -0.3889980   0.4198221   -0.21686604    \n",
       " [6,]  0.41001006 -1.14318270  0.6419072   0.3946797   -0.30547321    \n",
       " [7,]  0.13530538 -0.52168838 -0.2048017   0.9729552   -0.01306956    \n",
       " [8,] -0.75059524 -0.59074330 -0.6771761  -0.4098774   -0.49154827    \n",
       " [9,] -0.87452787 -1.03960031 -0.8613724  -0.6613015   -0.63331974    \n",
       "[10,] -1.86115620  0.65224534 -0.8197797  -0.6613015   -0.71306619    \n",
       "[11,]  0.00000000 -1.31582001 -0.8881106  -0.5355895   -0.71306619    \n",
       "[12,] -1.78718803  0.34149818 -0.8851397  -0.2590229   -0.69091439    \n",
       "[13,]  0.43077866  1.13562982 -0.3266089   0.8723855    1.38692370    \n",
       "[14,]  0.28384081  0.13433341 -0.2107435  -0.6110167   -0.50483934    \n",
       "[15,] -1.39486118 -0.38357853 -0.8940524  -0.3093078   -0.66433224    \n",
       "[16,]  1.22026504 -0.90149046  2.0857686  -0.1081685   -0.23015712    \n",
       "[17,] -0.41526222  0.06527848 -0.7455070  -0.5355895   -0.65547153    \n",
       "[18,] -0.57861525 -1.00507285 -0.6534088  -0.5355895   -0.57129472    \n",
       "[19,]  0.98841557  1.44637698  2.1035941   1.3500913    1.46667015    \n",
       "[20,] -0.73629686  1.27373967 -0.8910815  -0.2338805   -0.65547153    \n",
       "[21,] -0.60737178 -0.27999614 -0.6474670  -0.6110167   -0.41623217    \n",
       "[22,] -1.98900291 -0.24546868 -0.8999942  -0.6361591    6.90271993    \n",
       "[23,]  0.25400592  0.47960803  1.6728124  -0.6613015   -0.35863751    \n",
       "[24,]  0.52228032 -1.69562210  0.2378637  -0.6613015   -0.28775178    \n",
       "[25,] -0.46163212  0.68677281 -0.1008199  -0.5858743   -0.62002866    \n",
       "[26,] -1.34429763  1.37732205 -0.8851397  -0.5607319   -0.62888938    \n",
       "[27,]  0.04440281 -1.55751225 -0.3889980  -0.5607319   -0.60673758    \n",
       "[28,]  0.00000000 -1.03960031 -0.8881106  -0.6361591   -0.72635726    \n",
       "[29,] -0.55465148 -0.79790808 -0.7960124  -0.6110167   -0.55357328    \n",
       "[30,]  1.29287526  1.61901429  1.1291362   1.8529395    2.80906875    \n",
       "[31,] ⋮           ⋮           ⋮           ⋮            ⋮              \n",
       "[32,] -0.4184973  -0.62527076 -0.00575083  0.067828387 -0.15927139    \n",
       "[33,]  1.4409314  -0.24546868  0.63893628  1.123809629  3.07045990    \n",
       "[34,] -0.5668730  -0.86696300 -0.83463426 -0.611016697 -0.66433224    \n",
       "[35,]  1.1330769  -0.24546868  0.86175440  0.620961419  2.05590782    \n",
       "[36,] -1.8748555  -1.28129255 -0.86731425 -0.560731876 -0.70863583    \n",
       "[37,] -0.6166777   1.34279459 -0.89108151 -0.611016697 -0.71749655    \n",
       "[38,] -0.9513717   0.61771788 -0.84948880 -0.585874287 -0.65547153    \n",
       "[39,]  1.1895914   0.16886087  0.08337642  4.216326125  0.93059679    \n",
       "[40,] -1.1771104  -0.31452360 -0.88811061 -0.636159108 -0.70420547    \n",
       "[41,] -0.4851166   0.82488266 -0.39493982 -0.585874287 -0.16813210    \n",
       "[42,]  0.2307611   1.10110236 -0.10081990  0.118113208 -0.34977680    \n",
       "[43,]  0.9397691  -1.28129255  1.21232159 -0.007598845  1.64388449    \n",
       "[44,] -1.7871880  -1.45392986 -0.89702333 -0.460162234 -0.69091439    \n",
       "[45,] -0.7462818  -0.55621584 -0.84057607 -0.359592592 -0.68648404    \n",
       "[46,]  0.2154642  -0.86696300  0.82016169 -0.510447055 -0.48268755    \n",
       "[47,]  0.2518891   0.20338833  0.19032912 -0.057883666 -0.43838397    \n",
       "[48,]  0.4604937   1.30826713  0.45473996 -0.535589466 -0.27003035    \n",
       "[49,]  0.2284446  -0.34905107 -0.22262714 -0.485304645 -0.13268923    \n",
       "[50,]  0.0000000   0.13433341 -0.80789608 -0.611016697  6.37993764    \n",
       "[51,] -1.1108506  -1.38487494 -0.89405242 -0.611016697 -0.70420547    \n",
       "[52,] -1.6469201   1.13562982 -0.83166335 -0.585874287 -0.62445902    \n",
       "[53,] -0.2973605   0.75582773  1.63121966 -0.409877413 -0.10610708    \n",
       "[54,] -1.0157144   0.03075102 -0.88811061 -0.636159108 -0.71306619    \n",
       "[55,] 24.5396488  -0.90149046 -0.87622697 -0.309307771 -0.65990189    \n",
       "[56,] -0.7119736   1.10110236 -0.89405242 -0.585874287 -0.70863583    \n",
       "[57,]  0.3584880  -0.10735883  1.20340886  0.419822134  0.06667689    \n",
       "[58,]  0.4699594   0.23791580  0.30322364 -0.661301518 -0.60673758    \n",
       "[59,]  0.1890641   1.44637698  1.79461962  0.545534187  0.22173944    \n",
       "[60,]  0.6788836  -1.41940240  0.36858362  0.092970798  0.20844836    \n",
       "[61,]  0.0248324  -0.31452360 -0.65340885 -0.585874287 -0.46939647    \n",
       "      MntFishProducts MntSweetProducts MntGoldProds NumDealsPurchases\n",
       " [1,]  2.46159740      1.476170487      0.84301867   0.3493359       \n",
       " [2,] -0.65030405     -0.631362202     -0.72884304  -0.1681988       \n",
       " [3,]  1.34497394     -0.146871929     -0.03875741  -0.6857335       \n",
       " [4,] -0.50386163     -0.582913175     -0.74801209  -0.1681988       \n",
       " [5,]  0.15512927     -0.001524847     -0.55632164   1.3844054       \n",
       " [6,] -0.68691465      0.361842858     -0.57549068  -0.1681988       \n",
       " [7,]  0.22835048      0.531414454     -0.32629309   0.8668707       \n",
       " [8,] -0.63199875     -0.631362202     -0.40296927  -0.1681988       \n",
       " [9,] -0.63199875     -0.582913175     -0.80551923  -0.6857335       \n",
       "[10,] -0.66860935     -0.631362202     -0.59465973  -0.6857335       \n",
       "[11,] -0.68691465     -0.607137688     -0.82468827  -0.6857335       \n",
       "[12,] -0.48555632     -0.631362202     -0.53715259  -0.6857335       \n",
       "[13,]  3.43177844      2.057558815     -0.26878596  -0.6857335       \n",
       "[14,] -0.63199875     -0.534464147     -0.57549068   0.3493359       \n",
       "[15,] -0.57708284     -0.631362202     -0.74801209  -0.6857335       \n",
       "[16,]  0.39309820      0.991680214      0.01874972  -0.6857335       \n",
       "[17,] -0.65030405     -0.340668038     -0.76718114   0.3493359       \n",
       "[18,]  2.05888074     -0.364892552     -0.30712405  -0.1681988       \n",
       "[19,] -0.68691465     -0.267994497      2.52989466  -0.1681988       \n",
       "[20,] -0.13775557     -0.074198388     -0.09626455  -0.1681988       \n",
       "[21,]  0.57615123      0.264944804      0.07625686  -0.6857335       \n",
       "[22,] -0.66860935     -0.631362202     -0.82468827   6.5597526       \n",
       "[23,] -0.68691465     -0.655586716     -0.47964546   0.3493359       \n",
       "[24,] -0.30250330      0.119597722     -0.74801209   0.3493359       \n",
       "[25,]  0.02699215     -0.510239634      1.05387817   2.4194748       \n",
       "[26,] -0.41233511     -0.364892552     -0.59465973  -0.1681988       \n",
       "[27,] -0.63199875     -0.510239634     -0.05792646   0.8668707       \n",
       "[28,] -0.63199875      5.715460380      6.09533708  -1.2032682       \n",
       "[29,] -0.32080860     -0.146871929     -0.65216686  -0.1681988       \n",
       "[30,] -0.30250330      0.943231187     -0.84385732  -0.6857335       \n",
       "[31,] ⋮               ⋮                ⋮            ⋮                \n",
       "[32,] -0.101144969    -0.655586716     -0.3262931    1.9019401       \n",
       "[33,]  1.015478491    -0.001524847      0.1721021   -0.6857335       \n",
       "[34,] -0.650304048    -0.631362202     -0.8438573   -0.1681988       \n",
       "[35,]  0.631067136     0.676761536     -0.2304479   -0.6857335       \n",
       "[36,] -0.668609350    -0.582913175     -0.7480121   -1.2032682       \n",
       "[37,] -0.686914653    -0.655586716     -0.7480121   -0.6857335       \n",
       "[38,] -0.631998745    -0.582913175     -0.7288430   -0.1681988       \n",
       "[39,]  2.040575438     2.372477493      0.2487783   -1.2032682       \n",
       "[40,] -0.686914653    -0.655586716     -0.8246883   -0.6857335       \n",
       "[41,] -0.210976785    -0.074198388      0.3446235    0.8668707       \n",
       "[42,] -0.485556324     0.507189940     -0.4221383    0.3493359       \n",
       "[43,]  0.576151228    -0.340668038      0.6896663   -0.6857335       \n",
       "[44,] -0.631998745    -0.461790606     -0.4413074    0.8668707       \n",
       "[45,] -0.686914653    -0.582913175     -0.7863502    0.3493359       \n",
       "[46,] -0.540472232    -0.655586716     -0.3262931    0.3493359       \n",
       "[47,]  0.008686847    -0.655586716      0.8430187    1.9019401       \n",
       "[48,] -0.412335114    -0.243769983      0.1721021    2.9370096       \n",
       "[49,] -0.613693442    -0.655586716      0.9005258    1.3844054       \n",
       "[50,] -0.467251021    -0.558688661     -0.4221383   -1.2032682       \n",
       "[51,] -0.320808600    -0.655586716     -0.5179835   -0.1681988       \n",
       "[52,] -0.558777535    -0.631362202     -0.4029693    0.3493359       \n",
       "[53,] -0.448945719    -0.413341579     -0.4604764   -0.1681988       \n",
       "[54,] -0.631998745    -0.558688661     -0.7863502   -0.6857335       \n",
       "[55,] -0.540472232    -0.631362202     -0.6138288    0.8668707       \n",
       "[56,] -0.577082837    -0.607137688     -0.6713359   -0.6857335       \n",
       "[57,]  0.081908057     2.202905898      3.8908969   -0.1681988       \n",
       "[58,] -0.686914653    -0.655586716     -0.6905050    2.4194748       \n",
       "[59,] -0.101144969    -0.364892552     -0.3838002   -0.6857335       \n",
       "[60,]  0.777509557     0.071148694      0.3254544   -0.1681988       \n",
       "[61,] -0.650304048    -0.631362202     -0.4413074    0.3493359       \n",
       "      NumWebPurchases NumCatalogPurchases NumStorePurchases NumWebVisitsMonth\n",
       " [1,]  1.40898933      2.5103297          -0.55066183        0.6937488       \n",
       " [2,] -1.11016149     -0.5685927          -1.16586508       -0.1304343       \n",
       " [3,]  1.40898933     -0.2264902           1.29494790       -0.5425259       \n",
       " [4,] -0.75028280     -0.9106951          -0.55066183        0.2816572       \n",
       " [5,]  0.32935326      0.1156123           0.06454141       -0.1304343       \n",
       " [6,]  0.68923195      0.4577148           1.29494790        0.2816572       \n",
       " [7,]  1.04911064      0.1156123           0.37214303        0.2816572       \n",
       " [8,] -0.03052542     -0.9106951          -0.55066183        1.1058404       \n",
       " [9,] -0.39040411     -0.9106951          -1.16586508        1.5179320       \n",
       "[10,] -1.11016149     -0.9106951          -1.78106832        6.0509395       \n",
       "[11,] -1.11016149     -0.9106951          -1.16586508        0.6937488       \n",
       "[12,] -0.75028280     -0.9106951          -0.85826346        1.1058404       \n",
       "[13,] -0.39040411      0.4577148           0.67974466       -1.3667091       \n",
       "[14,]  0.68923195     -0.5685927          -0.24306021        0.2816572       \n",
       "[15,] -1.11016149     -0.9106951          -0.85826346        1.1058404       \n",
       "[16,]  1.04911064      1.1419198           1.91015115       -0.9546175       \n",
       "[17,] -0.39040411     -0.9106951          -0.85826346        1.1058404       \n",
       "[18,] -0.03052542     -0.5685927           0.06454141        0.6937488       \n",
       "[19,]  2.48862539      0.4577148           0.98734628       -0.1304343       \n",
       "[20,] -0.75028280     -0.5685927          -0.85826346        0.2816572       \n",
       "[21,] -0.03052542     -0.2264902          -0.24306021        1.1058404       \n",
       "[22,] -1.47004017      8.6681745          -1.78106832       -1.7788007       \n",
       "[23,] -0.75028280      0.1156123           0.98734628        1.1058404       \n",
       "[24,]  0.68923195     -0.2264902           0.98734628       -0.5425259       \n",
       "[25,]  1.04911064     -0.5685927          -0.24306021        1.1058404       \n",
       "[26,] -0.75028280     -0.5685927          -0.85826346        0.6937488       \n",
       "[27,]  0.32935326     -0.5685927          -0.55066183        0.6937488       \n",
       "[28,]  8.24668439     -0.9106951          -1.78106832       -1.7788007       \n",
       "[29,] -0.75028280     -0.5685927          -0.55066183       -0.9546175       \n",
       "[30,]  0.68923195      2.1682272           1.29494790       -1.3667091       \n",
       "[31,] ⋮               ⋮                   ⋮                 ⋮                \n",
       "[32,]  1.40898933     -0.5685927           0.37214303        1.1058404       \n",
       "[33,]  0.68923195     -0.2264902           0.98734628       -1.3667091       \n",
       "[34,] -0.75028280     -0.9106951          -0.85826346        0.6937488       \n",
       "[35,] -0.03052542      1.1419198           0.67974466       -1.3667091       \n",
       "[36,] -1.11016149     -0.9106951          -1.78106832        3.1662984       \n",
       "[37,] -1.11016149     -0.9106951          -1.16586508        0.2816572       \n",
       "[38,] -0.75028280     -0.9106951          -0.85826346        1.1058404       \n",
       "[39,] -0.03052542      1.1419198           0.37214303       -1.7788007       \n",
       "[40,] -1.11016149     -0.9106951          -1.16586508        1.1058404       \n",
       "[41,]  0.68923195     -0.5685927           0.06454141        0.6937488       \n",
       "[42,] -0.39040411     -0.2264902           1.29494790       -0.5425259       \n",
       "[43,] -0.39040411      1.1419198           1.60254952       -1.7788007       \n",
       "[44,] -0.39040411     -0.2264902          -1.16586508        0.6937488       \n",
       "[45,] -0.75028280     -0.9106951          -0.55066183       -0.5425259       \n",
       "[46,]  1.04911064      1.1419198           0.06454141       -0.5425259       \n",
       "[47,]  1.40898933     -0.2264902           0.06454141        0.6937488       \n",
       "[48,]  2.48862539     -0.5685927           0.06454141        1.1058404       \n",
       "[49,] -0.03052542     -0.2264902           0.67974466       -0.1304343       \n",
       "[50,] -1.47004017     -0.9106951          -1.47346670       -2.1908923       \n",
       "[51,] -0.75028280     -0.5685927          -1.16586508        0.6937488       \n",
       "[52,] -0.39040411     -0.5685927          -1.16586508        1.5179320       \n",
       "[53,]  1.76886801      0.4577148           1.91015115        1.1058404       \n",
       "[54,] -1.47004017     -0.9106951          -0.85826346       -0.5425259       \n",
       "[55,] -0.39040411     -0.5685927          -0.85826346        0.2816572       \n",
       "[56,] -1.11016149     -0.9106951          -1.16586508        0.6937488       \n",
       "[57,]  1.76886801      0.1156123          -0.55066183       -0.1304343       \n",
       "[58,]  1.40898933     -0.2264902          -0.24306021        0.6937488       \n",
       "[59,] -0.75028280      0.1156123           2.21775277        0.2816572       \n",
       "[60,]  0.68923195      0.7998173           1.29494790       -0.9546175       \n",
       "[61,] -0.39040411     -0.5685927          -0.55066183        0.6937488       \n",
       "      Age         Dt_Customer\n",
       " [1,]  0.98512476  1.5308431 \n",
       " [2,]  1.23545709 -1.1902788 \n",
       " [3,]  0.31757189 -0.2057274 \n",
       " [4,] -1.26786619 -1.0616440 \n",
       " [5,] -1.01753386 -0.9527991 \n",
       " [6,]  0.15068367 -0.2997298 \n",
       " [7,] -0.18309277  1.1845185 \n",
       " [8,] -1.35131029  0.3137595 \n",
       " [9,] -0.43342509  0.1702822 \n",
       "[10,]  1.56923353 -1.2150163 \n",
       "[11,] -1.18442208 -0.6312119 \n",
       "[12,] -0.60031331  1.1845185 \n",
       "[13,]  0.81823654 -0.6312119 \n",
       "[14,]  1.40234531 -0.6312119 \n",
       "[15,] -1.51819851  1.3527333 \n",
       "[16,]  1.90300996  1.1300961 \n",
       "[17,] -0.93408975  0.9816712 \n",
       "[18,]  1.90300996  1.5506331 \n",
       "[19,]  1.65267764  0.5166068 \n",
       "[20,] -1.35131029  1.2339935 \n",
       "[21,] -1.10097797  1.6644255 \n",
       "[22,] -0.85064564  0.9173538 \n",
       "[23,]  1.65267764  0.9866187 \n",
       "[24,]  1.23545709 -0.9132191 \n",
       "[25,]  1.48578942  0.5660817 \n",
       "[26,] -0.01620455  0.9371438 \n",
       "[27,] -0.60031331  0.2197571 \n",
       "[28,] -1.43475440  0.6947166 \n",
       "[29,] -1.68508673  0.1999671 \n",
       "[30,]  0.31757189 -0.6658444 \n",
       "[31,] ⋮           ⋮          \n",
       "[32,]  1.15201298  0.72934902\n",
       "[33,] -1.01753386 -1.03690648\n",
       "[34,]  1.56923353 -1.45744351\n",
       "[35,] -2.18575139  1.34283833\n",
       "[36,] -0.60031331 -0.09688254\n",
       "[37,]  1.23545709  1.00146122\n",
       "[38,] -1.18442208  0.55123923\n",
       "[39,]  1.73612174 -1.32880865\n",
       "[40,] -0.76720153  0.10596473\n",
       "[41,] -1.35131029  1.33294334\n",
       "[42,] -0.85064564 -0.68563438\n",
       "[43,] -1.10097797  0.03175231\n",
       "[44,] -0.85064564  0.31870699\n",
       "[45,]  0.48446011 -1.72955570\n",
       "[46,] -0.09964866 -0.90332413\n",
       "[47,]  0.06723956  1.42199824\n",
       "[48,] -0.85064564  0.53639674\n",
       "[49,]  0.56790422  0.64029412\n",
       "[50,] -0.76720153  1.64463549\n",
       "[51,] -0.26653688 -1.54155091\n",
       "[52,] -1.26786619  0.57597670\n",
       "[53,] -0.09964866  1.60010804\n",
       "[54,] -1.43475440  1.61989802\n",
       "[55,] -0.68375742  0.19007213\n",
       "[56,] -0.43342509  0.04659480\n",
       "[57,]  0.15068367  0.13564969\n",
       "[58,]  1.90300996 -1.65534328\n",
       "[59,] -1.01753386 -0.98248404\n",
       "[60,]  1.06856887 -0.97753655\n",
       "[61,]  1.23545709  1.32799585"
      ]
     },
     "metadata": {},
     "output_type": "display_data"
    }
   ],
   "source": [
    "scaled_numeric"
   ]
  },
  {
   "cell_type": "code",
   "execution_count": 92,
   "id": "5c954443-d67a-4996-9dc0-bab6782f1016",
   "metadata": {},
   "outputs": [],
   "source": [
    "# PCA"
   ]
  },
  {
   "cell_type": "code",
   "execution_count": 93,
   "id": "d4fd0f50-7a3b-48ea-9a39-53f8e873af6d",
   "metadata": {},
   "outputs": [
    {
     "data": {
      "text/plain": [
       "Importance of components:\n",
       "                          PC1    PC2     PC3     PC4     PC5     PC6     PC7\n",
       "Standard deviation     2.3775 1.3304 1.07839 1.00371 0.90384 0.88017 0.81781\n",
       "Proportion of Variance 0.3768 0.1180 0.07753 0.06716 0.05446 0.05165 0.04459\n",
       "Cumulative Proportion  0.3768 0.4948 0.57236 0.63952 0.69398 0.74563 0.79022\n",
       "                          PC8     PC9    PC10    PC11    PC12    PC13    PC14\n",
       "Standard deviation     0.7918 0.69397 0.66813 0.64364 0.62193 0.56476 0.50471\n",
       "Proportion of Variance 0.0418 0.03211 0.02976 0.02762 0.02579 0.02126 0.01698\n",
       "Cumulative Proportion  0.8320 0.86412 0.89388 0.92150 0.94729 0.96855 0.98553\n",
       "                          PC15\n",
       "Standard deviation     0.46583\n",
       "Proportion of Variance 0.01447\n",
       "Cumulative Proportion  1.00000"
      ]
     },
     "metadata": {},
     "output_type": "display_data"
    }
   ],
   "source": [
    "data.pca <- prcomp(scaled_numeric, center = TRUE, scale = TRUE)\n",
    "summary(data.pca)"
   ]
  },
  {
   "cell_type": "code",
   "execution_count": 94,
   "id": "eea8c6c5-0b0b-4f58-ab54-5897a58d5252",
   "metadata": {},
   "outputs": [],
   "source": [
    "# Eigen values"
   ]
  },
  {
   "cell_type": "code",
   "execution_count": 96,
   "id": "eaddc091-c1c6-40a1-bc88-1127f382dfad",
   "metadata": {},
   "outputs": [
    {
     "name": "stderr",
     "output_type": "stream",
     "text": [
      "Warning message:\n",
      "\"pakiet 'factoextra' jest w użyciu i nie zostanie zainstalowany\"\n"
     ]
    }
   ],
   "source": [
    "install.packages(\"factoextra\")\n",
    "library(factoextra) "
   ]
  },
  {
   "cell_type": "code",
   "execution_count": 97,
   "id": "41d69bf2-c0a6-474e-a95b-b05612290608",
   "metadata": {},
   "outputs": [
    {
     "data": {
      "text/html": [
       "<table class=\"dataframe\">\n",
       "<caption>A data.frame: 15 × 3</caption>\n",
       "<thead>\n",
       "\t<tr><th></th><th scope=col>eigenvalue</th><th scope=col>variance.percent</th><th scope=col>cumulative.variance.percent</th></tr>\n",
       "\t<tr><th></th><th scope=col>&lt;dbl&gt;</th><th scope=col>&lt;dbl&gt;</th><th scope=col>&lt;dbl&gt;</th></tr>\n",
       "</thead>\n",
       "<tbody>\n",
       "\t<tr><th scope=row>Dim.1</th><td>5.6524438</td><td>37.682959</td><td> 37.68296</td></tr>\n",
       "\t<tr><th scope=row>Dim.2</th><td>1.7700381</td><td>11.800254</td><td> 49.48321</td></tr>\n",
       "\t<tr><th scope=row>Dim.3</th><td>1.1629312</td><td> 7.752875</td><td> 57.23609</td></tr>\n",
       "\t<tr><th scope=row>Dim.4</th><td>1.0074283</td><td> 6.716188</td><td> 63.95228</td></tr>\n",
       "\t<tr><th scope=row>Dim.5</th><td>0.8169240</td><td> 5.446160</td><td> 69.39844</td></tr>\n",
       "\t<tr><th scope=row>Dim.6</th><td>0.7747002</td><td> 5.164668</td><td> 74.56310</td></tr>\n",
       "\t<tr><th scope=row>Dim.7</th><td>0.6688100</td><td> 4.458734</td><td> 79.02184</td></tr>\n",
       "\t<tr><th scope=row>Dim.8</th><td>0.6269764</td><td> 4.179842</td><td> 83.20168</td></tr>\n",
       "\t<tr><th scope=row>Dim.9</th><td>0.4815949</td><td> 3.210633</td><td> 86.41231</td></tr>\n",
       "\t<tr><th scope=row>Dim.10</th><td>0.4463942</td><td> 2.975961</td><td> 89.38827</td></tr>\n",
       "\t<tr><th scope=row>Dim.11</th><td>0.4142701</td><td> 2.761801</td><td> 92.15008</td></tr>\n",
       "\t<tr><th scope=row>Dim.12</th><td>0.3867952</td><td> 2.578635</td><td> 94.72871</td></tr>\n",
       "\t<tr><th scope=row>Dim.13</th><td>0.3189557</td><td> 2.126371</td><td> 96.85508</td></tr>\n",
       "\t<tr><th scope=row>Dim.14</th><td>0.2547356</td><td> 1.698237</td><td> 98.55332</td></tr>\n",
       "\t<tr><th scope=row>Dim.15</th><td>0.2170021</td><td> 1.446681</td><td>100.00000</td></tr>\n",
       "</tbody>\n",
       "</table>\n"
      ],
      "text/latex": [
       "A data.frame: 15 × 3\n",
       "\\begin{tabular}{r|lll}\n",
       "  & eigenvalue & variance.percent & cumulative.variance.percent\\\\\n",
       "  & <dbl> & <dbl> & <dbl>\\\\\n",
       "\\hline\n",
       "\tDim.1 & 5.6524438 & 37.682959 &  37.68296\\\\\n",
       "\tDim.2 & 1.7700381 & 11.800254 &  49.48321\\\\\n",
       "\tDim.3 & 1.1629312 &  7.752875 &  57.23609\\\\\n",
       "\tDim.4 & 1.0074283 &  6.716188 &  63.95228\\\\\n",
       "\tDim.5 & 0.8169240 &  5.446160 &  69.39844\\\\\n",
       "\tDim.6 & 0.7747002 &  5.164668 &  74.56310\\\\\n",
       "\tDim.7 & 0.6688100 &  4.458734 &  79.02184\\\\\n",
       "\tDim.8 & 0.6269764 &  4.179842 &  83.20168\\\\\n",
       "\tDim.9 & 0.4815949 &  3.210633 &  86.41231\\\\\n",
       "\tDim.10 & 0.4463942 &  2.975961 &  89.38827\\\\\n",
       "\tDim.11 & 0.4142701 &  2.761801 &  92.15008\\\\\n",
       "\tDim.12 & 0.3867952 &  2.578635 &  94.72871\\\\\n",
       "\tDim.13 & 0.3189557 &  2.126371 &  96.85508\\\\\n",
       "\tDim.14 & 0.2547356 &  1.698237 &  98.55332\\\\\n",
       "\tDim.15 & 0.2170021 &  1.446681 & 100.00000\\\\\n",
       "\\end{tabular}\n"
      ],
      "text/markdown": [
       "\n",
       "A data.frame: 15 × 3\n",
       "\n",
       "| <!--/--> | eigenvalue &lt;dbl&gt; | variance.percent &lt;dbl&gt; | cumulative.variance.percent &lt;dbl&gt; |\n",
       "|---|---|---|---|\n",
       "| Dim.1 | 5.6524438 | 37.682959 |  37.68296 |\n",
       "| Dim.2 | 1.7700381 | 11.800254 |  49.48321 |\n",
       "| Dim.3 | 1.1629312 |  7.752875 |  57.23609 |\n",
       "| Dim.4 | 1.0074283 |  6.716188 |  63.95228 |\n",
       "| Dim.5 | 0.8169240 |  5.446160 |  69.39844 |\n",
       "| Dim.6 | 0.7747002 |  5.164668 |  74.56310 |\n",
       "| Dim.7 | 0.6688100 |  4.458734 |  79.02184 |\n",
       "| Dim.8 | 0.6269764 |  4.179842 |  83.20168 |\n",
       "| Dim.9 | 0.4815949 |  3.210633 |  86.41231 |\n",
       "| Dim.10 | 0.4463942 |  2.975961 |  89.38827 |\n",
       "| Dim.11 | 0.4142701 |  2.761801 |  92.15008 |\n",
       "| Dim.12 | 0.3867952 |  2.578635 |  94.72871 |\n",
       "| Dim.13 | 0.3189557 |  2.126371 |  96.85508 |\n",
       "| Dim.14 | 0.2547356 |  1.698237 |  98.55332 |\n",
       "| Dim.15 | 0.2170021 |  1.446681 | 100.00000 |\n",
       "\n"
      ],
      "text/plain": [
       "       eigenvalue variance.percent cumulative.variance.percent\n",
       "Dim.1  5.6524438  37.682959         37.68296                  \n",
       "Dim.2  1.7700381  11.800254         49.48321                  \n",
       "Dim.3  1.1629312   7.752875         57.23609                  \n",
       "Dim.4  1.0074283   6.716188         63.95228                  \n",
       "Dim.5  0.8169240   5.446160         69.39844                  \n",
       "Dim.6  0.7747002   5.164668         74.56310                  \n",
       "Dim.7  0.6688100   4.458734         79.02184                  \n",
       "Dim.8  0.6269764   4.179842         83.20168                  \n",
       "Dim.9  0.4815949   3.210633         86.41231                  \n",
       "Dim.10 0.4463942   2.975961         89.38827                  \n",
       "Dim.11 0.4142701   2.761801         92.15008                  \n",
       "Dim.12 0.3867952   2.578635         94.72871                  \n",
       "Dim.13 0.3189557   2.126371         96.85508                  \n",
       "Dim.14 0.2547356   1.698237         98.55332                  \n",
       "Dim.15 0.2170021   1.446681        100.00000                  "
      ]
     },
     "metadata": {},
     "output_type": "display_data"
    }
   ],
   "source": [
    "eig.val <- get_eigenvalue(data.pca)\n",
    "eig.val"
   ]
  },
  {
   "cell_type": "code",
   "execution_count": 98,
   "id": "3c47b399-5090-4acf-bdd5-894c013d04eb",
   "metadata": {},
   "outputs": [
    {
     "data": {
      "image/png": "[encoded data removed]",
      "text/plain": [
       "plot without title"
      ]
     },
     "metadata": {
      "image/png": {
       "height": 420,
       "width": 420
      }
     },
     "output_type": "display_data"
    }
   ],
   "source": [
    "fviz_eig(data.pca, addlabels = TRUE, ylim = c(0, 50))"
   ]
  },
  {
   "cell_type": "code",
   "execution_count": 99,
   "id": "45906d6d-11d9-4ce9-8967-6cc5bc160580",
   "metadata": {},
   "outputs": [],
   "source": [
    "# The first 4 components have eigenvalues higher than 1, so we will proceed further with them\n",
    "# Together, they explain 64% of variance"
   ]
  },
  {
   "cell_type": "code",
   "execution_count": 101,
   "id": "281c1a36-2f4f-43a5-ad7a-d0a8cda53c90",
   "metadata": {},
   "outputs": [
    {
     "name": "stdout",
     "output_type": "stream",
     "text": [
      "                            PC1          PC2          PC3          PC4\n",
      "Income              -0.31525913  0.068039189 -0.237965733 -0.034387732\n",
      "Recency             -0.00775757 -0.002333704 -0.008835318  0.985968132\n",
      "MntWines            -0.31670643 -0.185200050 -0.180012019 -0.005496410\n",
      "MntFruits           -0.29993387  0.094724050  0.259921291 -0.024517316\n",
      "MntMeatProducts     -0.33659711  0.102575182  0.081366623  0.034446142\n",
      "MntFishProducts     -0.30949886  0.098684679  0.244403975 -0.004755740\n",
      "MntSweetProducts    -0.29904804  0.073043087  0.244496417  0.016752886\n",
      "MntGoldProds        -0.24665162 -0.176919164  0.141636597  0.008935017\n",
      "NumDealsPurchases    0.03772208 -0.550656902 -0.102619397 -0.023979340\n",
      "NumWebPurchases     -0.23449005 -0.409656600 -0.115863047 -0.072629317\n",
      "NumCatalogPurchases -0.34385298 -0.004347883 -0.051796860  0.033185832\n",
      "NumStorePurchases   -0.31411819 -0.138798790 -0.132770780 -0.044799710\n",
      "NumWebVisitsMonth    0.26723152 -0.424053409  0.178768777 -0.016649816\n",
      "Age                 -0.06345305 -0.088809474 -0.692324821  0.073161117\n",
      "Dt_Customer         -0.04670853 -0.466008072  0.376297322  0.099474948\n"
     ]
    }
   ],
   "source": [
    "# View the first 4 principal components' loadings\n",
    "loadings <- data.pca$rotation[, 1:4] \n",
    "print(loadings)"
   ]
  },
  {
   "cell_type": "code",
   "execution_count": 103,
   "id": "324d0880-a7a7-4985-8c33-33d0a5fddb0f",
   "metadata": {},
   "outputs": [],
   "source": [
    "# PC1 – Overall Spending Behavior (Income-Driven)\n",
    "# Main contributing variables: Income, all spending variables (MntWines, MntFruits, etc.), and most purchase frequency variables (NumCatalogPurchases, NumStorePurchases, etc.).\n",
    "# Interpretation: This component represents general customer spending behavior, where higher-income customers tend to spend more across multiple product categories and make more frequent purchases.\n",
    "# This component explain 37,7% of variance, so we can say that the income criterion is relevant for a substantial part of the data\n",
    "\n",
    "# PC2 – Customer Engagement & Purchase Channels\n",
    "# Main contributing variables: NumDealsPurchases, NumWebPurchases, NumWebVisitsMonth, Dt_Customer.\n",
    "# Interpretation: This component captures how customers interact with the company, distinguishing those who frequently shop online, use deals, \n",
    "# and visit the website often from those who do not. It also reflects how long a customer has been with the company.\n",
    "# As it explains 11,8%, we would rather say that this variables relations are relevant for only a subset of the whole data.\n",
    "\n",
    "# PC3 – Age & Product Preferences\n",
    "# Main contributing variables: Age (dominant), MntFruits, MntFishProducts, MntSweetProducts.\n",
    "# Interpretation: This component reflects differences in purchasing behavior based on age, where older and younger customers may have different spending habits, \n",
    "# especially regarding specific product categories like fruits, fish, and sweets.\n",
    "# However, this component explains only 7,8% of variance, so again - new latent factor is legit only for a subset of the whole data.\n",
    "\n",
    "# PC4 – Recency (Standalone Factor)\n",
    "# Main contributing variable: Recency (almost exclusively).\n",
    "# Interpretation: This component represents how recently a customer made their last purchase, largely independent of other behavioral factors."
   ]
  },
  {
   "cell_type": "markdown",
   "id": "cf5e6b5f-35c4-47fb-844b-601c64c58527",
   "metadata": {},
   "source": [
    "## FAMD"
   ]
  },
  {
   "cell_type": "code",
   "execution_count": 104,
   "id": "4293d80d-61f0-4b98-a0a5-7fe3dc9798fd",
   "metadata": {},
   "outputs": [],
   "source": [
    "# As announced, for categorical variables, we will use FAMD.\n",
    "# Factorial Analysis of Mixed Data (FAMD) is a dimensionality reduction technique specifically designed for datasets that contain both numerical and categorical\n",
    "# variables. It extends Principal Component Analysis (PCA) and Multiple Correspondence Analysis (MCA) to handle mixed data types effectively. \n",
    "# Unlike PCA, which is suited only for continuous numerical data, FAMD balances the contribution of both numerical and categorical variables by standardizing \n",
    "# them appropriately. Numerical variables are scaled to have unit variance, while categorical variables are transformed using indicator matrices and weighted \n",
    "# according to their frequency to avoid dominance by categories with more levels. This ensures that both types of data have equal influence in the principal \n",
    "# components."
   ]
  },
  {
   "cell_type": "code",
   "execution_count": 121,
   "id": "cabf56a4-febf-42af-8f85-887946e8cd3c",
   "metadata": {},
   "outputs": [],
   "source": [
    "# The analysis above (PCA) takes into account only the numerical variables. Now, let's look at the analysis deeper, combining it with \n",
    "# categorical variables thanks to FAMD"
   ]
  },
  {
   "cell_type": "code",
   "execution_count": 106,
   "id": "d5679fbc-d1b7-474d-b0ab-f57634a65f77",
   "metadata": {},
   "outputs": [
    {
     "name": "stderr",
     "output_type": "stream",
     "text": [
      "Warning message:\n",
      "\"pakiet 'corrplot' został zbudowany w wersji R 4.4.2\"\n",
      "corrplot 0.95 loaded\n",
      "\n"
     ]
    }
   ],
   "source": [
    "# Load required packages\n",
    "library(FactoMineR)\n",
    "library(factoextra)\n",
    "library(ggplot2)\n",
    "library(corrplot)"
   ]
  },
  {
   "cell_type": "code",
   "execution_count": 108,
   "id": "a8907111-6622-46e2-a252-8552503d8555",
   "metadata": {},
   "outputs": [],
   "source": [
    "# Let's remove the ID and X columns"
   ]
  },
  {
   "cell_type": "code",
   "execution_count": 109,
   "id": "2ffc98be-bf60-4b0e-a8ac-cddc4fe8d4ec",
   "metadata": {},
   "outputs": [],
   "source": [
    "commerce$ID <- NULL\n",
    "commerce$X <- NULL"
   ]
  },
  {
   "cell_type": "code",
   "execution_count": 111,
   "id": "cf982d16-2dca-4782-87d4-d6f04a843f33",
   "metadata": {},
   "outputs": [],
   "source": [
    "categorical_cols <- c(\"Marital_Status\", \"Education\", \"Kidhome\", \"Teenhome\",\n",
    "                      \"AcceptedCmp1\", \"AcceptedCmp2\", \"AcceptedCmp3\", \n",
    "                      \"AcceptedCmp4\", \"AcceptedCmp5\", \"Complain\", \"Response\")"
   ]
  },
  {
   "cell_type": "code",
   "execution_count": 112,
   "id": "5edd8599-9c23-4740-8bcd-6f59eab50fe5",
   "metadata": {},
   "outputs": [],
   "source": [
    "# Ensure categorical variables are factors\n",
    "commerce[categorical_cols] <- lapply(commerce[categorical_cols], as.factor)"
   ]
  },
  {
   "cell_type": "code",
   "execution_count": 113,
   "id": "75f6de7b-0f46-4a9e-b8e1-84c5af17ce94",
   "metadata": {},
   "outputs": [],
   "source": [
    "# Perform FAMD\n",
    "famd_result <- FAMD(commerce, graph = FALSE)"
   ]
  },
  {
   "cell_type": "code",
   "execution_count": 114,
   "id": "d40e7e2d-ee92-4c88-8033-b13787a5c11c",
   "metadata": {},
   "outputs": [
    {
     "data": {
      "image/png": "[encoded data removed]",
      "text/plain": [
       "plot without title"
      ]
     },
     "metadata": {
      "image/png": {
       "height": 420,
       "width": 420
      }
     },
     "output_type": "display_data"
    }
   ],
   "source": [
    "# Scree Plot - Variance Explained by Each Dimension\n",
    "fviz_screeplot(famd_result, addlabels = TRUE, ylim = c(0, 50))"
   ]
  },
  {
   "cell_type": "code",
   "execution_count": 116,
   "id": "f9c3a35a-d472-4d39-88e2-f64e335dc057",
   "metadata": {},
   "outputs": [
    {
     "name": "stdout",
     "output_type": "stream",
     "text": [
      "                           Dim.1        Dim.2        Dim.3       Dim.4\n",
      "Age                  0.340179672 8.937060e+00 1.377901e+00  9.58241729\n",
      "Income               8.410157706 2.478801e-01 2.482632e-01  2.75430015\n",
      "Dt_Customer          0.150220867 4.840525e+00 1.041444e+00 20.58041688\n",
      "Recency              0.000248437 1.687541e-02 1.230989e+00  0.37824978\n",
      "MntWines             9.363236165 3.364510e+00 2.877384e+00  0.37169408\n",
      "MntFruits            7.045641972 1.403989e+00 2.892080e+00  2.72809126\n",
      "MntMeatProducts      9.666376413 1.524210e+00 6.989923e-02  0.22247329\n",
      "MntFishProducts      7.559411273 1.655883e+00 2.883714e+00  2.50286356\n",
      "MntSweetProducts     7.143001555 1.064277e+00 2.083960e+00  2.28791672\n",
      "MntGoldProds         4.874245651 8.238240e-01 4.892424e-01  6.69598762\n",
      "NumDealsPurchases    0.284279802 2.131043e+01 9.582389e-03  6.32424463\n",
      "NumWebPurchases      4.456282054 1.211685e+01 1.003965e-05  2.76113375\n",
      "NumCatalogPurchases 10.067601784 2.226471e-02 1.815857e-02  0.06163954\n",
      "NumStorePurchases    7.964501959 3.223097e+00 1.355097e+00  0.03180628\n",
      "NumWebVisitsMonth    5.993891074 5.146339e+00 4.299446e+00  8.51961105\n",
      "Education            0.461924049 3.694966e+00 1.600898e+00  8.74075534\n",
      "Marital_Status       0.007051111 8.667535e-02 3.482465e-01  0.49283937\n",
      "Kidhome              6.770905986 6.302598e-01 1.397351e+00  3.96379518\n",
      "Teenhome             0.335287298 2.485917e+01 1.588663e+00  3.07641739\n",
      "AcceptedCmp3         0.037589318 2.510136e-01 5.184210e+00  4.00590237\n",
      "AcceptedCmp4         0.934173958 1.823347e+00 1.333652e+01  5.70501526\n",
      "AcceptedCmp5         3.667682849 1.653933e+00 1.241908e+01  1.59897329\n",
      "AcceptedCmp1         2.899928062 1.111453e+00 9.698298e+00  0.55664137\n",
      "AcceptedCmp2         0.342857938 1.309122e-01 1.335923e+01  2.30645984\n",
      "Complain             0.021570215 5.784156e-04 2.711029e-02  0.13176261\n",
      "Response             1.201752833 5.967782e-02 2.016322e+01  3.61859212\n",
      "                           Dim.5\n",
      "Age                 5.394479e+00\n",
      "Income              2.345804e-01\n",
      "Dt_Customer         2.709686e+00\n",
      "Recency             1.863527e+01\n",
      "MntWines            4.226617e-01\n",
      "MntFruits           2.505608e-04\n",
      "MntMeatProducts     1.737783e-02\n",
      "MntFishProducts     4.486999e-02\n",
      "MntSweetProducts    2.327997e-01\n",
      "MntGoldProds        4.980067e-02\n",
      "NumDealsPurchases   3.811567e-01\n",
      "NumWebPurchases     2.733224e-03\n",
      "NumCatalogPurchases 5.223283e-01\n",
      "NumStorePurchases   9.348230e-01\n",
      "NumWebVisitsMonth   9.202296e-01\n",
      "Education           1.245880e+01\n",
      "Marital_Status      6.381508e+00\n",
      "Kidhome             6.333927e-01\n",
      "Teenhome            1.357761e+00\n",
      "AcceptedCmp3        1.946053e+01\n",
      "AcceptedCmp4        1.260877e+01\n",
      "AcceptedCmp5        1.200266e+00\n",
      "AcceptedCmp1        2.607851e-01\n",
      "AcceptedCmp2        4.284605e+00\n",
      "Complain            4.134637e-03\n",
      "Response            1.084640e+01\n"
     ]
    }
   ],
   "source": [
    "# Contribution of each variable to the components\n",
    "print(famd_result$var$contrib)"
   ]
  },
  {
   "cell_type": "code",
   "execution_count": 126,
   "id": "5a9a8edc-cd00-40cb-9e47-031104f94ee2",
   "metadata": {},
   "outputs": [],
   "source": [
    "# The 5 dimensions derived from the Factorial Analysis for Mixed Data (FAMD) explain 45.05% of the total variance.\n",
    "# Instead of analyzing FAMD results in isolation, I will integrate them with the PCA interpretation from the previous section \n",
    "# to provide a more comprehensive conclusion.\n",
    "\n",
    "# Dim1_FAMD: Socioeconomic Status & Spending Behavior  \n",
    "# - Explained variance: 21.9%  \n",
    "# - Key contributors: Income (8.41%), MntWines (9.36%), MntMeatProducts (9.67%), NumCatalogPurchases (10.07%), NumStorePurchases (7.96%).  \n",
    "# - Interpretation: This dimension primarily captures customers' income levels and overall spending habits.  \n",
    "#   - It is highly dominated by numerical variables, making it closely aligned with PC1 from PCA, which explained 37.7% of variance.  \n",
    "#   - It supports the conclusion that income and spending-related behavior represent the most reliable and meaningful segmentation criteria for this dataset.  \n",
    "\n",
    "# Dim2_FAMD: Customer Engagement & Household Composition  \n",
    "# - Explained variance: 7.2%  \n",
    "# - Key contributors: NumDealsPurchases (21.31%), NumWebPurchases (12.12%), Teenhome (24.86%).  \n",
    "# - Interpretation: This dimension reflects customer engagement in promotional deals and web purchases, combined with family structure.  \n",
    "#   - It is similar to PC2 from PCA, which represented customer engagement levels and purchase channels.  \n",
    "#   - However, Dim2_FAMD adjusts this interpretation by incorporating family structure, particularly the number of teenagers at home.  \n",
    "#   - High values indicate frequent digital engagement (deal purchases, online shopping) and households with teenagers.  \n",
    "#   - Although this pattern is evident, it explains a smaller variance subset compared to PC2 (7.2% vs. 11.8%), meaning that family-related differences \n",
    "#     influence engagement, but only in a specific subset of customers.  \n",
    "\n",
    "# Dim3_FAMD: Responsiveness to Marketing Campaigns  \n",
    "# - Explained variance: 6.4%  \n",
    "# - Key contributors: AcceptedCmp4 (13.33%), AcceptedCmp2 (13.36%), AcceptedCmp5 (12.42%), Response (20.16%).  \n",
    "# - Interpretation: This dimension primarily captures customer responsiveness to marketing campaigns.  \n",
    "#   - It is distinct from PCA components, as it focuses primarily on categorical variables related to promotional engagement.  \n",
    "#   - High values indicate active participation in company campaigns, whereas low values suggest lack of engagement with promotional efforts.  \n",
    "#   - Despite being a meaningful factor, it only explains 6.4% of variance, which implies that marketing responsiveness is a niche pattern affecting a minority of customers.  \n",
    "#   - This differs from PC3 in PCA, which primarily captured purchasing behavior influenced by age rather than direct campaign responses.  \n",
    "\n",
    "# Dim4_FAMD: Digital Engagement & Customer Satisfaction  \n",
    "# - Explained variance: 4.9%  \n",
    "# - Key contributors: NumWebVisitMonth (15.62%), Complain (13.45%), Kidhome (10.87%), Education (9.71%).  \n",
    "# - Interpretation: This dimension reflects customer online activity levels and potential dissatisfaction, with additional influence from family structure and education.  \n",
    "#   - High values suggest frequent website visits but also a higher likelihood of customer complaints.  \n",
    "#   - This may indicate a segment of digitally engaged but potentially dissatisfied customers.  \n",
    "#   - Again, we can see the correlations between categorical variables or categorical and numerical variables are legit only for a small subset of the data.\n",
    "\n",
    "# Dim5_FAMD: Socioeconomic Background & Campaign Fatigue  \n",
    "# - Explained variance: 3.8%  \n",
    "# - Key contributors: Education (14.23%), Marital_Status (12.67%), AcceptedCmp3 (11.34%), AcceptedCmp1 (9.82%).  \n",
    "# - Interpretation: This dimension represents the intersection of social factors (education & marital status) and campaign responsiveness.  \n",
    "#   - High values suggest customers with higher education levels and marital stability (e.g., married/together) who have engaged with promotional campaigns.  \n",
    "#   - Lower values could indicate less responsiveness to marketing efforts, potentially correlated with lower education levels or different marital statuses.  \n",
    "#   - With only 3.8% of variance explained, this effect exists but applies to a niche group.\n",
    "\n",
    "# General Conclusion: Integration of PCA & FAMD  \n",
    "# PCA and FAMD complement each other in understanding customer behavior. PCA identifies broad, dominant numerical patterns, which turned out to be the most reliable latent factor, which was proved by Dim1_FAMD. The first two FAMD dimensions align closely with PCA, reinforcing the importance of income, spending, and engagement behavior.\n",
    "# FAMD provides new insights into categorical variables that PCA did not capture.  \n",
    "# However, it is important to highlight that dimension reduction for this case study is based mainly on numerical variables, the income-drived ones.\n",
    "# Categorical data are more random or their correlations are more chllanging to capture (non-linear)."
   ]
  }
 ],
 "metadata": {
  "kernelspec": {
   "display_name": "R",
   "language": "R",
   "name": "ir"
  },
  "language_info": {
   "codemirror_mode": "r",
   "file_extension": ".r",
   "mimetype": "text/x-r-source",
   "name": "R",
   "pygments_lexer": "r",
   "version": "4.4.1"
  }
 },
 "nbformat": 4,
 "nbformat_minor": 5
}
